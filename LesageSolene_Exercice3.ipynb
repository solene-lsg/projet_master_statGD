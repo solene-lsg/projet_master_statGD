{
 "cells": [
  {
   "attachments": {},
   "cell_type": "markdown",
   "metadata": {
    "id": "iqk0Q_0mx3ya"
   },
   "source": [
    "# Statistique en Grande Dimension et Apprentissage - Data Challenge\n",
    "\n",
    "Solène Lesage\n",
    "Chloé Douarec\n",
    "Meriem Becheikh"
   ]
  },
  {
   "cell_type": "markdown",
   "metadata": {
    "id": "iKXsBaJ9x3yd"
   },
   "source": [
    "Il s'agit d'un challenge disponible à l'adresse : https://challengedata.ens.fr/participants/challenges/67/ proposé par l'ENS."
   ]
  },
  {
   "cell_type": "markdown",
   "metadata": {
    "id": "w97akQjtx3ye"
   },
   "source": [
    "L'objectif est de prévoir les \"surge\" dans deux villes côtières d'Europe occidentale.<br>\n",
    "Nous nous plaçons dans une configuration de prévision : connaissant les valeurs de surge et le champ de pression au niveau de la mer des 5 derniers jours, nous voulons prédire les valeurs de surge des 5 prochains jours. Il s'agit donc d'un problème de prédiction de séries temporelles. "
   ]
  },
  {
   "cell_type": "markdown",
   "metadata": {
    "id": "0F5sRRJux3yg"
   },
   "source": [
    "# Outils utilisés"
   ]
  },
  {
   "cell_type": "markdown",
   "metadata": {
    "id": "fl8rKufSx3yi"
   },
   "source": [
    "## Packages"
   ]
  },
  {
   "cell_type": "code",
   "execution_count": 1,
   "metadata": {
    "id": "kPFdOKfPx3yj"
   },
   "outputs": [],
   "source": [
    "import numpy as np\n",
    "import pandas as pd\n",
    "import matplotlib.pyplot as plt \n",
    "\n",
    "import warnings\n",
    "warnings.filterwarnings(\"ignore\")"
   ]
  },
  {
   "cell_type": "markdown",
   "metadata": {
    "id": "fv8tNer-x3yj"
   },
   "source": [
    "## Métrique utilisée : MSE avec poids"
   ]
  },
  {
   "cell_type": "code",
   "execution_count": 2,
   "metadata": {
    "id": "CIcidF-mx3yk"
   },
   "outputs": [],
   "source": [
    "def surge_prediction_metric(y_true, y_pred):\n",
    "    \"\"\"\n",
    "    Métrique utilisée pour mesurer la qualité de la prévision. \n",
    "    Les scores de prédictions pour les deux villes sont calculées indépendamment, et la perte finale est leur somme.\n",
    "    Prend des dataframes en entrée.\n",
    "    \"\"\"\n",
    "    w = np.linspace(1, 0.1, 10)[np.newaxis]\n",
    "    surge1_cols = [\n",
    "        'surge1_t0', 'surge1_t1', 'surge1_t2', 'surge1_t3', 'surge1_t4',\n",
    "        'surge1_t5', 'surge1_t6', 'surge1_t7', 'surge1_t8', 'surge1_t9' ]\n",
    "    surge2_cols = [\n",
    "        'surge2_t0', 'surge2_t1', 'surge2_t2', 'surge2_t3', 'surge2_t4',\n",
    "        'surge2_t5', 'surge2_t6', 'surge2_t7', 'surge2_t8', 'surge2_t9' ]\n",
    "    surge1_score = (w * (y_true[surge1_cols].values - y_pred[surge1_cols].values)**2).mean()\n",
    "    surge2_score = (w * (y_true[surge2_cols].values - y_pred[surge2_cols].values)**2).mean()\n",
    "\n",
    "    return surge1_score + surge2_score"
   ]
  },
  {
   "cell_type": "markdown",
   "metadata": {
    "id": "uS2dTy3vx3yl"
   },
   "source": [
    "Les valeurs de surge étant normalisées, $1-ℓ$ peut être vu comme un pourcentage de variance expliquée. Avec une prédiction zéro triviale de toutes les valeurs, le score est $ℓ≈1$, ce qui signifie que nous expliquons 0 % de la variance. Un score supérieur à 1 est donc pire que la prédiction nulle et peut être considéré comme mauvais."
   ]
  },
  {
   "cell_type": "markdown",
   "metadata": {
    "id": "j9MEcM6Ix3ym"
   },
   "source": [
    "# Description des données"
   ]
  },
  {
   "cell_type": "markdown",
   "metadata": {
    "id": "EhZ468YKx3yn"
   },
   "source": [
    "L'entrée X est codée au format numpy .npz et se compose de :\n",
    "\n",
    "- id_séquence : les ids de la séquence\n",
    "- t_slp : les 40 heures GMT auxquelles les champs de pression au niveau de la mer (SLP) sont donnés.\n",
    "- slp : les 40 champs de pression au niveau de la mer (SLP), encodés dans des images de taille (41, 41).\n",
    "- t_surge1_input : les 10 heures GMT auxquelles sont données les hauteurs de surge dans la ville 1.\n",
    "- surge1_input : les hauteurs de surge données dans la ville 1.\n",
    "- t_surge2_input : les 10 heures GMT auxquelles les hauteurs de surge sont données dans la ville 2.\n",
    "- surge2_input : les hauteurs de surge données dans la ville 2.\n",
    "- t_surge1_output : les 10 heures GMT auxquelles nous devons prédire les hauteurs de surge dans la ville 1.\n",
    "- t_surge2_output : les 10 heures GMT auxquelles nous devons prévoir les hauteurs de surge dans la ville 2.\n"
   ]
  },
  {
   "cell_type": "code",
   "execution_count": 3,
   "metadata": {
    "id": "oak4HfFZx3yo"
   },
   "outputs": [],
   "source": [
    "import numpy \n",
    "X_train = np.load('X_train_surge_new.npz')\n",
    "Y_train = pd.read_csv('Y_train_surge.csv')\n",
    "X_test = np.load('X_test_surge_new.npz')\n",
    "\n",
    "surge_train = np.array(Y_train)[:,1:]\n",
    "slp = X_train['slp']"
   ]
  },
  {
   "cell_type": "code",
   "execution_count": 4,
   "metadata": {
    "id": "TJaAlldj-e6W"
   },
   "outputs": [
    {
     "data": {
      "text/html": [
       "<div>\n",
       "<style scoped>\n",
       "    .dataframe tbody tr th:only-of-type {\n",
       "        vertical-align: middle;\n",
       "    }\n",
       "\n",
       "    .dataframe tbody tr th {\n",
       "        vertical-align: top;\n",
       "    }\n",
       "\n",
       "    .dataframe thead th {\n",
       "        text-align: right;\n",
       "    }\n",
       "</style>\n",
       "<table border=\"1\" class=\"dataframe\">\n",
       "  <thead>\n",
       "    <tr style=\"text-align: right;\">\n",
       "      <th></th>\n",
       "      <th>id_sequence</th>\n",
       "      <th>t_slp</th>\n",
       "      <th>slp</th>\n",
       "      <th>t_surge1_input</th>\n",
       "      <th>surge1_input</th>\n",
       "      <th>t_surge2_input</th>\n",
       "      <th>surge2_input</th>\n",
       "      <th>t_surge1_output</th>\n",
       "      <th>t_surge2_output</th>\n",
       "    </tr>\n",
       "  </thead>\n",
       "  <tbody>\n",
       "    <tr>\n",
       "      <th>0</th>\n",
       "      <td>1</td>\n",
       "      <td>[-631076400.0, -631065600.0, -631054800.0, -63...</td>\n",
       "      <td>[[[102389.25, 102458.25, 102514.25, 102554.25,...</td>\n",
       "      <td>[-631108800.0, -631065600.0, -631018800.0, -63...</td>\n",
       "      <td>[-0.54593754, 0.13110517, 0.31880018, 0.194787...</td>\n",
       "      <td>[-631101600.0, -631058400.0, -631015200.0, -63...</td>\n",
       "      <td>[-0.41432458, -1.0094675, -1.2022604, -1.19387...</td>\n",
       "      <td>[-630662400.0, -630619200.0, -630576000.0, -63...</td>\n",
       "      <td>[-630658800.0, -630615600.0, -630568800.0, -63...</td>\n",
       "    </tr>\n",
       "    <tr>\n",
       "      <th>1</th>\n",
       "      <td>2</td>\n",
       "      <td>[-630979200.0, -630968400.0, -630957600.0, -63...</td>\n",
       "      <td>[[[101895.6, 101970.6, 102032.6, 102077.6, 102...</td>\n",
       "      <td>[-631018800.0, -630975600.0, -630928800.0, -63...</td>\n",
       "      <td>[0.31880018, 0.19478741, -0.22752637, -0.40181...</td>\n",
       "      <td>[-631015200.0, -630968400.0, -630925200.0, -63...</td>\n",
       "      <td>[-1.2022604, -1.193878, -1.1435843, -0.8166747...</td>\n",
       "      <td>[-630576000.0, -630532800.0, -630486000.0, -63...</td>\n",
       "      <td>[-630568800.0, -630525600.0, -630482400.0, -63...</td>\n",
       "    </tr>\n",
       "    <tr>\n",
       "      <th>2</th>\n",
       "      <td>3</td>\n",
       "      <td>[-630892800.0, -630882000.0, -630871200.0, -63...</td>\n",
       "      <td>[[[101661.24, 101700.24, 101774.24, 101849.24,...</td>\n",
       "      <td>[-630928800.0, -630885600.0, -630842400.0, -63...</td>\n",
       "      <td>[-0.22752637, -0.4018146, -0.87440383, -0.6397...</td>\n",
       "      <td>[-630925200.0, -630882000.0, -630835200.0, -63...</td>\n",
       "      <td>[-1.1435843, -0.81667477, -0.7579987, -0.12932...</td>\n",
       "      <td>[-630486000.0, -630442800.0, -630399600.0, -63...</td>\n",
       "      <td>[-630482400.0, -630435600.0, -630392400.0, -63...</td>\n",
       "    </tr>\n",
       "    <tr>\n",
       "      <th>3</th>\n",
       "      <td>4</td>\n",
       "      <td>[-630806400.0, -630795600.0, -630784800.0, -63...</td>\n",
       "      <td>[[[101366.41, 101393.41, 101476.41, 101577.41,...</td>\n",
       "      <td>[-630842400.0, -630799200.0, -630752400.0, -63...</td>\n",
       "      <td>[-0.87440383, -0.63978505, -1.0755056, -1.7123...</td>\n",
       "      <td>[-630835200.0, -630792000.0, -630748800.0, -63...</td>\n",
       "      <td>[-0.7579987, -0.12932655, -0.17962031, -0.3724...</td>\n",
       "      <td>[-630399600.0, -630352800.0, -630309600.0, -63...</td>\n",
       "      <td>[-630392400.0, -630349200.0, -630302400.0, -63...</td>\n",
       "    </tr>\n",
       "    <tr>\n",
       "      <th>4</th>\n",
       "      <td>5</td>\n",
       "      <td>[-630720000.0, -630709200.0, -630698400.0, -63...</td>\n",
       "      <td>[[[101245.49, 101220.49, 101209.49, 101225.49,...</td>\n",
       "      <td>[-630752400.0, -630709200.0, -630662400.0, -63...</td>\n",
       "      <td>[-1.0755056, -1.712328, 0.58693594, 1.0695802,...</td>\n",
       "      <td>[-630748800.0, -630702000.0, -630658800.0, -63...</td>\n",
       "      <td>[-0.17962031, -0.3724131, -0.05388589, 0.35684...</td>\n",
       "      <td>[-630309600.0, -630266400.0, -630219600.0, -63...</td>\n",
       "      <td>[-630302400.0, -630259200.0, -630212400.0, -63...</td>\n",
       "    </tr>\n",
       "    <tr>\n",
       "      <th>...</th>\n",
       "      <td>...</td>\n",
       "      <td>...</td>\n",
       "      <td>...</td>\n",
       "      <td>...</td>\n",
       "      <td>...</td>\n",
       "      <td>...</td>\n",
       "      <td>...</td>\n",
       "      <td>...</td>\n",
       "      <td>...</td>\n",
       "    </tr>\n",
       "    <tr>\n",
       "      <th>5594</th>\n",
       "      <td>5595</td>\n",
       "      <td>[1287478800.0, 1287489500.0, 1287500400.0, 128...</td>\n",
       "      <td>[[[101470.0, 101486.0, 101501.0, 101517.0, 101...</td>\n",
       "      <td>[1287442800.0, 1287486000.0, 1287532800.0, 128...</td>\n",
       "      <td>[1.9376696, 1.6092033, 0.86177504, 1.2974956, ...</td>\n",
       "      <td>[1287450000.0, 1287493200.0, 1287540000.0, 128...</td>\n",
       "      <td>[0.021554768, 0.62508005, 0.39037576, 0.457434...</td>\n",
       "      <td>[1287885600.0, 1287932400.0, 1287972000.0, 128...</td>\n",
       "      <td>[1287892700.0, 1287936000.0, 1287979300.0, 128...</td>\n",
       "    </tr>\n",
       "    <tr>\n",
       "      <th>5595</th>\n",
       "      <td>5596</td>\n",
       "      <td>[1287565200.0, 1287576000.0, 1287586800.0, 128...</td>\n",
       "      <td>[[[101663.87, 101650.87, 101641.87, 101635.87,...</td>\n",
       "      <td>[1287532800.0, 1287576000.0, 1287619200.0, 128...</td>\n",
       "      <td>[0.86177504, 1.2974956, 0.50984687, 0.87518185...</td>\n",
       "      <td>[1287540000.0, 1287583200.0, 1287626400.0, 128...</td>\n",
       "      <td>[0.39037576, 0.45743412, 0.28140593, 0.4322872...</td>\n",
       "      <td>[1287972000.0, 1288018800.0, 1288062000.0, 128...</td>\n",
       "      <td>[1287979300.0, 1288022400.0, 1288069200.0, 128...</td>\n",
       "    </tr>\n",
       "    <tr>\n",
       "      <th>5596</th>\n",
       "      <td>5597</td>\n",
       "      <td>[1287651600.0, 1287662300.0, 1287673200.0, 128...</td>\n",
       "      <td>[[[101876.15, 101838.15, 101801.15, 101765.15,...</td>\n",
       "      <td>[1287619200.0, 1287666000.0, 1287705600.0, 128...</td>\n",
       "      <td>[0.50984687, 0.87518185, 1.8505255, 1.193593, ...</td>\n",
       "      <td>[1287626400.0, 1287669600.0, 1287716400.0, 128...</td>\n",
       "      <td>[0.28140593, 0.43228725, 0.15567149, 0.2478767...</td>\n",
       "      <td>[1288062000.0, 1288108800.0, 1288152000.0, 128...</td>\n",
       "      <td>[1288069200.0, 1288112400.0, 1288155600.0, 128...</td>\n",
       "    </tr>\n",
       "    <tr>\n",
       "      <th>5597</th>\n",
       "      <td>5598</td>\n",
       "      <td>[1287738000.0, 1287748900.0, 1287759600.0, 128...</td>\n",
       "      <td>[[[102152.04, 102120.04, 102085.04, 102047.04,...</td>\n",
       "      <td>[1287705600.0, 1287752400.0, 1287795600.0, 128...</td>\n",
       "      <td>[1.8505255, 1.193593, 1.3980465, 1.7801399, 1....</td>\n",
       "      <td>[1287716400.0, 1287759600.0, 1287802800.0, 128...</td>\n",
       "      <td>[0.15567149, 0.24787673, 0.41552263, 0.5412571...</td>\n",
       "      <td>[1288152000.0, 1288195200.0, 1288242000.0, 128...</td>\n",
       "      <td>[1288155600.0, 1288202400.0, 1288245600.0, 128...</td>\n",
       "    </tr>\n",
       "    <tr>\n",
       "      <th>5598</th>\n",
       "      <td>5599</td>\n",
       "      <td>[1287835100.0, 1287846000.0, 1287856800.0, 128...</td>\n",
       "      <td>[[[102387.97, 102371.97, 102349.97, 102320.97,...</td>\n",
       "      <td>[1287795600.0, 1287842400.0, 1287885600.0, 128...</td>\n",
       "      <td>[1.3980465, 1.7801399, 1.4516736, 1.2204065, 0...</td>\n",
       "      <td>[1287802800.0, 1287846000.0, 1287892700.0, 128...</td>\n",
       "      <td>[0.41552263, 0.5412571, 0.75919676, 0.88493115...</td>\n",
       "      <td>[1288242000.0, 1288285200.0, 1288328400.0, 128...</td>\n",
       "      <td>[1288245600.0, 1288292400.0, 1288335600.0, 128...</td>\n",
       "    </tr>\n",
       "  </tbody>\n",
       "</table>\n",
       "<p>5599 rows × 9 columns</p>\n",
       "</div>"
      ],
      "text/plain": [
       "     id_sequence                                              t_slp  \\\n",
       "0              1  [-631076400.0, -631065600.0, -631054800.0, -63...   \n",
       "1              2  [-630979200.0, -630968400.0, -630957600.0, -63...   \n",
       "2              3  [-630892800.0, -630882000.0, -630871200.0, -63...   \n",
       "3              4  [-630806400.0, -630795600.0, -630784800.0, -63...   \n",
       "4              5  [-630720000.0, -630709200.0, -630698400.0, -63...   \n",
       "...          ...                                                ...   \n",
       "5594        5595  [1287478800.0, 1287489500.0, 1287500400.0, 128...   \n",
       "5595        5596  [1287565200.0, 1287576000.0, 1287586800.0, 128...   \n",
       "5596        5597  [1287651600.0, 1287662300.0, 1287673200.0, 128...   \n",
       "5597        5598  [1287738000.0, 1287748900.0, 1287759600.0, 128...   \n",
       "5598        5599  [1287835100.0, 1287846000.0, 1287856800.0, 128...   \n",
       "\n",
       "                                                    slp  \\\n",
       "0     [[[102389.25, 102458.25, 102514.25, 102554.25,...   \n",
       "1     [[[101895.6, 101970.6, 102032.6, 102077.6, 102...   \n",
       "2     [[[101661.24, 101700.24, 101774.24, 101849.24,...   \n",
       "3     [[[101366.41, 101393.41, 101476.41, 101577.41,...   \n",
       "4     [[[101245.49, 101220.49, 101209.49, 101225.49,...   \n",
       "...                                                 ...   \n",
       "5594  [[[101470.0, 101486.0, 101501.0, 101517.0, 101...   \n",
       "5595  [[[101663.87, 101650.87, 101641.87, 101635.87,...   \n",
       "5596  [[[101876.15, 101838.15, 101801.15, 101765.15,...   \n",
       "5597  [[[102152.04, 102120.04, 102085.04, 102047.04,...   \n",
       "5598  [[[102387.97, 102371.97, 102349.97, 102320.97,...   \n",
       "\n",
       "                                         t_surge1_input  \\\n",
       "0     [-631108800.0, -631065600.0, -631018800.0, -63...   \n",
       "1     [-631018800.0, -630975600.0, -630928800.0, -63...   \n",
       "2     [-630928800.0, -630885600.0, -630842400.0, -63...   \n",
       "3     [-630842400.0, -630799200.0, -630752400.0, -63...   \n",
       "4     [-630752400.0, -630709200.0, -630662400.0, -63...   \n",
       "...                                                 ...   \n",
       "5594  [1287442800.0, 1287486000.0, 1287532800.0, 128...   \n",
       "5595  [1287532800.0, 1287576000.0, 1287619200.0, 128...   \n",
       "5596  [1287619200.0, 1287666000.0, 1287705600.0, 128...   \n",
       "5597  [1287705600.0, 1287752400.0, 1287795600.0, 128...   \n",
       "5598  [1287795600.0, 1287842400.0, 1287885600.0, 128...   \n",
       "\n",
       "                                           surge1_input  \\\n",
       "0     [-0.54593754, 0.13110517, 0.31880018, 0.194787...   \n",
       "1     [0.31880018, 0.19478741, -0.22752637, -0.40181...   \n",
       "2     [-0.22752637, -0.4018146, -0.87440383, -0.6397...   \n",
       "3     [-0.87440383, -0.63978505, -1.0755056, -1.7123...   \n",
       "4     [-1.0755056, -1.712328, 0.58693594, 1.0695802,...   \n",
       "...                                                 ...   \n",
       "5594  [1.9376696, 1.6092033, 0.86177504, 1.2974956, ...   \n",
       "5595  [0.86177504, 1.2974956, 0.50984687, 0.87518185...   \n",
       "5596  [0.50984687, 0.87518185, 1.8505255, 1.193593, ...   \n",
       "5597  [1.8505255, 1.193593, 1.3980465, 1.7801399, 1....   \n",
       "5598  [1.3980465, 1.7801399, 1.4516736, 1.2204065, 0...   \n",
       "\n",
       "                                         t_surge2_input  \\\n",
       "0     [-631101600.0, -631058400.0, -631015200.0, -63...   \n",
       "1     [-631015200.0, -630968400.0, -630925200.0, -63...   \n",
       "2     [-630925200.0, -630882000.0, -630835200.0, -63...   \n",
       "3     [-630835200.0, -630792000.0, -630748800.0, -63...   \n",
       "4     [-630748800.0, -630702000.0, -630658800.0, -63...   \n",
       "...                                                 ...   \n",
       "5594  [1287450000.0, 1287493200.0, 1287540000.0, 128...   \n",
       "5595  [1287540000.0, 1287583200.0, 1287626400.0, 128...   \n",
       "5596  [1287626400.0, 1287669600.0, 1287716400.0, 128...   \n",
       "5597  [1287716400.0, 1287759600.0, 1287802800.0, 128...   \n",
       "5598  [1287802800.0, 1287846000.0, 1287892700.0, 128...   \n",
       "\n",
       "                                           surge2_input  \\\n",
       "0     [-0.41432458, -1.0094675, -1.2022604, -1.19387...   \n",
       "1     [-1.2022604, -1.193878, -1.1435843, -0.8166747...   \n",
       "2     [-1.1435843, -0.81667477, -0.7579987, -0.12932...   \n",
       "3     [-0.7579987, -0.12932655, -0.17962031, -0.3724...   \n",
       "4     [-0.17962031, -0.3724131, -0.05388589, 0.35684...   \n",
       "...                                                 ...   \n",
       "5594  [0.021554768, 0.62508005, 0.39037576, 0.457434...   \n",
       "5595  [0.39037576, 0.45743412, 0.28140593, 0.4322872...   \n",
       "5596  [0.28140593, 0.43228725, 0.15567149, 0.2478767...   \n",
       "5597  [0.15567149, 0.24787673, 0.41552263, 0.5412571...   \n",
       "5598  [0.41552263, 0.5412571, 0.75919676, 0.88493115...   \n",
       "\n",
       "                                        t_surge1_output  \\\n",
       "0     [-630662400.0, -630619200.0, -630576000.0, -63...   \n",
       "1     [-630576000.0, -630532800.0, -630486000.0, -63...   \n",
       "2     [-630486000.0, -630442800.0, -630399600.0, -63...   \n",
       "3     [-630399600.0, -630352800.0, -630309600.0, -63...   \n",
       "4     [-630309600.0, -630266400.0, -630219600.0, -63...   \n",
       "...                                                 ...   \n",
       "5594  [1287885600.0, 1287932400.0, 1287972000.0, 128...   \n",
       "5595  [1287972000.0, 1288018800.0, 1288062000.0, 128...   \n",
       "5596  [1288062000.0, 1288108800.0, 1288152000.0, 128...   \n",
       "5597  [1288152000.0, 1288195200.0, 1288242000.0, 128...   \n",
       "5598  [1288242000.0, 1288285200.0, 1288328400.0, 128...   \n",
       "\n",
       "                                        t_surge2_output  \n",
       "0     [-630658800.0, -630615600.0, -630568800.0, -63...  \n",
       "1     [-630568800.0, -630525600.0, -630482400.0, -63...  \n",
       "2     [-630482400.0, -630435600.0, -630392400.0, -63...  \n",
       "3     [-630392400.0, -630349200.0, -630302400.0, -63...  \n",
       "4     [-630302400.0, -630259200.0, -630212400.0, -63...  \n",
       "...                                                 ...  \n",
       "5594  [1287892700.0, 1287936000.0, 1287979300.0, 128...  \n",
       "5595  [1287979300.0, 1288022400.0, 1288069200.0, 128...  \n",
       "5596  [1288069200.0, 1288112400.0, 1288155600.0, 128...  \n",
       "5597  [1288155600.0, 1288202400.0, 1288245600.0, 128...  \n",
       "5598  [1288245600.0, 1288292400.0, 1288335600.0, 128...  \n",
       "\n",
       "[5599 rows x 9 columns]"
      ]
     },
     "execution_count": 4,
     "metadata": {},
     "output_type": "execute_result"
    }
   ],
   "source": [
    "#Visulaiser les données en un df\n",
    "df= pd.DataFrame.from_dict({item: X_train[item] for item in X_train.files}, orient='index')\n",
    "df.T\n"
   ]
  },
  {
   "cell_type": "code",
   "execution_count": 5,
   "metadata": {
    "id": "aDSlhlcEBiCa"
   },
   "outputs": [
    {
     "data": {
      "text/plain": [
       "[<matplotlib.lines.Line2D at 0x1c38677a2d0>]"
      ]
     },
     "execution_count": 5,
     "metadata": {},
     "output_type": "execute_result"
    },
    {
     "data": {
      "image/png": "[encoded data removed]",
      "text/plain": [
       "<Figure size 640x480 with 1 Axes>"
      ]
     },
     "metadata": {},
     "output_type": "display_data"
    }
   ],
   "source": [
    "#Affihcer la inputs 1 et 2 des la premiere sequence en fonction des t_surge\n",
    "plt.plot(df[0][\"t_surge1_input\"],df[0][\"surge1_input\"])\n",
    "plt.plot(df[0][\"t_surge2_input\"],df[0][\"surge2_input\"])"
   ]
  },
  {
   "cell_type": "code",
   "execution_count": 6,
   "metadata": {
    "id": "3x0IhApux3yp"
   },
   "outputs": [
    {
     "data": {
      "text/html": [
       "<div>\n",
       "<style scoped>\n",
       "    .dataframe tbody tr th:only-of-type {\n",
       "        vertical-align: middle;\n",
       "    }\n",
       "\n",
       "    .dataframe tbody tr th {\n",
       "        vertical-align: top;\n",
       "    }\n",
       "\n",
       "    .dataframe thead th {\n",
       "        text-align: right;\n",
       "    }\n",
       "</style>\n",
       "<table border=\"1\" class=\"dataframe\">\n",
       "  <thead>\n",
       "    <tr style=\"text-align: right;\">\n",
       "      <th></th>\n",
       "      <th>Variables</th>\n",
       "    </tr>\n",
       "  </thead>\n",
       "  <tbody>\n",
       "    <tr>\n",
       "      <th>0</th>\n",
       "      <td>id_sequence</td>\n",
       "    </tr>\n",
       "    <tr>\n",
       "      <th>1</th>\n",
       "      <td>t_slp</td>\n",
       "    </tr>\n",
       "    <tr>\n",
       "      <th>2</th>\n",
       "      <td>slp</td>\n",
       "    </tr>\n",
       "    <tr>\n",
       "      <th>3</th>\n",
       "      <td>t_surge1_input</td>\n",
       "    </tr>\n",
       "    <tr>\n",
       "      <th>4</th>\n",
       "      <td>surge1_input</td>\n",
       "    </tr>\n",
       "    <tr>\n",
       "      <th>5</th>\n",
       "      <td>t_surge2_input</td>\n",
       "    </tr>\n",
       "    <tr>\n",
       "      <th>6</th>\n",
       "      <td>surge2_input</td>\n",
       "    </tr>\n",
       "    <tr>\n",
       "      <th>7</th>\n",
       "      <td>t_surge1_output</td>\n",
       "    </tr>\n",
       "    <tr>\n",
       "      <th>8</th>\n",
       "      <td>t_surge2_output</td>\n",
       "    </tr>\n",
       "  </tbody>\n",
       "</table>\n",
       "</div>"
      ],
      "text/plain": [
       "         Variables\n",
       "0      id_sequence\n",
       "1            t_slp\n",
       "2              slp\n",
       "3   t_surge1_input\n",
       "4     surge1_input\n",
       "5   t_surge2_input\n",
       "6     surge2_input\n",
       "7  t_surge1_output\n",
       "8  t_surge2_output"
      ]
     },
     "execution_count": 6,
     "metadata": {},
     "output_type": "execute_result"
    }
   ],
   "source": [
    "pd.DataFrame(X_train,columns=[\"Variables\"])"
   ]
  },
  {
   "cell_type": "markdown",
   "metadata": {
    "id": "BWwlm06mx3yp"
   },
   "source": [
    "La sortie Y est encodée dans un fichier csv avec les colonnes :\n",
    "\n",
    "- id_séquence : les ids de la séquence\n",
    "- surge1_t{0...9} : la hauteur de surge correcte dans la ville 1 au temps 0 à 9\n",
    "- surge2_t{0...9} : la hauteur de surge correcte dans la ville 2 au temps 0 à 9"
   ]
  },
  {
   "cell_type": "code",
   "execution_count": 7,
   "metadata": {
    "colab": {
     "base_uri": "https://localhost:8080/",
     "height": 266
    },
    "id": "bZlCG5nLFqCF",
    "outputId": "b25f5966-7b71-488b-c71d-088a9fb91a1a"
   },
   "outputs": [
    {
     "data": {
      "image/png": "[encoded data removed]",
      "text/plain": [
       "<Figure size 640x480 with 1 Axes>"
      ]
     },
     "metadata": {},
     "output_type": "display_data"
    }
   ],
   "source": [
    "Y_train=pd.read_csv(\"Y_train_surge.csv\")\n",
    "for i in range(3):\n",
    "  Y_train.iloc[i].drop('id_sequence').plot(legend=True)\n"
   ]
  },
  {
   "cell_type": "code",
   "execution_count": 8,
   "metadata": {
    "colab": {
     "base_uri": "https://localhost:8080/",
     "height": 488
    },
    "id": "0h3vDfWIHWiu",
    "outputId": "00b4e50a-3730-46ab-ca41-bcd84acb0410"
   },
   "outputs": [
    {
     "data": {
      "text/html": [
       "<div>\n",
       "<style scoped>\n",
       "    .dataframe tbody tr th:only-of-type {\n",
       "        vertical-align: middle;\n",
       "    }\n",
       "\n",
       "    .dataframe tbody tr th {\n",
       "        vertical-align: top;\n",
       "    }\n",
       "\n",
       "    .dataframe thead th {\n",
       "        text-align: right;\n",
       "    }\n",
       "</style>\n",
       "<table border=\"1\" class=\"dataframe\">\n",
       "  <thead>\n",
       "    <tr style=\"text-align: right;\">\n",
       "      <th></th>\n",
       "      <th>id_sequence</th>\n",
       "      <th>surge1_t0</th>\n",
       "      <th>surge1_t1</th>\n",
       "      <th>surge1_t2</th>\n",
       "      <th>surge1_t3</th>\n",
       "      <th>surge1_t4</th>\n",
       "      <th>surge1_t5</th>\n",
       "      <th>surge1_t6</th>\n",
       "      <th>surge1_t7</th>\n",
       "      <th>surge1_t8</th>\n",
       "      <th>...</th>\n",
       "      <th>surge2_t0</th>\n",
       "      <th>surge2_t1</th>\n",
       "      <th>surge2_t2</th>\n",
       "      <th>surge2_t3</th>\n",
       "      <th>surge2_t4</th>\n",
       "      <th>surge2_t5</th>\n",
       "      <th>surge2_t6</th>\n",
       "      <th>surge2_t7</th>\n",
       "      <th>surge2_t8</th>\n",
       "      <th>surge2_t9</th>\n",
       "    </tr>\n",
       "  </thead>\n",
       "  <tbody>\n",
       "    <tr>\n",
       "      <th>0</th>\n",
       "      <td>1</td>\n",
       "      <td>0.586936</td>\n",
       "      <td>1.069580</td>\n",
       "      <td>0.767928</td>\n",
       "      <td>-0.100162</td>\n",
       "      <td>0.070775</td>\n",
       "      <td>-0.244285</td>\n",
       "      <td>-0.354891</td>\n",
       "      <td>-0.928031</td>\n",
       "      <td>-0.773853</td>\n",
       "      <td>...</td>\n",
       "      <td>-0.053886</td>\n",
       "      <td>0.356847</td>\n",
       "      <td>0.348464</td>\n",
       "      <td>0.264641</td>\n",
       "      <td>0.901696</td>\n",
       "      <td>0.449052</td>\n",
       "      <td>0.113760</td>\n",
       "      <td>-0.422707</td>\n",
       "      <td>-0.456236</td>\n",
       "      <td>-0.825057</td>\n",
       "    </tr>\n",
       "    <tr>\n",
       "      <th>1</th>\n",
       "      <td>2</td>\n",
       "      <td>0.767928</td>\n",
       "      <td>-0.100162</td>\n",
       "      <td>0.070775</td>\n",
       "      <td>-0.244285</td>\n",
       "      <td>-0.354891</td>\n",
       "      <td>-0.928031</td>\n",
       "      <td>-0.773853</td>\n",
       "      <td>-0.375001</td>\n",
       "      <td>-0.361594</td>\n",
       "      <td>...</td>\n",
       "      <td>0.348464</td>\n",
       "      <td>0.264641</td>\n",
       "      <td>0.901696</td>\n",
       "      <td>0.449052</td>\n",
       "      <td>0.113760</td>\n",
       "      <td>-0.422707</td>\n",
       "      <td>-0.456236</td>\n",
       "      <td>-0.825057</td>\n",
       "      <td>-0.992703</td>\n",
       "      <td>-0.992703</td>\n",
       "    </tr>\n",
       "    <tr>\n",
       "      <th>2</th>\n",
       "      <td>3</td>\n",
       "      <td>0.070775</td>\n",
       "      <td>-0.244285</td>\n",
       "      <td>-0.354891</td>\n",
       "      <td>-0.928031</td>\n",
       "      <td>-0.773853</td>\n",
       "      <td>-0.375001</td>\n",
       "      <td>-0.361594</td>\n",
       "      <td>-0.210768</td>\n",
       "      <td>0.288635</td>\n",
       "      <td>...</td>\n",
       "      <td>0.901696</td>\n",
       "      <td>0.449052</td>\n",
       "      <td>0.113760</td>\n",
       "      <td>-0.422707</td>\n",
       "      <td>-0.456236</td>\n",
       "      <td>-0.825057</td>\n",
       "      <td>-0.992703</td>\n",
       "      <td>-0.992703</td>\n",
       "      <td>-0.322119</td>\n",
       "      <td>-0.883733</td>\n",
       "    </tr>\n",
       "    <tr>\n",
       "      <th>3</th>\n",
       "      <td>4</td>\n",
       "      <td>-0.354891</td>\n",
       "      <td>-0.928031</td>\n",
       "      <td>-0.773853</td>\n",
       "      <td>-0.375001</td>\n",
       "      <td>-0.361594</td>\n",
       "      <td>-0.210768</td>\n",
       "      <td>0.288635</td>\n",
       "      <td>-0.726929</td>\n",
       "      <td>-0.576103</td>\n",
       "      <td>...</td>\n",
       "      <td>0.113760</td>\n",
       "      <td>-0.422707</td>\n",
       "      <td>-0.456236</td>\n",
       "      <td>-0.825057</td>\n",
       "      <td>-0.992703</td>\n",
       "      <td>-0.992703</td>\n",
       "      <td>-0.322119</td>\n",
       "      <td>-0.883733</td>\n",
       "      <td>-0.473001</td>\n",
       "      <td>-0.422707</td>\n",
       "    </tr>\n",
       "    <tr>\n",
       "      <th>4</th>\n",
       "      <td>5</td>\n",
       "      <td>-0.773853</td>\n",
       "      <td>-0.375001</td>\n",
       "      <td>-0.361594</td>\n",
       "      <td>-0.210768</td>\n",
       "      <td>0.288635</td>\n",
       "      <td>-0.726929</td>\n",
       "      <td>-0.576103</td>\n",
       "      <td>1.160076</td>\n",
       "      <td>0.442813</td>\n",
       "      <td>...</td>\n",
       "      <td>-0.456236</td>\n",
       "      <td>-0.825057</td>\n",
       "      <td>-0.992703</td>\n",
       "      <td>-0.992703</td>\n",
       "      <td>-0.322119</td>\n",
       "      <td>-0.883733</td>\n",
       "      <td>-0.473001</td>\n",
       "      <td>-0.422707</td>\n",
       "      <td>-0.473001</td>\n",
       "      <td>-0.531677</td>\n",
       "    </tr>\n",
       "    <tr>\n",
       "      <th>...</th>\n",
       "      <td>...</td>\n",
       "      <td>...</td>\n",
       "      <td>...</td>\n",
       "      <td>...</td>\n",
       "      <td>...</td>\n",
       "      <td>...</td>\n",
       "      <td>...</td>\n",
       "      <td>...</td>\n",
       "      <td>...</td>\n",
       "      <td>...</td>\n",
       "      <td>...</td>\n",
       "      <td>...</td>\n",
       "      <td>...</td>\n",
       "      <td>...</td>\n",
       "      <td>...</td>\n",
       "      <td>...</td>\n",
       "      <td>...</td>\n",
       "      <td>...</td>\n",
       "      <td>...</td>\n",
       "      <td>...</td>\n",
       "      <td>...</td>\n",
       "    </tr>\n",
       "    <tr>\n",
       "      <th>5594</th>\n",
       "      <td>5595</td>\n",
       "      <td>1.451674</td>\n",
       "      <td>1.220407</td>\n",
       "      <td>0.556771</td>\n",
       "      <td>1.709754</td>\n",
       "      <td>0.483033</td>\n",
       "      <td>0.533309</td>\n",
       "      <td>1.448322</td>\n",
       "      <td>1.820360</td>\n",
       "      <td>1.662831</td>\n",
       "      <td>...</td>\n",
       "      <td>0.759197</td>\n",
       "      <td>0.884931</td>\n",
       "      <td>0.298171</td>\n",
       "      <td>-0.397560</td>\n",
       "      <td>-0.540059</td>\n",
       "      <td>-0.498148</td>\n",
       "      <td>-0.498148</td>\n",
       "      <td>-0.405942</td>\n",
       "      <td>0.164054</td>\n",
       "      <td>0.331700</td>\n",
       "    </tr>\n",
       "    <tr>\n",
       "      <th>5595</th>\n",
       "      <td>5596</td>\n",
       "      <td>0.556771</td>\n",
       "      <td>1.709754</td>\n",
       "      <td>0.483033</td>\n",
       "      <td>0.533309</td>\n",
       "      <td>1.448322</td>\n",
       "      <td>1.820360</td>\n",
       "      <td>1.662831</td>\n",
       "      <td>1.528763</td>\n",
       "      <td>1.284089</td>\n",
       "      <td>...</td>\n",
       "      <td>0.298171</td>\n",
       "      <td>-0.397560</td>\n",
       "      <td>-0.540059</td>\n",
       "      <td>-0.498148</td>\n",
       "      <td>-0.498148</td>\n",
       "      <td>-0.405942</td>\n",
       "      <td>0.164054</td>\n",
       "      <td>0.331700</td>\n",
       "      <td>1.052577</td>\n",
       "      <td>1.220223</td>\n",
       "    </tr>\n",
       "    <tr>\n",
       "      <th>5596</th>\n",
       "      <td>5597</td>\n",
       "      <td>0.483033</td>\n",
       "      <td>0.533309</td>\n",
       "      <td>1.448322</td>\n",
       "      <td>1.820360</td>\n",
       "      <td>1.662831</td>\n",
       "      <td>1.528763</td>\n",
       "      <td>1.284089</td>\n",
       "      <td>0.070775</td>\n",
       "      <td>0.888589</td>\n",
       "      <td>...</td>\n",
       "      <td>-0.540059</td>\n",
       "      <td>-0.498148</td>\n",
       "      <td>-0.498148</td>\n",
       "      <td>-0.405942</td>\n",
       "      <td>0.164054</td>\n",
       "      <td>0.331700</td>\n",
       "      <td>1.052577</td>\n",
       "      <td>1.220223</td>\n",
       "      <td>1.446545</td>\n",
       "      <td>2.670360</td>\n",
       "    </tr>\n",
       "    <tr>\n",
       "      <th>5597</th>\n",
       "      <td>5598</td>\n",
       "      <td>1.448322</td>\n",
       "      <td>1.820360</td>\n",
       "      <td>1.662831</td>\n",
       "      <td>1.528763</td>\n",
       "      <td>1.284089</td>\n",
       "      <td>0.070775</td>\n",
       "      <td>0.888589</td>\n",
       "      <td>1.545521</td>\n",
       "      <td>1.166779</td>\n",
       "      <td>...</td>\n",
       "      <td>-0.498148</td>\n",
       "      <td>-0.405942</td>\n",
       "      <td>0.164054</td>\n",
       "      <td>0.331700</td>\n",
       "      <td>1.052577</td>\n",
       "      <td>1.220223</td>\n",
       "      <td>1.446545</td>\n",
       "      <td>2.670360</td>\n",
       "      <td>2.620066</td>\n",
       "      <td>2.678742</td>\n",
       "    </tr>\n",
       "    <tr>\n",
       "      <th>5598</th>\n",
       "      <td>5599</td>\n",
       "      <td>1.662831</td>\n",
       "      <td>1.528763</td>\n",
       "      <td>1.284089</td>\n",
       "      <td>0.070775</td>\n",
       "      <td>0.888589</td>\n",
       "      <td>1.545521</td>\n",
       "      <td>1.166779</td>\n",
       "      <td>0.653970</td>\n",
       "      <td>0.409296</td>\n",
       "      <td>...</td>\n",
       "      <td>0.164054</td>\n",
       "      <td>0.331700</td>\n",
       "      <td>1.052577</td>\n",
       "      <td>1.220223</td>\n",
       "      <td>1.446545</td>\n",
       "      <td>2.670360</td>\n",
       "      <td>2.620066</td>\n",
       "      <td>2.678742</td>\n",
       "      <td>1.220223</td>\n",
       "      <td>0.725668</td>\n",
       "    </tr>\n",
       "  </tbody>\n",
       "</table>\n",
       "<p>5599 rows × 21 columns</p>\n",
       "</div>"
      ],
      "text/plain": [
       "      id_sequence  surge1_t0  surge1_t1  surge1_t2  surge1_t3  surge1_t4  \\\n",
       "0               1   0.586936   1.069580   0.767928  -0.100162   0.070775   \n",
       "1               2   0.767928  -0.100162   0.070775  -0.244285  -0.354891   \n",
       "2               3   0.070775  -0.244285  -0.354891  -0.928031  -0.773853   \n",
       "3               4  -0.354891  -0.928031  -0.773853  -0.375001  -0.361594   \n",
       "4               5  -0.773853  -0.375001  -0.361594  -0.210768   0.288635   \n",
       "...           ...        ...        ...        ...        ...        ...   \n",
       "5594         5595   1.451674   1.220407   0.556771   1.709754   0.483033   \n",
       "5595         5596   0.556771   1.709754   0.483033   0.533309   1.448322   \n",
       "5596         5597   0.483033   0.533309   1.448322   1.820360   1.662831   \n",
       "5597         5598   1.448322   1.820360   1.662831   1.528763   1.284089   \n",
       "5598         5599   1.662831   1.528763   1.284089   0.070775   0.888589   \n",
       "\n",
       "      surge1_t5  surge1_t6  surge1_t7  surge1_t8  ...  surge2_t0  surge2_t1  \\\n",
       "0     -0.244285  -0.354891  -0.928031  -0.773853  ...  -0.053886   0.356847   \n",
       "1     -0.928031  -0.773853  -0.375001  -0.361594  ...   0.348464   0.264641   \n",
       "2     -0.375001  -0.361594  -0.210768   0.288635  ...   0.901696   0.449052   \n",
       "3     -0.210768   0.288635  -0.726929  -0.576103  ...   0.113760  -0.422707   \n",
       "4     -0.726929  -0.576103   1.160076   0.442813  ...  -0.456236  -0.825057   \n",
       "...         ...        ...        ...        ...  ...        ...        ...   \n",
       "5594   0.533309   1.448322   1.820360   1.662831  ...   0.759197   0.884931   \n",
       "5595   1.820360   1.662831   1.528763   1.284089  ...   0.298171  -0.397560   \n",
       "5596   1.528763   1.284089   0.070775   0.888589  ...  -0.540059  -0.498148   \n",
       "5597   0.070775   0.888589   1.545521   1.166779  ...  -0.498148  -0.405942   \n",
       "5598   1.545521   1.166779   0.653970   0.409296  ...   0.164054   0.331700   \n",
       "\n",
       "      surge2_t2  surge2_t3  surge2_t4  surge2_t5  surge2_t6  surge2_t7  \\\n",
       "0      0.348464   0.264641   0.901696   0.449052   0.113760  -0.422707   \n",
       "1      0.901696   0.449052   0.113760  -0.422707  -0.456236  -0.825057   \n",
       "2      0.113760  -0.422707  -0.456236  -0.825057  -0.992703  -0.992703   \n",
       "3     -0.456236  -0.825057  -0.992703  -0.992703  -0.322119  -0.883733   \n",
       "4     -0.992703  -0.992703  -0.322119  -0.883733  -0.473001  -0.422707   \n",
       "...         ...        ...        ...        ...        ...        ...   \n",
       "5594   0.298171  -0.397560  -0.540059  -0.498148  -0.498148  -0.405942   \n",
       "5595  -0.540059  -0.498148  -0.498148  -0.405942   0.164054   0.331700   \n",
       "5596  -0.498148  -0.405942   0.164054   0.331700   1.052577   1.220223   \n",
       "5597   0.164054   0.331700   1.052577   1.220223   1.446545   2.670360   \n",
       "5598   1.052577   1.220223   1.446545   2.670360   2.620066   2.678742   \n",
       "\n",
       "      surge2_t8  surge2_t9  \n",
       "0     -0.456236  -0.825057  \n",
       "1     -0.992703  -0.992703  \n",
       "2     -0.322119  -0.883733  \n",
       "3     -0.473001  -0.422707  \n",
       "4     -0.473001  -0.531677  \n",
       "...         ...        ...  \n",
       "5594   0.164054   0.331700  \n",
       "5595   1.052577   1.220223  \n",
       "5596   1.446545   2.670360  \n",
       "5597   2.620066   2.678742  \n",
       "5598   1.220223   0.725668  \n",
       "\n",
       "[5599 rows x 21 columns]"
      ]
     },
     "execution_count": 8,
     "metadata": {},
     "output_type": "execute_result"
    }
   ],
   "source": [
    "Y_train"
   ]
  },
  {
   "cell_type": "markdown",
   "metadata": {
    "id": "G8NFmg99m426"
   },
   "source": [
    "## slp_train"
   ]
  },
  {
   "cell_type": "code",
   "execution_count": 9,
   "metadata": {
    "id": "3yp5do2_m6xn"
   },
   "outputs": [],
   "source": [
    "nfields = 5; time_step_slp = 8\n",
    "slp_train = []\n",
    "slp_all = X_train['slp']\n",
    "for i in range(5599): # echantillon d'apprentissage de 5599 observations\n",
    "    slp_train.append(np.ndarray.flatten(slp_all[i,-1]))\n",
    "    for j in range(1,nfields):\n",
    "        slp_train[-1] = np.concatenate( ( slp_train[-1], np.ndarray.flatten(slp_all[i,-1-j*time_step_slp]) ) )\n",
    "slp_train = np.array(slp_train)"
   ]
  },
  {
   "cell_type": "code",
   "execution_count": 10,
   "metadata": {
    "id": "pr8zD6UVm_Gr"
   },
   "outputs": [
    {
     "data": {
      "text/html": [
       "<div>\n",
       "<style scoped>\n",
       "    .dataframe tbody tr th:only-of-type {\n",
       "        vertical-align: middle;\n",
       "    }\n",
       "\n",
       "    .dataframe tbody tr th {\n",
       "        vertical-align: top;\n",
       "    }\n",
       "\n",
       "    .dataframe thead th {\n",
       "        text-align: right;\n",
       "    }\n",
       "</style>\n",
       "<table border=\"1\" class=\"dataframe\">\n",
       "  <thead>\n",
       "    <tr style=\"text-align: right;\">\n",
       "      <th></th>\n",
       "      <th>0</th>\n",
       "      <th>1</th>\n",
       "      <th>2</th>\n",
       "      <th>3</th>\n",
       "      <th>4</th>\n",
       "      <th>5</th>\n",
       "      <th>6</th>\n",
       "      <th>7</th>\n",
       "      <th>8</th>\n",
       "      <th>9</th>\n",
       "      <th>...</th>\n",
       "      <th>8395</th>\n",
       "      <th>8396</th>\n",
       "      <th>8397</th>\n",
       "      <th>8398</th>\n",
       "      <th>8399</th>\n",
       "      <th>8400</th>\n",
       "      <th>8401</th>\n",
       "      <th>8402</th>\n",
       "      <th>8403</th>\n",
       "      <th>8404</th>\n",
       "    </tr>\n",
       "  </thead>\n",
       "  <tbody>\n",
       "    <tr>\n",
       "      <th>0</th>\n",
       "      <td>100849.718750</td>\n",
       "      <td>100797.718750</td>\n",
       "      <td>100754.718750</td>\n",
       "      <td>100716.718750</td>\n",
       "      <td>100692.718750</td>\n",
       "      <td>100686.718750</td>\n",
       "      <td>100710.718750</td>\n",
       "      <td>100769.718750</td>\n",
       "      <td>100857.718750</td>\n",
       "      <td>100958.718750</td>\n",
       "      <td>...</td>\n",
       "      <td>100989.742188</td>\n",
       "      <td>100904.742188</td>\n",
       "      <td>100827.742188</td>\n",
       "      <td>100763.742188</td>\n",
       "      <td>100712.742188</td>\n",
       "      <td>100672.742188</td>\n",
       "      <td>100644.742188</td>\n",
       "      <td>100635.742188</td>\n",
       "      <td>100646.742188</td>\n",
       "      <td>100671.742188</td>\n",
       "    </tr>\n",
       "    <tr>\n",
       "      <th>1</th>\n",
       "      <td>100940.367188</td>\n",
       "      <td>100881.367188</td>\n",
       "      <td>100823.367188</td>\n",
       "      <td>100765.367188</td>\n",
       "      <td>100711.367188</td>\n",
       "      <td>100660.367188</td>\n",
       "      <td>100619.367188</td>\n",
       "      <td>100594.367188</td>\n",
       "      <td>100592.367188</td>\n",
       "      <td>100610.367188</td>\n",
       "      <td>...</td>\n",
       "      <td>102031.546875</td>\n",
       "      <td>102016.546875</td>\n",
       "      <td>102002.546875</td>\n",
       "      <td>101986.546875</td>\n",
       "      <td>101969.546875</td>\n",
       "      <td>101953.546875</td>\n",
       "      <td>101939.546875</td>\n",
       "      <td>101926.546875</td>\n",
       "      <td>101913.546875</td>\n",
       "      <td>101902.546875</td>\n",
       "    </tr>\n",
       "    <tr>\n",
       "      <th>2</th>\n",
       "      <td>101862.906250</td>\n",
       "      <td>101879.906250</td>\n",
       "      <td>101894.906250</td>\n",
       "      <td>101905.906250</td>\n",
       "      <td>101913.906250</td>\n",
       "      <td>101917.906250</td>\n",
       "      <td>101917.906250</td>\n",
       "      <td>101914.906250</td>\n",
       "      <td>101909.906250</td>\n",
       "      <td>101901.906250</td>\n",
       "      <td>...</td>\n",
       "      <td>101959.078125</td>\n",
       "      <td>101946.078125</td>\n",
       "      <td>101935.078125</td>\n",
       "      <td>101927.078125</td>\n",
       "      <td>101927.078125</td>\n",
       "      <td>101939.078125</td>\n",
       "      <td>101965.078125</td>\n",
       "      <td>101999.078125</td>\n",
       "      <td>102039.078125</td>\n",
       "      <td>102082.078125</td>\n",
       "    </tr>\n",
       "    <tr>\n",
       "      <th>3</th>\n",
       "      <td>102149.296875</td>\n",
       "      <td>102216.296875</td>\n",
       "      <td>102275.296875</td>\n",
       "      <td>102327.296875</td>\n",
       "      <td>102373.296875</td>\n",
       "      <td>102415.296875</td>\n",
       "      <td>102450.296875</td>\n",
       "      <td>102481.296875</td>\n",
       "      <td>102507.296875</td>\n",
       "      <td>102525.296875</td>\n",
       "      <td>...</td>\n",
       "      <td>101787.796875</td>\n",
       "      <td>101822.796875</td>\n",
       "      <td>101853.796875</td>\n",
       "      <td>101879.796875</td>\n",
       "      <td>101899.796875</td>\n",
       "      <td>101917.796875</td>\n",
       "      <td>101933.796875</td>\n",
       "      <td>101945.796875</td>\n",
       "      <td>101954.796875</td>\n",
       "      <td>101962.796875</td>\n",
       "    </tr>\n",
       "    <tr>\n",
       "      <th>4</th>\n",
       "      <td>102321.757812</td>\n",
       "      <td>102333.757812</td>\n",
       "      <td>102361.757812</td>\n",
       "      <td>102396.757812</td>\n",
       "      <td>102431.757812</td>\n",
       "      <td>102462.757812</td>\n",
       "      <td>102488.757812</td>\n",
       "      <td>102508.757812</td>\n",
       "      <td>102518.757812</td>\n",
       "      <td>102520.757812</td>\n",
       "      <td>...</td>\n",
       "      <td>101303.718750</td>\n",
       "      <td>101320.718750</td>\n",
       "      <td>101341.718750</td>\n",
       "      <td>101368.718750</td>\n",
       "      <td>101399.718750</td>\n",
       "      <td>101434.718750</td>\n",
       "      <td>101473.718750</td>\n",
       "      <td>101515.718750</td>\n",
       "      <td>101562.718750</td>\n",
       "      <td>101611.718750</td>\n",
       "    </tr>\n",
       "    <tr>\n",
       "      <th>...</th>\n",
       "      <td>...</td>\n",
       "      <td>...</td>\n",
       "      <td>...</td>\n",
       "      <td>...</td>\n",
       "      <td>...</td>\n",
       "      <td>...</td>\n",
       "      <td>...</td>\n",
       "      <td>...</td>\n",
       "      <td>...</td>\n",
       "      <td>...</td>\n",
       "      <td>...</td>\n",
       "      <td>...</td>\n",
       "      <td>...</td>\n",
       "      <td>...</td>\n",
       "      <td>...</td>\n",
       "      <td>...</td>\n",
       "      <td>...</td>\n",
       "      <td>...</td>\n",
       "      <td>...</td>\n",
       "      <td>...</td>\n",
       "      <td>...</td>\n",
       "    </tr>\n",
       "    <tr>\n",
       "      <th>5594</th>\n",
       "      <td>102177.851562</td>\n",
       "      <td>102189.851562</td>\n",
       "      <td>102198.851562</td>\n",
       "      <td>102200.851562</td>\n",
       "      <td>102195.851562</td>\n",
       "      <td>102185.851562</td>\n",
       "      <td>102169.851562</td>\n",
       "      <td>102148.851562</td>\n",
       "      <td>102122.851562</td>\n",
       "      <td>102089.851562</td>\n",
       "      <td>...</td>\n",
       "      <td>99204.796875</td>\n",
       "      <td>99261.796875</td>\n",
       "      <td>99324.796875</td>\n",
       "      <td>99385.796875</td>\n",
       "      <td>99445.796875</td>\n",
       "      <td>99514.796875</td>\n",
       "      <td>99595.796875</td>\n",
       "      <td>99685.796875</td>\n",
       "      <td>99778.796875</td>\n",
       "      <td>99869.796875</td>\n",
       "    </tr>\n",
       "    <tr>\n",
       "      <th>5595</th>\n",
       "      <td>102050.812500</td>\n",
       "      <td>102084.812500</td>\n",
       "      <td>102113.812500</td>\n",
       "      <td>102137.812500</td>\n",
       "      <td>102151.812500</td>\n",
       "      <td>102159.812500</td>\n",
       "      <td>102158.812500</td>\n",
       "      <td>102149.812500</td>\n",
       "      <td>102131.812500</td>\n",
       "      <td>102106.812500</td>\n",
       "      <td>...</td>\n",
       "      <td>99829.296875</td>\n",
       "      <td>99788.296875</td>\n",
       "      <td>99759.296875</td>\n",
       "      <td>99738.296875</td>\n",
       "      <td>99725.296875</td>\n",
       "      <td>99726.296875</td>\n",
       "      <td>99737.296875</td>\n",
       "      <td>99753.296875</td>\n",
       "      <td>99769.296875</td>\n",
       "      <td>99787.296875</td>\n",
       "    </tr>\n",
       "    <tr>\n",
       "      <th>5596</th>\n",
       "      <td>102048.132812</td>\n",
       "      <td>102080.132812</td>\n",
       "      <td>102106.132812</td>\n",
       "      <td>102125.132812</td>\n",
       "      <td>102135.132812</td>\n",
       "      <td>102136.132812</td>\n",
       "      <td>102132.132812</td>\n",
       "      <td>102122.132812</td>\n",
       "      <td>102104.132812</td>\n",
       "      <td>102079.132812</td>\n",
       "      <td>...</td>\n",
       "      <td>100200.546875</td>\n",
       "      <td>100095.546875</td>\n",
       "      <td>99992.546875</td>\n",
       "      <td>99885.546875</td>\n",
       "      <td>99775.546875</td>\n",
       "      <td>99668.546875</td>\n",
       "      <td>99565.546875</td>\n",
       "      <td>99462.546875</td>\n",
       "      <td>99356.546875</td>\n",
       "      <td>99248.546875</td>\n",
       "    </tr>\n",
       "    <tr>\n",
       "      <th>5597</th>\n",
       "      <td>102111.953125</td>\n",
       "      <td>102134.953125</td>\n",
       "      <td>102149.953125</td>\n",
       "      <td>102155.953125</td>\n",
       "      <td>102154.953125</td>\n",
       "      <td>102148.953125</td>\n",
       "      <td>102137.953125</td>\n",
       "      <td>102121.953125</td>\n",
       "      <td>102102.953125</td>\n",
       "      <td>102082.953125</td>\n",
       "      <td>...</td>\n",
       "      <td>100060.960938</td>\n",
       "      <td>99917.960938</td>\n",
       "      <td>99780.960938</td>\n",
       "      <td>99643.960938</td>\n",
       "      <td>99508.960938</td>\n",
       "      <td>99381.960938</td>\n",
       "      <td>99266.960938</td>\n",
       "      <td>99158.960938</td>\n",
       "      <td>99053.960938</td>\n",
       "      <td>98950.960938</td>\n",
       "    </tr>\n",
       "    <tr>\n",
       "      <th>5598</th>\n",
       "      <td>101972.531250</td>\n",
       "      <td>101984.531250</td>\n",
       "      <td>101993.531250</td>\n",
       "      <td>101997.531250</td>\n",
       "      <td>101997.531250</td>\n",
       "      <td>101995.531250</td>\n",
       "      <td>101989.531250</td>\n",
       "      <td>101981.531250</td>\n",
       "      <td>101970.531250</td>\n",
       "      <td>101960.531250</td>\n",
       "      <td>...</td>\n",
       "      <td>100725.492188</td>\n",
       "      <td>100656.492188</td>\n",
       "      <td>100588.492188</td>\n",
       "      <td>100516.492188</td>\n",
       "      <td>100440.492188</td>\n",
       "      <td>100363.492188</td>\n",
       "      <td>100288.492188</td>\n",
       "      <td>100212.492188</td>\n",
       "      <td>100132.492188</td>\n",
       "      <td>100049.492188</td>\n",
       "    </tr>\n",
       "  </tbody>\n",
       "</table>\n",
       "<p>5599 rows × 8405 columns</p>\n",
       "</div>"
      ],
      "text/plain": [
       "               0              1              2              3     \\\n",
       "0     100849.718750  100797.718750  100754.718750  100716.718750   \n",
       "1     100940.367188  100881.367188  100823.367188  100765.367188   \n",
       "2     101862.906250  101879.906250  101894.906250  101905.906250   \n",
       "3     102149.296875  102216.296875  102275.296875  102327.296875   \n",
       "4     102321.757812  102333.757812  102361.757812  102396.757812   \n",
       "...             ...            ...            ...            ...   \n",
       "5594  102177.851562  102189.851562  102198.851562  102200.851562   \n",
       "5595  102050.812500  102084.812500  102113.812500  102137.812500   \n",
       "5596  102048.132812  102080.132812  102106.132812  102125.132812   \n",
       "5597  102111.953125  102134.953125  102149.953125  102155.953125   \n",
       "5598  101972.531250  101984.531250  101993.531250  101997.531250   \n",
       "\n",
       "               4              5              6              7     \\\n",
       "0     100692.718750  100686.718750  100710.718750  100769.718750   \n",
       "1     100711.367188  100660.367188  100619.367188  100594.367188   \n",
       "2     101913.906250  101917.906250  101917.906250  101914.906250   \n",
       "3     102373.296875  102415.296875  102450.296875  102481.296875   \n",
       "4     102431.757812  102462.757812  102488.757812  102508.757812   \n",
       "...             ...            ...            ...            ...   \n",
       "5594  102195.851562  102185.851562  102169.851562  102148.851562   \n",
       "5595  102151.812500  102159.812500  102158.812500  102149.812500   \n",
       "5596  102135.132812  102136.132812  102132.132812  102122.132812   \n",
       "5597  102154.953125  102148.953125  102137.953125  102121.953125   \n",
       "5598  101997.531250  101995.531250  101989.531250  101981.531250   \n",
       "\n",
       "               8              9     ...           8395           8396  \\\n",
       "0     100857.718750  100958.718750  ...  100989.742188  100904.742188   \n",
       "1     100592.367188  100610.367188  ...  102031.546875  102016.546875   \n",
       "2     101909.906250  101901.906250  ...  101959.078125  101946.078125   \n",
       "3     102507.296875  102525.296875  ...  101787.796875  101822.796875   \n",
       "4     102518.757812  102520.757812  ...  101303.718750  101320.718750   \n",
       "...             ...            ...  ...            ...            ...   \n",
       "5594  102122.851562  102089.851562  ...   99204.796875   99261.796875   \n",
       "5595  102131.812500  102106.812500  ...   99829.296875   99788.296875   \n",
       "5596  102104.132812  102079.132812  ...  100200.546875  100095.546875   \n",
       "5597  102102.953125  102082.953125  ...  100060.960938   99917.960938   \n",
       "5598  101970.531250  101960.531250  ...  100725.492188  100656.492188   \n",
       "\n",
       "               8397           8398           8399           8400  \\\n",
       "0     100827.742188  100763.742188  100712.742188  100672.742188   \n",
       "1     102002.546875  101986.546875  101969.546875  101953.546875   \n",
       "2     101935.078125  101927.078125  101927.078125  101939.078125   \n",
       "3     101853.796875  101879.796875  101899.796875  101917.796875   \n",
       "4     101341.718750  101368.718750  101399.718750  101434.718750   \n",
       "...             ...            ...            ...            ...   \n",
       "5594   99324.796875   99385.796875   99445.796875   99514.796875   \n",
       "5595   99759.296875   99738.296875   99725.296875   99726.296875   \n",
       "5596   99992.546875   99885.546875   99775.546875   99668.546875   \n",
       "5597   99780.960938   99643.960938   99508.960938   99381.960938   \n",
       "5598  100588.492188  100516.492188  100440.492188  100363.492188   \n",
       "\n",
       "               8401           8402           8403           8404  \n",
       "0     100644.742188  100635.742188  100646.742188  100671.742188  \n",
       "1     101939.546875  101926.546875  101913.546875  101902.546875  \n",
       "2     101965.078125  101999.078125  102039.078125  102082.078125  \n",
       "3     101933.796875  101945.796875  101954.796875  101962.796875  \n",
       "4     101473.718750  101515.718750  101562.718750  101611.718750  \n",
       "...             ...            ...            ...            ...  \n",
       "5594   99595.796875   99685.796875   99778.796875   99869.796875  \n",
       "5595   99737.296875   99753.296875   99769.296875   99787.296875  \n",
       "5596   99565.546875   99462.546875   99356.546875   99248.546875  \n",
       "5597   99266.960938   99158.960938   99053.960938   98950.960938  \n",
       "5598  100288.492188  100212.492188  100132.492188  100049.492188  \n",
       "\n",
       "[5599 rows x 8405 columns]"
      ]
     },
     "execution_count": 10,
     "metadata": {},
     "output_type": "execute_result"
    }
   ],
   "source": [
    "pd.DataFrame(slp_train)"
   ]
  },
  {
   "cell_type": "markdown",
   "metadata": {
    "id": "rviVZC69m86K"
   },
   "source": [
    "Description de la mise en forme du df slp_train :<br>\n",
    "Une ligne par observation avec 41*41 données en ligne à la suite pour une image (images 41x41 pixels soit 1681 pixels/valeurs). Au total pour une ligne nfields x 1681 valeurs (1 field = un instant dans le temps, donc 2 field veut dire 2 images car 2 mesures ont été réalisées, chacune à un instant différent dans le temps)"
   ]
  },
  {
   "cell_type": "markdown",
   "metadata": {
    "id": "5clBgRZinF8e"
   },
   "source": [
    "## slp_test"
   ]
  },
  {
   "cell_type": "code",
   "execution_count": 11,
   "metadata": {
    "id": "5J-z9miTnGyV"
   },
   "outputs": [],
   "source": [
    "slp_test = []\n",
    "slp_all_test = X_test['slp']\n",
    "for i in range(509): # echantillon test : 509 observations\n",
    "    slp_test.append(np.ndarray.flatten(slp_all_test[i,-1]))\n",
    "    for j in range(1,nfields):\n",
    "        slp_test[-1] = np.concatenate( ( slp_test[-1], np.ndarray.flatten(slp_all_test[i,-1-j*time_step_slp]) ) )\n",
    "slp_test = np.array(slp_test)"
   ]
  },
  {
   "cell_type": "code",
   "execution_count": 12,
   "metadata": {},
   "outputs": [],
   "source": [
    "# On réduit les données\n",
    "from sklearn.preprocessing import StandardScaler\n",
    "scaler = StandardScaler()\n",
    "\n",
    "slp_train = scaler.fit_transform(slp_train)\n",
    "slp_test = scaler.transform(slp_test)"
   ]
  },
  {
   "attachments": {},
   "cell_type": "markdown",
   "metadata": {},
   "source": [
    "## Fonctions utiles"
   ]
  },
  {
   "cell_type": "code",
   "execution_count": 13,
   "metadata": {},
   "outputs": [],
   "source": [
    "def get_dataframes(predict_train, predict_test):\n",
    "    y_columns = [f'surge1_t{i}' for i in range(10)] + [f'surge2_t{i}' for i in range(10)] # on définit nos colonnes pour le fichier csv/ le df : 5 premières valeurs suivie \n",
    "\n",
    "    # y_pred_train\n",
    "    predict_train=pd.DataFrame(predict_train).T\n",
    "    df_pred_train = pd.DataFrame(data=predict_train.values, columns=y_columns, index=X_train['id_sequence'])\n",
    "    df_pred_train.index.names=[\"id_sequence\"]\n",
    "\n",
    "    # y_test\n",
    "    predict_test = pd.DataFrame(predict_test).T\n",
    "    df_pred_test = pd.DataFrame(data=predict_test.values, columns=y_columns, index=X_test['id_sequence'])\n",
    "    df_pred_test.index.names=[\"id_sequence\"]\n",
    "\n",
    "    return df_pred_train, df_pred_test"
   ]
  },
  {
   "cell_type": "code",
   "execution_count": 14,
   "metadata": {},
   "outputs": [],
   "source": [
    "def get_ech_complet(slp_train,surgesinput_train, slp_test,surgesinput_test ):\n",
    "   \n",
    "    df_slp_train=pd.DataFrame(slp_train)\n",
    "    df_surgesinput_train=pd.DataFrame(surgesinput_train)\n",
    "    print(np.shape(df_slp_train),np.shape(df_surgesinput_train))\n",
    "    Xtrain=pd.concat([df_slp_train,df_surgesinput_train],axis=1)\n",
    "\n",
    "    df_slp_test=pd.DataFrame(slp_test)\n",
    "    df_surgesinput_test=pd.DataFrame(surgesinput_test)\n",
    "    print(np.shape(df_slp_test),np.shape(df_surgesinput_test))\n",
    "    Xtest=pd.concat([df_slp_test,df_surgesinput_test],axis=1)\n",
    "    \n",
    "    return Xtrain, Xtest"
   ]
  },
  {
   "cell_type": "code",
   "execution_count": 15,
   "metadata": {},
   "outputs": [],
   "source": [
    "# surges input train\n",
    "surge1input_train=pd.DataFrame(X_train[\"surge1_input\"],columns=[f\"surge1_{i}\" for i in range(1,11)])\n",
    "surge2input_train=pd.DataFrame(X_train[\"surge2_input\"],columns=[f\"surge2_{i}\" for i in range(1,11)])\n",
    "surgesinput_train=pd.concat([surge1input_train,surge2input_train],axis=1)\n",
    "\n",
    "#surgesinput_test\n",
    "surge1input_test=pd.DataFrame(X_test[\"surge1_input\"],columns=[f\"surge1_{i}\" for i in range(1,11)])\n",
    "surge2input_test=pd.DataFrame(X_test[\"surge2_input\"],columns=[f\"surge2_{i}\" for i in range(1,11)])\n",
    "surgesinput_test=pd.concat([surge1input_test,surge2input_test],axis=1)"
   ]
  },
  {
   "cell_type": "code",
   "execution_count": 16,
   "metadata": {},
   "outputs": [],
   "source": [
    "# fonction à appeler dans les \"boucles for\" pour recup les sous echantillons:\n",
    "def get_ech_i(i):\n",
    "    # données\n",
    "    # y_train\n",
    "    surge_train_jour_i=pd.DataFrame(surge_train).iloc[:,i]\n",
    "    surge_train_jour_i=np.asarray(surge_train_jour_i).reshape(-1,1)\n",
    "\n",
    "    #X_train : slp et surge1_input et surge2_input\n",
    "    slp_train_i=slp_train[:,i].reshape(-1,1)\n",
    "    slp_train_i=pd.DataFrame(slp_train_i)\n",
    "    surgesinput_train_i=surgesinput_train.iloc[:,i]\n",
    "    Xtrain_i=pd.concat([slp_train_i,surgesinput_train_i],axis=1)\n",
    "    #print(Xtrain_i)\n",
    "\n",
    "    # Xtest\n",
    "    slp_test_i=slp_test[:,i].reshape(-1,1)\n",
    "    slp_test_i=pd.DataFrame(slp_test_i)\n",
    "    surgesinput_test_i=surgesinput_test.iloc[:,i]\n",
    "    Xtest_i=pd.concat([slp_test_i,surgesinput_test_i],axis=1)\n",
    "    \n",
    "    return surge_train_jour_i, Xtrain_i, Xtest_i"
   ]
  },
  {
   "cell_type": "code",
   "execution_count": 17,
   "metadata": {},
   "outputs": [],
   "source": [
    "from sklearn.model_selection import GridSearchCV, RandomizedSearchCV"
   ]
  },
  {
   "cell_type": "markdown",
   "metadata": {
    "id": "bAM7MGiex3yp"
   },
   "source": [
    "# Prédictions"
   ]
  },
  {
   "cell_type": "markdown",
   "metadata": {
    "id": "CPy0-GjInU-R"
   },
   "source": [
    "### Variante LightGBM du gradient boosting"
   ]
  },
  {
   "cell_type": "code",
   "execution_count": 41,
   "metadata": {
    "id": "HaSGJDKNnXWI"
   },
   "outputs": [],
   "source": [
    "import lightgbm\n",
    "from lightgbm import LGBMRegressor"
   ]
  },
  {
   "cell_type": "code",
   "execution_count": 42,
   "metadata": {},
   "outputs": [
    {
     "name": "stdout",
     "output_type": "stream",
     "text": [
      "(5599, 8405) (5599, 20)\n",
      "(509, 8405) (509, 20)\n"
     ]
    }
   ],
   "source": [
    "Xtrain, Xtest = get_ech_complet(slp_train,surgesinput_train,slp_test, surgesinput_test)"
   ]
  },
  {
   "cell_type": "code",
   "execution_count": null,
   "metadata": {
    "id": "PJ8TqBdmnZS1"
   },
   "outputs": [],
   "source": [
    "# modèle\n",
    "mdl = LGBMRegressor()\n",
    "mdl.fit(Xtrain, surge_train)"
   ]
  },
  {
   "cell_type": "code",
   "execution_count": null,
   "metadata": {},
   "outputs": [],
   "source": [
    "predict_test=[]  # liste contenant toutes les prédictions pour l'ech test\n",
    "predict_train=[] # liste contenant toutes les prédictions pour l'ech d'apprentissage\n",
    "\n",
    "# prédiction train\n",
    "pred_train=mdl.predict(Xtrain)\n",
    "predict_train.append(pred_train)\n",
    "\n",
    "# prédiction test\n",
    "pred_test = mdl.predict(Xtest)\n",
    "predict_test.append(pred_test)"
   ]
  },
  {
   "cell_type": "code",
   "execution_count": null,
   "metadata": {},
   "outputs": [],
   "source": [
    "predict_train=np.reshape(predict_train, (20, 5599))\n",
    "predict_test=np.reshape(predict_test, (20, 509))"
   ]
  },
  {
   "cell_type": "code",
   "execution_count": null,
   "metadata": {},
   "outputs": [],
   "source": [
    "y_columns = [f'surge1_t{i}' for i in range(10)] + [f'surge2_t{i}' for i in range(10)]\n",
    "df_pred_train, df_pred_test = get_dataframes(predict_train, predict_test)\n",
    "df_surge_train = pd.DataFrame(data=surge_train, columns=y_columns, index=Y_train['id_sequence'])"
   ]
  },
  {
   "cell_type": "code",
   "execution_count": 40,
   "metadata": {
    "id": "ZRKOqoAbniX4"
   },
   "outputs": [
    {
     "data": {
      "text/plain": [
       "1.7131223742197512"
      ]
     },
     "execution_count": 40,
     "metadata": {},
     "output_type": "execute_result"
    }
   ],
   "source": [
    "# Mesure de la qualité de la prévision\n",
    "surge_prediction_metric(y_true=df_surge_train,y_pred=df_pred_train)\n",
    "# 1.017"
   ]
  },
  {
   "cell_type": "markdown",
   "metadata": {
    "id": "ZKJBo-V7nmkA"
   },
   "source": [
    "Mauvaise prédiction sur l'échantillon d'apprentissage avec ce modèle : de 1.02\n",
    "\n",
    "1 est de l'ordre d'une prédiction nulle : on explique rien dans le modèle."
   ]
  },
  {
   "cell_type": "markdown",
   "metadata": {
    "id": "jWDqKAKHw9dB"
   },
   "source": [
    "### Random Forest"
   ]
  },
  {
   "cell_type": "code",
   "execution_count": 61,
   "metadata": {
    "id": "KkuT40jaxDAD"
   },
   "outputs": [],
   "source": [
    "from sklearn.ensemble import RandomForestRegressor"
   ]
  },
  {
   "cell_type": "markdown",
   "metadata": {},
   "source": [
    "#### 1ère version sans optimisation des paramètres"
   ]
  },
  {
   "cell_type": "code",
   "execution_count": 62,
   "metadata": {},
   "outputs": [
    {
     "name": "stdout",
     "output_type": "stream",
     "text": [
      "(5599, 8405) (5599, 20)\n",
      "(509, 8405) (509, 20)\n"
     ]
    }
   ],
   "source": [
    "Xtrain, Xtest = get_ech_complet(slp_train, surgesinput_train, slp_test, surgesinput_test)"
   ]
  },
  {
   "cell_type": "code",
   "execution_count": null,
   "metadata": {
    "id": "cGtQZ0tHxE9r"
   },
   "outputs": [],
   "source": [
    "# modèle\n",
    "mdlRF = RandomForestRegressor()\n",
    "\n",
    "mdlRF.fit(Xtrain, surge_train)"
   ]
  },
  {
   "cell_type": "code",
   "execution_count": null,
   "metadata": {},
   "outputs": [],
   "source": [
    "predict_test=[]\n",
    "predict_train=[]\n",
    "\n",
    "# prédiction train\n",
    "pred_train=mdlRF.predict(Xtrain)\n",
    "predict_train.append(pred_train)\n",
    "\n",
    "# prédiction test\n",
    "pred_test = mdlRF.predict(Xtest)\n",
    "predict_test.append(pred_test)"
   ]
  },
  {
   "cell_type": "code",
   "execution_count": null,
   "metadata": {},
   "outputs": [],
   "source": [
    "predict_train=np.reshape(predict_train, (20, 5599))\n",
    "predict_test=np.reshape(predict_test, (20, 509))"
   ]
  },
  {
   "cell_type": "code",
   "execution_count": null,
   "metadata": {
    "id": "fFfhcQZhxKrZ"
   },
   "outputs": [],
   "source": [
    "y_columns = [f'surge1_t{i}' for i in range(10)] + [f'surge2_t{i}' for i in range(10)]\n",
    "df_pred_train, df_pred_test = get_dataframes(predict_train, predict_test)\n",
    "df_surge_train = pd.DataFrame(data=surge_train, columns=y_columns, index=Y_train['id_sequence'])"
   ]
  },
  {
   "cell_type": "code",
   "execution_count": null,
   "metadata": {
    "id": "KJyWprpPxMvX"
   },
   "outputs": [
    {
     "data": {
      "text/plain": [
       "0.2321673663554608"
      ]
     },
     "execution_count": 24,
     "metadata": {},
     "output_type": "execute_result"
    }
   ],
   "source": [
    "surge_prediction_metric(y_true=df_surge_train,y_pred=df_pred_train) \n",
    "# 0.23"
   ]
  },
  {
   "attachments": {},
   "cell_type": "markdown",
   "metadata": {},
   "source": [
    "On obtient un très bon score de 0.23 qui est assez faible.\n",
    "En testant sur les données test, on a obtenu un score au delà de 1, cela est dû au sur-apprentissage.\n",
    "\n",
    "On cherche donc à optimiser les paramètres."
   ]
  },
  {
   "attachments": {},
   "cell_type": "markdown",
   "metadata": {},
   "source": [
    "#### Meilleur modèle"
   ]
  },
  {
   "cell_type": "code",
   "execution_count": 48,
   "metadata": {},
   "outputs": [],
   "source": [
    "# modèle\n",
    "mdlRF_best = RandomForestRegressor()\n",
    "\n",
    "# On choisit les paramètres que l'on veut tester\n",
    "parameters = {\n",
    "    'bootstrap': [True, False],\n",
    "    'n_estimators': list(np.arange(10,250,20)),\n",
    "    'max_depth': list(np.arange(10,50,5)),\n",
    "    'min_samples_leaf': [2, 3],\n",
    "    'min_samples_split': [5, 10],\n",
    "}\n",
    "\n",
    "grid_search = RandomizedSearchCV(\n",
    "                        estimator=mdlRF_best, \n",
    "                        param_distributions=parameters, \n",
    "                        cv= 3,\n",
    "                        n_jobs=-1,\n",
    "                        n_iter = 100)\n",
    "                        \n",
    "grid_search.fit(Xtrain, surge_train)"
   ]
  },
  {
   "cell_type": "code",
   "execution_count": null,
   "metadata": {},
   "outputs": [],
   "source": [
    "# On cherche le meilleur modèle\n",
    "print('Meilleur score avec GridSearch CV : {:.4f}\\n\\n'.format(grid_search.best_score_))\n",
    "\n",
    "print('Parameters donnant les meilleurs scores :','\\n\\n', (grid_search.best_params_))\n",
    "\n",
    "print(grid_search.best_estimator_)"
   ]
  },
  {
   "cell_type": "code",
   "execution_count": null,
   "metadata": {},
   "outputs": [],
   "source": [
    "Xtrain, Xtest = get_ech_complet(slp_train, surgesinput_train, slp_test, surgesinput_test)\n",
    "\n",
    "# modèle\n",
    "mdlRF_best = RandomForestRegressor(max_depth=10, min_samples_leaf=2, min_samples_split=10, n_estimators=210)\n",
    "mdlRF_best.fit(Xtrain, surge_train)"
   ]
  },
  {
   "cell_type": "code",
   "execution_count": null,
   "metadata": {},
   "outputs": [],
   "source": [
    "predict_test=[]\n",
    "predict_train=[]\n",
    "\n",
    "# prédiction train\n",
    "pred_train=mdlRF_best.predict(Xtrain)\n",
    "predict_train.append(pred_train)\n",
    "\n",
    "# prédiction test\n",
    "pred_test = mdlRF_best.predict(Xtest)\n",
    "predict_test.append(pred_test)"
   ]
  },
  {
   "cell_type": "code",
   "execution_count": null,
   "metadata": {},
   "outputs": [],
   "source": [
    "predict_train=np.reshape(predict_train, (20, 5599))\n",
    "predict_test=np.reshape(predict_test, (20, 509))"
   ]
  },
  {
   "cell_type": "code",
   "execution_count": null,
   "metadata": {},
   "outputs": [],
   "source": [
    "y_columns = [f'surge1_t{i}' for i in range(10)] + [f'surge2_t{i}' for i in range(10)]\n",
    "df_pred_train, df_pred_test = get_dataframes(predict_train, predict_test)\n",
    "df_surge_train = pd.DataFrame(data=surge_train, columns=y_columns, index=Y_train['id_sequence'])"
   ]
  },
  {
   "cell_type": "code",
   "execution_count": null,
   "metadata": {},
   "outputs": [
    {
     "data": {
      "text/plain": [
       "0.9579526138361636"
      ]
     },
     "execution_count": 29,
     "metadata": {},
     "output_type": "execute_result"
    }
   ],
   "source": [
    "surge_prediction_metric(y_true=df_surge_train,y_pred=df_pred_train) # 0.95"
   ]
  },
  {
   "cell_type": "markdown",
   "metadata": {},
   "source": [
    "On obtient un score de 0.95, celui-ci reste très proche de 1."
   ]
  },
  {
   "cell_type": "markdown",
   "metadata": {},
   "source": [
    "### Réseaux de neurones"
   ]
  },
  {
   "cell_type": "code",
   "execution_count": null,
   "metadata": {},
   "outputs": [],
   "source": [
    "import tensorflow\n",
    "from tensorflow.keras.models import Sequential\n",
    "from tensorflow.keras import layers\n",
    "from tensorflow.keras.layers import *"
   ]
  },
  {
   "attachments": {},
   "cell_type": "markdown",
   "metadata": {},
   "source": [
    "#### Construction du réseaux"
   ]
  },
  {
   "cell_type": "code",
   "execution_count": null,
   "metadata": {},
   "outputs": [],
   "source": [
    "model = Sequential()\n",
    "model.add(Dense(units = 1, activation = 'linear', input_dim=8425))\n",
    "model.add(Dropout(0.2))\n",
    "model.add(Dense(units = 60, activation = 'sigmoid'))\n",
    "model.add(Dropout(0.6))\n",
    "model.add(Dense(units = 140, activation = 'sigmoid'))\n",
    "model.add(Dropout(0.6))\n",
    "model.add(Dense(units = 20, activation = 'sigmoid'))\n",
    "model.compile(loss='mse', optimizer=\"adam\", metrics=[\"accuracy\"])\n",
    "model.summary()"
   ]
  },
  {
   "cell_type": "code",
   "execution_count": null,
   "metadata": {},
   "outputs": [],
   "source": [
    "Xtrain, Xtest = get_ech_complet(slp_train, surgesinput_train, slp_test, surgesinput_test)\n",
    "model.fit(Xtrain, surge_train)"
   ]
  },
  {
   "cell_type": "code",
   "execution_count": null,
   "metadata": {},
   "outputs": [],
   "source": [
    "predict_test=[]\n",
    "predict_train=[]\n",
    "\n",
    "# prédiction train\n",
    "pred_train=model.predict(Xtrain)\n",
    "predict_train.append(pred_train)\n",
    "\n",
    "# prédiction test\n",
    "pred_test = model.predict(Xtest)\n",
    "predict_test.append(pred_test)"
   ]
  },
  {
   "cell_type": "code",
   "execution_count": null,
   "metadata": {},
   "outputs": [],
   "source": [
    "predict_train=np.reshape(predict_train, (20, 5599))\n",
    "predict_test=np.reshape(predict_test, (20, 509))"
   ]
  },
  {
   "cell_type": "code",
   "execution_count": null,
   "metadata": {},
   "outputs": [],
   "source": [
    "y_columns = [f'surge1_t{i}' for i in range(10)] + [f'surge2_t{i}' for i in range(10)]\n",
    "df_pred_train, df_pred_test = get_dataframes(predict_train, predict_test)\n",
    "df_surge_train = pd.DataFrame(data=surge_train, columns=y_columns, index=Y_train['id_sequence'])"
   ]
  },
  {
   "cell_type": "code",
   "execution_count": null,
   "metadata": {},
   "outputs": [],
   "source": [
    "surge_prediction_metric(y_true=df_surge_train,y_pred=df_pred_train)\n",
    "# score 1.09"
   ]
  },
  {
   "attachments": {},
   "cell_type": "markdown",
   "metadata": {},
   "source": [
    "### Ridge"
   ]
  },
  {
   "cell_type": "code",
   "execution_count": 19,
   "metadata": {},
   "outputs": [],
   "source": [
    "from sklearn.linear_model import Ridge"
   ]
  },
  {
   "cell_type": "code",
   "execution_count": 22,
   "metadata": {},
   "outputs": [
    {
     "name": "stdout",
     "output_type": "stream",
     "text": [
      "(5599, 8405) (5599, 20)\n",
      "(509, 8405) (509, 20)\n",
      "Fitting 3 folds for each of 28 candidates, totalling 84 fits\n",
      "[CV] END ......................alpha=0.0, fit_intercept=True; total time=  11.8s\n",
      "[CV] END ......................alpha=0.0, fit_intercept=True; total time=  11.8s\n",
      "[CV] END ......................alpha=0.0, fit_intercept=True; total time=  12.3s\n",
      "[CV] END .....................alpha=0.0, fit_intercept=False; total time=  12.4s\n",
      "[CV] END .....................alpha=0.0, fit_intercept=False; total time=  11.6s\n",
      "[CV] END .....................alpha=0.0, fit_intercept=False; total time=  15.3s\n",
      "[CV] END ....................alpha=0.002, fit_intercept=True; total time=  23.7s\n",
      "[CV] END ....................alpha=0.002, fit_intercept=True; total time=  25.4s\n",
      "[CV] END ....................alpha=0.002, fit_intercept=True; total time=  23.6s\n",
      "[CV] END ...................alpha=0.002, fit_intercept=False; total time=  23.8s\n",
      "[CV] END ...................alpha=0.002, fit_intercept=False; total time=  25.0s\n",
      "[CV] END ...................alpha=0.002, fit_intercept=False; total time=  24.2s\n",
      "[CV] END ....................alpha=0.004, fit_intercept=True; total time=  22.9s\n",
      "[CV] END ....................alpha=0.004, fit_intercept=True; total time=  21.2s\n",
      "[CV] END ....................alpha=0.004, fit_intercept=True; total time=  24.2s\n",
      "[CV] END ...................alpha=0.004, fit_intercept=False; total time=  22.7s\n",
      "[CV] END ...................alpha=0.004, fit_intercept=False; total time=  23.2s\n",
      "[CV] END ...................alpha=0.004, fit_intercept=False; total time=  23.3s\n",
      "[CV] END ....................alpha=0.006, fit_intercept=True; total time=  23.7s\n",
      "[CV] END ....................alpha=0.006, fit_intercept=True; total time=  22.8s\n",
      "[CV] END ....................alpha=0.006, fit_intercept=True; total time=  21.6s\n",
      "[CV] END ...................alpha=0.006, fit_intercept=False; total time=  23.4s\n",
      "[CV] END ...................alpha=0.006, fit_intercept=False; total time=  23.1s\n",
      "[CV] END ...................alpha=0.006, fit_intercept=False; total time=  23.0s\n",
      "[CV] END ....................alpha=0.008, fit_intercept=True; total time=  22.8s\n",
      "[CV] END ....................alpha=0.008, fit_intercept=True; total time=  24.2s\n",
      "[CV] END ....................alpha=0.008, fit_intercept=True; total time=  22.8s\n",
      "[CV] END ...................alpha=0.008, fit_intercept=False; total time=  21.8s\n",
      "[CV] END ...................alpha=0.008, fit_intercept=False; total time=  23.9s\n",
      "[CV] END ...................alpha=0.008, fit_intercept=False; total time=  15.5s\n",
      "[CV] END .....................alpha=0.01, fit_intercept=True; total time=  11.4s\n",
      "[CV] END .....................alpha=0.01, fit_intercept=True; total time=  11.2s\n",
      "[CV] END .....................alpha=0.01, fit_intercept=True; total time=  11.5s\n",
      "[CV] END ....................alpha=0.01, fit_intercept=False; total time=  11.5s\n",
      "[CV] END ....................alpha=0.01, fit_intercept=False; total time=  22.6s\n",
      "[CV] END ....................alpha=0.01, fit_intercept=False; total time=  21.3s\n",
      "[CV] END ....................alpha=0.012, fit_intercept=True; total time=  21.4s\n",
      "[CV] END ....................alpha=0.012, fit_intercept=True; total time=  22.6s\n",
      "[CV] END ....................alpha=0.012, fit_intercept=True; total time=  23.0s\n",
      "[CV] END ...................alpha=0.012, fit_intercept=False; total time=  22.1s\n",
      "[CV] END ...................alpha=0.012, fit_intercept=False; total time=  23.2s\n",
      "[CV] END ...................alpha=0.012, fit_intercept=False; total time=  22.5s\n",
      "[CV] END ....................alpha=0.014, fit_intercept=True; total time=  20.9s\n",
      "[CV] END ....................alpha=0.014, fit_intercept=True; total time=  21.9s\n",
      "[CV] END ....................alpha=0.014, fit_intercept=True; total time=  22.9s\n",
      "[CV] END ...................alpha=0.014, fit_intercept=False; total time=  23.1s\n",
      "[CV] END ...................alpha=0.014, fit_intercept=False; total time=  22.9s\n",
      "[CV] END ...................alpha=0.014, fit_intercept=False; total time=  23.7s\n",
      "[CV] END ....................alpha=0.016, fit_intercept=True; total time=  22.5s\n",
      "[CV] END ....................alpha=0.016, fit_intercept=True; total time=  21.1s\n",
      "[CV] END ....................alpha=0.016, fit_intercept=True; total time=  14.5s\n",
      "[CV] END ...................alpha=0.016, fit_intercept=False; total time=  11.3s\n",
      "[CV] END ...................alpha=0.016, fit_intercept=False; total time=  11.2s\n",
      "[CV] END ...................alpha=0.016, fit_intercept=False; total time=  11.2s\n",
      "[CV] END .....alpha=0.018000000000000002, fit_intercept=True; total time=  11.3s\n",
      "[CV] END .....alpha=0.018000000000000002, fit_intercept=True; total time=  11.2s\n",
      "[CV] END .....alpha=0.018000000000000002, fit_intercept=True; total time=  12.2s\n",
      "[CV] END ....alpha=0.018000000000000002, fit_intercept=False; total time=  11.6s\n",
      "[CV] END ....alpha=0.018000000000000002, fit_intercept=False; total time=  11.5s\n",
      "[CV] END ....alpha=0.018000000000000002, fit_intercept=False; total time=  11.6s\n",
      "[CV] END .....................alpha=0.02, fit_intercept=True; total time=  11.5s\n",
      "[CV] END .....................alpha=0.02, fit_intercept=True; total time=  11.6s\n",
      "[CV] END .....................alpha=0.02, fit_intercept=True; total time=  11.6s\n",
      "[CV] END ....................alpha=0.02, fit_intercept=False; total time=  11.6s\n",
      "[CV] END ....................alpha=0.02, fit_intercept=False; total time=  11.8s\n",
      "[CV] END ....................alpha=0.02, fit_intercept=False; total time=  11.6s\n",
      "[CV] END .....................alpha=0.01, fit_intercept=True; total time=  11.6s\n",
      "[CV] END .....................alpha=0.01, fit_intercept=True; total time=  11.2s\n",
      "[CV] END .....................alpha=0.01, fit_intercept=True; total time=  11.9s\n",
      "[CV] END ....................alpha=0.01, fit_intercept=False; total time=  11.5s\n",
      "[CV] END ....................alpha=0.01, fit_intercept=False; total time=  11.5s\n",
      "[CV] END ....................alpha=0.01, fit_intercept=False; total time=  11.5s\n",
      "[CV] END ....................alpha=0.001, fit_intercept=True; total time=  11.5s\n",
      "[CV] END ....................alpha=0.001, fit_intercept=True; total time=  11.7s\n",
      "[CV] END ....................alpha=0.001, fit_intercept=True; total time=  11.6s\n",
      "[CV] END ...................alpha=0.001, fit_intercept=False; total time=  11.5s\n",
      "[CV] END ...................alpha=0.001, fit_intercept=False; total time=  11.9s\n",
      "[CV] END ...................alpha=0.001, fit_intercept=False; total time=  11.8s\n",
      "[CV] END ...................alpha=0.0001, fit_intercept=True; total time=  11.2s\n",
      "[CV] END ...................alpha=0.0001, fit_intercept=True; total time=  11.6s\n",
      "[CV] END ...................alpha=0.0001, fit_intercept=True; total time=  21.3s\n",
      "[CV] END ..................alpha=0.0001, fit_intercept=False; total time=  21.1s\n",
      "[CV] END ..................alpha=0.0001, fit_intercept=False; total time=  21.9s\n",
      "[CV] END ..................alpha=0.0001, fit_intercept=False; total time=  22.7s\n"
     ]
    },
    {
     "data": {
      "text/html": [
       "<style>#sk-container-id-1 {color: black;background-color: white;}#sk-container-id-1 pre{padding: 0;}#sk-container-id-1 div.sk-toggleable {background-color: white;}#sk-container-id-1 label.sk-toggleable__label {cursor: pointer;display: block;width: 100%;margin-bottom: 0;padding: 0.3em;box-sizing: border-box;text-align: center;}#sk-container-id-1 label.sk-toggleable__label-arrow:before {content: \"▸\";float: left;margin-right: 0.25em;color: #696969;}#sk-container-id-1 label.sk-toggleable__label-arrow:hover:before {color: black;}#sk-container-id-1 div.sk-estimator:hover label.sk-toggleable__label-arrow:before {color: black;}#sk-container-id-1 div.sk-toggleable__content {max-height: 0;max-width: 0;overflow: hidden;text-align: left;background-color: #f0f8ff;}#sk-container-id-1 div.sk-toggleable__content pre {margin: 0.2em;color: black;border-radius: 0.25em;background-color: #f0f8ff;}#sk-container-id-1 input.sk-toggleable__control:checked~div.sk-toggleable__content {max-height: 200px;max-width: 100%;overflow: auto;}#sk-container-id-1 input.sk-toggleable__control:checked~label.sk-toggleable__label-arrow:before {content: \"▾\";}#sk-container-id-1 div.sk-estimator input.sk-toggleable__control:checked~label.sk-toggleable__label {background-color: #d4ebff;}#sk-container-id-1 div.sk-label input.sk-toggleable__control:checked~label.sk-toggleable__label {background-color: #d4ebff;}#sk-container-id-1 input.sk-hidden--visually {border: 0;clip: rect(1px 1px 1px 1px);clip: rect(1px, 1px, 1px, 1px);height: 1px;margin: -1px;overflow: hidden;padding: 0;position: absolute;width: 1px;}#sk-container-id-1 div.sk-estimator {font-family: monospace;background-color: #f0f8ff;border: 1px dotted black;border-radius: 0.25em;box-sizing: border-box;margin-bottom: 0.5em;}#sk-container-id-1 div.sk-estimator:hover {background-color: #d4ebff;}#sk-container-id-1 div.sk-parallel-item::after {content: \"\";width: 100%;border-bottom: 1px solid gray;flex-grow: 1;}#sk-container-id-1 div.sk-label:hover label.sk-toggleable__label {background-color: #d4ebff;}#sk-container-id-1 div.sk-serial::before {content: \"\";position: absolute;border-left: 1px solid gray;box-sizing: border-box;top: 0;bottom: 0;left: 50%;z-index: 0;}#sk-container-id-1 div.sk-serial {display: flex;flex-direction: column;align-items: center;background-color: white;padding-right: 0.2em;padding-left: 0.2em;position: relative;}#sk-container-id-1 div.sk-item {position: relative;z-index: 1;}#sk-container-id-1 div.sk-parallel {display: flex;align-items: stretch;justify-content: center;background-color: white;position: relative;}#sk-container-id-1 div.sk-item::before, #sk-container-id-1 div.sk-parallel-item::before {content: \"\";position: absolute;border-left: 1px solid gray;box-sizing: border-box;top: 0;bottom: 0;left: 50%;z-index: -1;}#sk-container-id-1 div.sk-parallel-item {display: flex;flex-direction: column;z-index: 1;position: relative;background-color: white;}#sk-container-id-1 div.sk-parallel-item:first-child::after {align-self: flex-end;width: 50%;}#sk-container-id-1 div.sk-parallel-item:last-child::after {align-self: flex-start;width: 50%;}#sk-container-id-1 div.sk-parallel-item:only-child::after {width: 0;}#sk-container-id-1 div.sk-dashed-wrapped {border: 1px dashed gray;margin: 0 0.4em 0.5em 0.4em;box-sizing: border-box;padding-bottom: 0.4em;background-color: white;}#sk-container-id-1 div.sk-label label {font-family: monospace;font-weight: bold;display: inline-block;line-height: 1.2em;}#sk-container-id-1 div.sk-label-container {text-align: center;}#sk-container-id-1 div.sk-container {/* jupyter's `normalize.less` sets `[hidden] { display: none; }` but bootstrap.min.css set `[hidden] { display: none !important; }` so we also need the `!important` here to be able to override the default hidden behavior on the sphinx rendered scikit-learn.org. See: https://github.com/scikit-learn/scikit-learn/issues/21755 */display: inline-block !important;position: relative;}#sk-container-id-1 div.sk-text-repr-fallback {display: none;}</style><div id=\"sk-container-id-1\" class=\"sk-top-container\"><div class=\"sk-text-repr-fallback\"><pre>GridSearchCV(cv=3, estimator=Ridge(),\n",
       "             param_grid={&#x27;alpha&#x27;: [0.0, 0.002, 0.004, 0.006, 0.008, 0.01, 0.012,\n",
       "                                   0.014, 0.016, 0.018000000000000002, 0.02,\n",
       "                                   0.01, 0.001, 0.0001],\n",
       "                         &#x27;fit_intercept&#x27;: [True, False]},\n",
       "             scoring=&#x27;neg_mean_squared_error&#x27;, verbose=2)</pre><b>In a Jupyter environment, please rerun this cell to show the HTML representation or trust the notebook. <br />On GitHub, the HTML representation is unable to render, please try loading this page with nbviewer.org.</b></div><div class=\"sk-container\" hidden><div class=\"sk-item sk-dashed-wrapped\"><div class=\"sk-label-container\"><div class=\"sk-label sk-toggleable\"><input class=\"sk-toggleable__control sk-hidden--visually\" id=\"sk-estimator-id-1\" type=\"checkbox\" ><label for=\"sk-estimator-id-1\" class=\"sk-toggleable__label sk-toggleable__label-arrow\">GridSearchCV</label><div class=\"sk-toggleable__content\"><pre>GridSearchCV(cv=3, estimator=Ridge(),\n",
       "             param_grid={&#x27;alpha&#x27;: [0.0, 0.002, 0.004, 0.006, 0.008, 0.01, 0.012,\n",
       "                                   0.014, 0.016, 0.018000000000000002, 0.02,\n",
       "                                   0.01, 0.001, 0.0001],\n",
       "                         &#x27;fit_intercept&#x27;: [True, False]},\n",
       "             scoring=&#x27;neg_mean_squared_error&#x27;, verbose=2)</pre></div></div></div><div class=\"sk-parallel\"><div class=\"sk-parallel-item\"><div class=\"sk-item\"><div class=\"sk-label-container\"><div class=\"sk-label sk-toggleable\"><input class=\"sk-toggleable__control sk-hidden--visually\" id=\"sk-estimator-id-2\" type=\"checkbox\" ><label for=\"sk-estimator-id-2\" class=\"sk-toggleable__label sk-toggleable__label-arrow\">estimator: Ridge</label><div class=\"sk-toggleable__content\"><pre>Ridge()</pre></div></div></div><div class=\"sk-serial\"><div class=\"sk-item\"><div class=\"sk-estimator sk-toggleable\"><input class=\"sk-toggleable__control sk-hidden--visually\" id=\"sk-estimator-id-3\" type=\"checkbox\" ><label for=\"sk-estimator-id-3\" class=\"sk-toggleable__label sk-toggleable__label-arrow\">Ridge</label><div class=\"sk-toggleable__content\"><pre>Ridge()</pre></div></div></div></div></div></div></div></div></div></div>"
      ],
      "text/plain": [
       "GridSearchCV(cv=3, estimator=Ridge(),\n",
       "             param_grid={'alpha': [0.0, 0.002, 0.004, 0.006, 0.008, 0.01, 0.012,\n",
       "                                   0.014, 0.016, 0.018000000000000002, 0.02,\n",
       "                                   0.01, 0.001, 0.0001],\n",
       "                         'fit_intercept': [True, False]},\n",
       "             scoring='neg_mean_squared_error', verbose=2)"
      ]
     },
     "execution_count": 22,
     "metadata": {},
     "output_type": "execute_result"
    }
   ],
   "source": [
    "predict_test=[]\n",
    "predict_train=[]\n",
    "\n",
    "Xtrain, Xtest = get_ech_complet(slp_train, surgesinput_train, slp_test, surgesinput_test)\n",
    "\n",
    "# modèle\n",
    "model = Ridge()\n",
    "parameters = {'alpha': list(np.linspace(0, 0.02, 11)) + [0.01,0.001,0.0001] , \n",
    "              \"fit_intercept\": [True, False]}\n",
    "ridge = GridSearchCV(model, parameters, scoring='neg_mean_squared_error',cv=3, verbose=2)\n",
    "ridge.fit(Xtrain, surge_train)"
   ]
  },
  {
   "cell_type": "code",
   "execution_count": 23,
   "metadata": {},
   "outputs": [
    {
     "name": "stdout",
     "output_type": "stream",
     "text": [
      "Ridge(alpha=0.016, fit_intercept=False)\n"
     ]
    }
   ],
   "source": [
    "print(ridge.best_estimator_) \n",
    "# alpha = alpha=0.016 et fit_intercept=False"
   ]
  },
  {
   "cell_type": "code",
   "execution_count": 25,
   "metadata": {},
   "outputs": [
    {
     "data": {
      "text/html": [
       "<style>#sk-container-id-2 {color: black;background-color: white;}#sk-container-id-2 pre{padding: 0;}#sk-container-id-2 div.sk-toggleable {background-color: white;}#sk-container-id-2 label.sk-toggleable__label {cursor: pointer;display: block;width: 100%;margin-bottom: 0;padding: 0.3em;box-sizing: border-box;text-align: center;}#sk-container-id-2 label.sk-toggleable__label-arrow:before {content: \"▸\";float: left;margin-right: 0.25em;color: #696969;}#sk-container-id-2 label.sk-toggleable__label-arrow:hover:before {color: black;}#sk-container-id-2 div.sk-estimator:hover label.sk-toggleable__label-arrow:before {color: black;}#sk-container-id-2 div.sk-toggleable__content {max-height: 0;max-width: 0;overflow: hidden;text-align: left;background-color: #f0f8ff;}#sk-container-id-2 div.sk-toggleable__content pre {margin: 0.2em;color: black;border-radius: 0.25em;background-color: #f0f8ff;}#sk-container-id-2 input.sk-toggleable__control:checked~div.sk-toggleable__content {max-height: 200px;max-width: 100%;overflow: auto;}#sk-container-id-2 input.sk-toggleable__control:checked~label.sk-toggleable__label-arrow:before {content: \"▾\";}#sk-container-id-2 div.sk-estimator input.sk-toggleable__control:checked~label.sk-toggleable__label {background-color: #d4ebff;}#sk-container-id-2 div.sk-label input.sk-toggleable__control:checked~label.sk-toggleable__label {background-color: #d4ebff;}#sk-container-id-2 input.sk-hidden--visually {border: 0;clip: rect(1px 1px 1px 1px);clip: rect(1px, 1px, 1px, 1px);height: 1px;margin: -1px;overflow: hidden;padding: 0;position: absolute;width: 1px;}#sk-container-id-2 div.sk-estimator {font-family: monospace;background-color: #f0f8ff;border: 1px dotted black;border-radius: 0.25em;box-sizing: border-box;margin-bottom: 0.5em;}#sk-container-id-2 div.sk-estimator:hover {background-color: #d4ebff;}#sk-container-id-2 div.sk-parallel-item::after {content: \"\";width: 100%;border-bottom: 1px solid gray;flex-grow: 1;}#sk-container-id-2 div.sk-label:hover label.sk-toggleable__label {background-color: #d4ebff;}#sk-container-id-2 div.sk-serial::before {content: \"\";position: absolute;border-left: 1px solid gray;box-sizing: border-box;top: 0;bottom: 0;left: 50%;z-index: 0;}#sk-container-id-2 div.sk-serial {display: flex;flex-direction: column;align-items: center;background-color: white;padding-right: 0.2em;padding-left: 0.2em;position: relative;}#sk-container-id-2 div.sk-item {position: relative;z-index: 1;}#sk-container-id-2 div.sk-parallel {display: flex;align-items: stretch;justify-content: center;background-color: white;position: relative;}#sk-container-id-2 div.sk-item::before, #sk-container-id-2 div.sk-parallel-item::before {content: \"\";position: absolute;border-left: 1px solid gray;box-sizing: border-box;top: 0;bottom: 0;left: 50%;z-index: -1;}#sk-container-id-2 div.sk-parallel-item {display: flex;flex-direction: column;z-index: 1;position: relative;background-color: white;}#sk-container-id-2 div.sk-parallel-item:first-child::after {align-self: flex-end;width: 50%;}#sk-container-id-2 div.sk-parallel-item:last-child::after {align-self: flex-start;width: 50%;}#sk-container-id-2 div.sk-parallel-item:only-child::after {width: 0;}#sk-container-id-2 div.sk-dashed-wrapped {border: 1px dashed gray;margin: 0 0.4em 0.5em 0.4em;box-sizing: border-box;padding-bottom: 0.4em;background-color: white;}#sk-container-id-2 div.sk-label label {font-family: monospace;font-weight: bold;display: inline-block;line-height: 1.2em;}#sk-container-id-2 div.sk-label-container {text-align: center;}#sk-container-id-2 div.sk-container {/* jupyter's `normalize.less` sets `[hidden] { display: none; }` but bootstrap.min.css set `[hidden] { display: none !important; }` so we also need the `!important` here to be able to override the default hidden behavior on the sphinx rendered scikit-learn.org. See: https://github.com/scikit-learn/scikit-learn/issues/21755 */display: inline-block !important;position: relative;}#sk-container-id-2 div.sk-text-repr-fallback {display: none;}</style><div id=\"sk-container-id-2\" class=\"sk-top-container\"><div class=\"sk-text-repr-fallback\"><pre>Ridge(alpha=0.016, fit_intercept=False)</pre><b>In a Jupyter environment, please rerun this cell to show the HTML representation or trust the notebook. <br />On GitHub, the HTML representation is unable to render, please try loading this page with nbviewer.org.</b></div><div class=\"sk-container\" hidden><div class=\"sk-item\"><div class=\"sk-estimator sk-toggleable\"><input class=\"sk-toggleable__control sk-hidden--visually\" id=\"sk-estimator-id-4\" type=\"checkbox\" checked><label for=\"sk-estimator-id-4\" class=\"sk-toggleable__label sk-toggleable__label-arrow\">Ridge</label><div class=\"sk-toggleable__content\"><pre>Ridge(alpha=0.016, fit_intercept=False)</pre></div></div></div></div></div>"
      ],
      "text/plain": [
       "Ridge(alpha=0.016, fit_intercept=False)"
      ]
     },
     "execution_count": 25,
     "metadata": {},
     "output_type": "execute_result"
    }
   ],
   "source": [
    "best_model_ridge = ridge.best_estimator_\n",
    "best_model_ridge.fit(Xtrain, surge_train)"
   ]
  },
  {
   "cell_type": "code",
   "execution_count": 26,
   "metadata": {},
   "outputs": [],
   "source": [
    "# prédiction train\n",
    "pred_train=best_model_ridge.predict(Xtrain)\n",
    "predict_train.append(pred_train)\n",
    "\n",
    "# prédiction test\n",
    "pred_test = best_model_ridge.predict(Xtest)\n",
    "predict_test.append(pred_test)"
   ]
  },
  {
   "cell_type": "code",
   "execution_count": 27,
   "metadata": {},
   "outputs": [],
   "source": [
    "predict_train=np.reshape(predict_train, (20, 5599))\n",
    "predict_test=np.reshape(predict_test, (20, 509))"
   ]
  },
  {
   "cell_type": "code",
   "execution_count": 28,
   "metadata": {},
   "outputs": [],
   "source": [
    "y_columns = [f'surge1_t{i}' for i in range(10)] + [f'surge2_t{i}' for i in range(10)]\n",
    "df_pred_train, df_pred_test = get_dataframes(predict_train, predict_test)\n",
    "df_surge_train = pd.DataFrame(data=surge_train, columns=y_columns, index=Y_train['id_sequence'])"
   ]
  },
  {
   "cell_type": "code",
   "execution_count": 29,
   "metadata": {},
   "outputs": [
    {
     "data": {
      "text/plain": [
       "1.8623280480589384"
      ]
     },
     "execution_count": 29,
     "metadata": {},
     "output_type": "execute_result"
    }
   ],
   "source": [
    "surge_prediction_metric(y_true=df_surge_train,y_pred=df_pred_train)\n",
    "# score 1.86"
   ]
  },
  {
   "attachments": {},
   "cell_type": "markdown",
   "metadata": {},
   "source": [
    "### PLS"
   ]
  },
  {
   "cell_type": "code",
   "execution_count": 18,
   "metadata": {},
   "outputs": [],
   "source": [
    "from sklearn.cross_decomposition import PLSRegression\n",
    "from sklearn.model_selection import *\n",
    "from sklearn.preprocessing import *\n",
    "from sklearn.metrics import *\n",
    "\n",
    "from sklearn import model_selection\n",
    "from sklearn.model_selection import RepeatedKFold, train_test_split, cross_val_predict, GridSearchCV"
   ]
  },
  {
   "cell_type": "code",
   "execution_count": 19,
   "metadata": {},
   "outputs": [
    {
     "name": "stdout",
     "output_type": "stream",
     "text": [
      "(5599, 8405) (5599, 20)\n",
      "(509, 8405) (509, 20)\n"
     ]
    }
   ],
   "source": [
    "Xtrain, Xtest = get_ech_complet(slp_train,surgesinput_train,slp_test, surgesinput_test)"
   ]
  },
  {
   "attachments": {},
   "cell_type": "markdown",
   "metadata": {},
   "source": [
    "#### Visualisation et recherche du nombre de composantes optimales"
   ]
  },
  {
   "cell_type": "code",
   "execution_count": null,
   "metadata": {},
   "outputs": [],
   "source": [
    "metrique=[]\n",
    "\n",
    "for n_comp in np.arange(1,32):\n",
    "    # PLS avec nb de composantes optimal\n",
    "    pls_opt = PLSRegression(n_components=n_comp)\n",
    "\n",
    "    # Fit sur l'échantillon d'apprentissage\n",
    "    pls_opt.fit(Xtrain, surge_train)\n",
    "\n",
    "    predict_train = pls_opt.predict(Xtrain)\n",
    "    predict_test = pls_opt.predict(Xtest)\n",
    "\n",
    "\n",
    "    predict_train=pd.DataFrame(predict_train).T\n",
    "    predict_test=pd.DataFrame(predict_test).T\n",
    "\n",
    "    y_columns = [f'surge1_t{i}' for i in range(10)] + [f'surge2_t{i}' for i in range(10)]\n",
    "    df_pred_train, df_pred_test = get_dataframes(predict_train, predict_test)\n",
    "\n",
    "    df_surge_train = pd.DataFrame(data=surge_train, columns=y_columns, index=Y_train['id_sequence'])\n",
    "    metrique.append(surge_prediction_metric(y_true=df_surge_train,y_pred=df_pred_train))"
   ]
  },
  {
   "cell_type": "code",
   "execution_count": 24,
   "metadata": {},
   "outputs": [
    {
     "data": {
      "image/png": "[encoded data removed]",
      "text/plain": [
       "<Figure size 640x480 with 1 Axes>"
      ]
     },
     "metadata": {},
     "output_type": "display_data"
    }
   ],
   "source": [
    "import seaborn as sns\n",
    "sns.set()\n",
    "plt.plot(np.arange(1,32),metrique)\n",
    "plt.xlabel(\"Nombre de composantes\")\n",
    "plt.ylabel(\"Score avec la métrique surge\")\n",
    "plt.title(\"Evolution du score selon le nombre de composantes\")\n",
    "plt.show()\n",
    "\n",
    "df_pred_test.to_csv('Y_test_prediction.csv', index_label='id_sequence', sep=',') # conversion d'un df en csv"
   ]
  },
  {
   "attachments": {},
   "cell_type": "markdown",
   "metadata": {},
   "source": [
    "#### Teste des erreurs sur un nombre de composantes fixés pour rechercher le meilleur nombre de composantes"
   ]
  },
  {
   "cell_type": "code",
   "execution_count": 21,
   "metadata": {},
   "outputs": [],
   "source": [
    "# PLS avec nb de composantes optimal\n",
    "pls_opt = PLSRegression(n_components=31)\n",
    "\n",
    "# Fit sur l'échantillon d'apprentissage\n",
    "pls_opt.fit(Xtrain, surge_train)\n",
    "\n",
    "predict_train = pls_opt.predict(Xtrain)\n",
    "predict_test = pls_opt.predict(Xtest)\n",
    "\n",
    "predict_train=pd.DataFrame(predict_train).T\n",
    "predict_test=pd.DataFrame(predict_test).T\n",
    "\n",
    "y_columns = [f'surge1_t{i}' for i in range(10)] + [f'surge2_t{i}' for i in range(10)]\n",
    "df_pred_train, df_pred_test = get_dataframes(predict_train, predict_test)\n",
    "\n",
    "df_surge_train = pd.DataFrame(data=surge_train, columns=y_columns, index=Y_train['id_sequence'])\n"
   ]
  },
  {
   "cell_type": "code",
   "execution_count": 22,
   "metadata": {},
   "outputs": [
    {
     "data": {
      "text/plain": [
       "0.4096840765372157"
      ]
     },
     "execution_count": 22,
     "metadata": {},
     "output_type": "execute_result"
    }
   ],
   "source": [
    "surge_prediction_metric(y_true=df_surge_train,y_pred=df_pred_train)\n",
    "# 0.4096 pour 31 composantes"
   ]
  },
  {
   "attachments": {},
   "cell_type": "markdown",
   "metadata": {},
   "source": [
    "### LASSO"
   ]
  },
  {
   "cell_type": "code",
   "execution_count": 18,
   "metadata": {},
   "outputs": [
    {
     "name": "stdout",
     "output_type": "stream",
     "text": [
      "Régression lasso avec 0.011 composantes\n",
      "(5599, 8405) (5599, 20)\n",
      "(509, 8405) (509, 20)\n",
      "0.38879624414418623\n"
     ]
    }
   ],
   "source": [
    "from sklearn.linear_model import MultiTaskLassoCV, Lasso\n",
    "\n",
    "\n",
    "metrique=[]\n",
    "alpha=0.011\n",
    "\n",
    "print(f\"Régression lasso avec {alpha} composantes\")\n",
    "    \n",
    "# données\n",
    "Xtrain, Xtest = get_ech_complet(slp_train, surgesinput_train, slp_test, surgesinput_test)\n",
    "\n",
    "# PLS avec nb de composantes optimal\n",
    "LASSO = Lasso(alpha=alpha)\n",
    "\n",
    "# Fit sur l'échantillon d'apprentissage\n",
    "LASSO.fit(Xtrain, surge_train )\n",
    "\n",
    "predict_train = LASSO.predict(Xtrain)\n",
    "predict_test = LASSO.predict(Xtest)\n",
    "\n",
    "\n",
    "predict_train=pd.DataFrame(predict_train)\n",
    "predict_test=pd.DataFrame(predict_test)\n",
    "\n",
    "y_columns = [f'surge1_t{i}' for i in range(10)] + [f'surge2_t{i}' for i in range(10)]\n",
    "df_pred_train, df_pred_test = get_dataframes(predict_train.T, predict_test.T)\n",
    "\n",
    "df_surge_train = pd.DataFrame(data=surge_train, columns=y_columns, index=Y_train['id_sequence'])\n",
    "print(surge_prediction_metric(y_true=df_surge_train,y_pred=df_pred_train))"
   ]
  },
  {
   "cell_type": "markdown",
   "metadata": {
    "id": "fmOjAQfwx3yq"
   },
   "source": [
    "# Conversion des résultats au format csv"
   ]
  },
  {
   "cell_type": "code",
   "execution_count": 20,
   "metadata": {
    "id": "52amqmqnx3yr"
   },
   "outputs": [],
   "source": [
    "predict_test = pd.DataFrame(predict_test).T\n",
    "df_pred_test = pd.DataFrame(data=predict_test.values, columns=y_columns, index=X_test['id_sequence'])\n",
    "df_pred_test.index.names=[\"id_sequence\"]\n",
    "df_pred_test.to_csv('Y_test_prediction_LASSO_0.011.csv', index_label='id_sequence', sep=',') # conversion d'un df en csv"
   ]
  }
 ],
 "metadata": {
  "colab": {
   "collapsed_sections": [
    "CPy0-GjInU-R"
   ],
   "provenance": []
  },
  "kernelspec": {
   "display_name": "Python 3 (ipykernel)",
   "language": "python",
   "name": "python3"
  },
  "language_info": {
   "codemirror_mode": {
    "name": "ipython",
    "version": 3
   },
   "file_extension": ".py",
   "mimetype": "text/x-python",
   "name": "python",
   "nbconvert_exporter": "python",
   "pygments_lexer": "ipython3",
   "version": "3.11.0 (main, Oct 24 2022, 18:26:48) [MSC v.1933 64 bit (AMD64)]"
  },
  "vscode": {
   "interpreter": {
    "hash": "3c229d494069f20c3fcb5c0373f6331941eaec1d792fc1562f17e0a0636a531a"
   }
  }
 },
 "nbformat": 4,
 "nbformat_minor": 1
}
