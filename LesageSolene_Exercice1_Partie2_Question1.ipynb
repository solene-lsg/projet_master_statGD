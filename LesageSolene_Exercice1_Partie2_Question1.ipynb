{
 "cells": [
  {
   "attachments": {},
   "cell_type": "markdown",
   "id": "57795aef",
   "metadata": {},
   "source": [
    "# Projet : Statistique en Grande Dimension - Exercice 1\n",
    "\n",
    "Solène Lesage"
   ]
  },
  {
   "attachments": {},
   "cell_type": "markdown",
   "id": "8db627c8",
   "metadata": {},
   "source": [
    "## Deuxième partie"
   ]
  },
  {
   "attachments": {},
   "cell_type": "markdown",
   "id": "0af535f6",
   "metadata": {},
   "source": [
    "### Importer packages"
   ]
  },
  {
   "cell_type": "code",
   "execution_count": 1,
   "id": "be4d4d67",
   "metadata": {},
   "outputs": [],
   "source": [
    "import pandas as pd\n",
    "import numpy as np\n",
    "import matplotlib.pyplot as plt\n",
    "import seaborn as sns\n",
    "plt.style.use('ggplot')\n",
    "\n",
    "import plotly\n",
    "import plotly.express as px\n",
    "import plotly.graph_objects as go\n",
    "\n",
    "import warnings\n",
    "warnings.filterwarnings(\"ignore\")\n",
    "\n",
    "from sklearn.ensemble import GradientBoostingClassifier\n",
    "from xgboost import XGBClassifier\n",
    "from lightgbm import LGBMClassifier\n",
    "import lightgbm as lgb\n",
    "\n",
    "from sklearn.metrics import mean_squared_error, r2_score, accuracy_score, precision_score, recall_score, classification_report, confusion_matrix\n",
    "\n",
    "from sklearn import model_selection\n",
    "from sklearn.model_selection import RepeatedKFold, RepeatedStratifiedKFold, KFold, GridSearchCV, train_test_split, cross_val_predict, cross_val_score, validation_curve\n"
   ]
  },
  {
   "attachments": {},
   "cell_type": "markdown",
   "id": "3398e6f2",
   "metadata": {},
   "source": [
    "### Question 1 : Proposer et mettre en œuvre des variantes de l'algorithme Gradient Boosting et les tester."
   ]
  },
  {
   "attachments": {},
   "cell_type": "markdown",
   "id": "20f0a75f",
   "metadata": {},
   "source": [
    "#### Importer la base de données MNIST\n",
    "\n",
    "On va utiliser une partie de la base de données MNIST. Il s'agit d'une base de données de chiffres écrits à la main. Elle regroupe 59999 images d’apprentissage et 9999 images de test. Ce sont des images en noir et blanc, normalisées centrées de 28 pixels de côté.\n",
    "\n",
    "Comme nous ne souhaitons pas visualiser les images, nous n'avons pas besoin de redimensionner chaque ligne en une matrice de 28 par 28 pixels.\n",
    "\n",
    "Nous sommes ici dans un problème de classification car nous devons classifier les chiffres sur les différentes possibilités de 0 à 9. Ainsi, il y a 10 classes.\n",
    "\n",
    "On pourra tester l'algorithme Gradient Boosting sur ces données ainsi qu'utiliser différentes variantes à savoir : XGBoost, LightGBM et CatBoost.\n",
    "\n",
    "Puis, on pourra également évaluer la qualité des modèles en utilisant des métriques pour la classification comme l'accuracy, les faux positifs, les faux négatifs, une matrice de confusion, la précision, le rappel ainsi que le F1-score."
   ]
  },
  {
   "cell_type": "code",
   "execution_count": 2,
   "id": "614b788b",
   "metadata": {},
   "outputs": [
    {
     "data": {
      "text/html": [
       "<div>\n",
       "<style scoped>\n",
       "    .dataframe tbody tr th:only-of-type {\n",
       "        vertical-align: middle;\n",
       "    }\n",
       "\n",
       "    .dataframe tbody tr th {\n",
       "        vertical-align: top;\n",
       "    }\n",
       "\n",
       "    .dataframe thead th {\n",
       "        text-align: right;\n",
       "    }\n",
       "</style>\n",
       "<table border=\"1\" class=\"dataframe\">\n",
       "  <thead>\n",
       "    <tr style=\"text-align: right;\">\n",
       "      <th></th>\n",
       "      <th>5</th>\n",
       "      <th>0</th>\n",
       "      <th>0.1</th>\n",
       "      <th>0.2</th>\n",
       "      <th>0.3</th>\n",
       "      <th>0.4</th>\n",
       "      <th>0.5</th>\n",
       "      <th>0.6</th>\n",
       "      <th>0.7</th>\n",
       "      <th>0.8</th>\n",
       "      <th>...</th>\n",
       "      <th>0.608</th>\n",
       "      <th>0.609</th>\n",
       "      <th>0.610</th>\n",
       "      <th>0.611</th>\n",
       "      <th>0.612</th>\n",
       "      <th>0.613</th>\n",
       "      <th>0.614</th>\n",
       "      <th>0.615</th>\n",
       "      <th>0.616</th>\n",
       "      <th>0.617</th>\n",
       "    </tr>\n",
       "  </thead>\n",
       "  <tbody>\n",
       "    <tr>\n",
       "      <th>0</th>\n",
       "      <td>0</td>\n",
       "      <td>0</td>\n",
       "      <td>0</td>\n",
       "      <td>0</td>\n",
       "      <td>0</td>\n",
       "      <td>0</td>\n",
       "      <td>0</td>\n",
       "      <td>0</td>\n",
       "      <td>0</td>\n",
       "      <td>0</td>\n",
       "      <td>...</td>\n",
       "      <td>0</td>\n",
       "      <td>0</td>\n",
       "      <td>0</td>\n",
       "      <td>0</td>\n",
       "      <td>0</td>\n",
       "      <td>0</td>\n",
       "      <td>0</td>\n",
       "      <td>0</td>\n",
       "      <td>0</td>\n",
       "      <td>0</td>\n",
       "    </tr>\n",
       "    <tr>\n",
       "      <th>1</th>\n",
       "      <td>4</td>\n",
       "      <td>0</td>\n",
       "      <td>0</td>\n",
       "      <td>0</td>\n",
       "      <td>0</td>\n",
       "      <td>0</td>\n",
       "      <td>0</td>\n",
       "      <td>0</td>\n",
       "      <td>0</td>\n",
       "      <td>0</td>\n",
       "      <td>...</td>\n",
       "      <td>0</td>\n",
       "      <td>0</td>\n",
       "      <td>0</td>\n",
       "      <td>0</td>\n",
       "      <td>0</td>\n",
       "      <td>0</td>\n",
       "      <td>0</td>\n",
       "      <td>0</td>\n",
       "      <td>0</td>\n",
       "      <td>0</td>\n",
       "    </tr>\n",
       "    <tr>\n",
       "      <th>2</th>\n",
       "      <td>1</td>\n",
       "      <td>0</td>\n",
       "      <td>0</td>\n",
       "      <td>0</td>\n",
       "      <td>0</td>\n",
       "      <td>0</td>\n",
       "      <td>0</td>\n",
       "      <td>0</td>\n",
       "      <td>0</td>\n",
       "      <td>0</td>\n",
       "      <td>...</td>\n",
       "      <td>0</td>\n",
       "      <td>0</td>\n",
       "      <td>0</td>\n",
       "      <td>0</td>\n",
       "      <td>0</td>\n",
       "      <td>0</td>\n",
       "      <td>0</td>\n",
       "      <td>0</td>\n",
       "      <td>0</td>\n",
       "      <td>0</td>\n",
       "    </tr>\n",
       "    <tr>\n",
       "      <th>3</th>\n",
       "      <td>9</td>\n",
       "      <td>0</td>\n",
       "      <td>0</td>\n",
       "      <td>0</td>\n",
       "      <td>0</td>\n",
       "      <td>0</td>\n",
       "      <td>0</td>\n",
       "      <td>0</td>\n",
       "      <td>0</td>\n",
       "      <td>0</td>\n",
       "      <td>...</td>\n",
       "      <td>0</td>\n",
       "      <td>0</td>\n",
       "      <td>0</td>\n",
       "      <td>0</td>\n",
       "      <td>0</td>\n",
       "      <td>0</td>\n",
       "      <td>0</td>\n",
       "      <td>0</td>\n",
       "      <td>0</td>\n",
       "      <td>0</td>\n",
       "    </tr>\n",
       "    <tr>\n",
       "      <th>4</th>\n",
       "      <td>2</td>\n",
       "      <td>0</td>\n",
       "      <td>0</td>\n",
       "      <td>0</td>\n",
       "      <td>0</td>\n",
       "      <td>0</td>\n",
       "      <td>0</td>\n",
       "      <td>0</td>\n",
       "      <td>0</td>\n",
       "      <td>0</td>\n",
       "      <td>...</td>\n",
       "      <td>0</td>\n",
       "      <td>0</td>\n",
       "      <td>0</td>\n",
       "      <td>0</td>\n",
       "      <td>0</td>\n",
       "      <td>0</td>\n",
       "      <td>0</td>\n",
       "      <td>0</td>\n",
       "      <td>0</td>\n",
       "      <td>0</td>\n",
       "    </tr>\n",
       "  </tbody>\n",
       "</table>\n",
       "<p>5 rows × 785 columns</p>\n",
       "</div>"
      ],
      "text/plain": [
       "   5  0  0.1  0.2  0.3  0.4  0.5  0.6  0.7  0.8  ...  0.608  0.609  0.610  \\\n",
       "0  0  0    0    0    0    0    0    0    0    0  ...      0      0      0   \n",
       "1  4  0    0    0    0    0    0    0    0    0  ...      0      0      0   \n",
       "2  1  0    0    0    0    0    0    0    0    0  ...      0      0      0   \n",
       "3  9  0    0    0    0    0    0    0    0    0  ...      0      0      0   \n",
       "4  2  0    0    0    0    0    0    0    0    0  ...      0      0      0   \n",
       "\n",
       "   0.611  0.612  0.613  0.614  0.615  0.616  0.617  \n",
       "0      0      0      0      0      0      0      0  \n",
       "1      0      0      0      0      0      0      0  \n",
       "2      0      0      0      0      0      0      0  \n",
       "3      0      0      0      0      0      0      0  \n",
       "4      0      0      0      0      0      0      0  \n",
       "\n",
       "[5 rows x 785 columns]"
      ]
     },
     "execution_count": 2,
     "metadata": {},
     "output_type": "execute_result"
    }
   ],
   "source": [
    "datatrain = pd.read_csv(\"mnist_train.csv\")\n",
    "datatrain.head()"
   ]
  },
  {
   "cell_type": "code",
   "execution_count": 3,
   "id": "5e6f4262",
   "metadata": {},
   "outputs": [
    {
     "name": "stdout",
     "output_type": "stream",
     "text": [
      "Le jeu de données possède 59999 individus et 785 variables.\n"
     ]
    }
   ],
   "source": [
    "print(f\"Le jeu de données possède {datatrain.shape[0]} individus et {datatrain.shape[1]} variables.\")"
   ]
  },
  {
   "cell_type": "code",
   "execution_count": 4,
   "id": "3cc4b180",
   "metadata": {},
   "outputs": [
    {
     "data": {
      "text/html": [
       "<div>\n",
       "<style scoped>\n",
       "    .dataframe tbody tr th:only-of-type {\n",
       "        vertical-align: middle;\n",
       "    }\n",
       "\n",
       "    .dataframe tbody tr th {\n",
       "        vertical-align: top;\n",
       "    }\n",
       "\n",
       "    .dataframe thead th {\n",
       "        text-align: right;\n",
       "    }\n",
       "</style>\n",
       "<table border=\"1\" class=\"dataframe\">\n",
       "  <thead>\n",
       "    <tr style=\"text-align: right;\">\n",
       "      <th></th>\n",
       "      <th>7</th>\n",
       "      <th>0</th>\n",
       "      <th>0.1</th>\n",
       "      <th>0.2</th>\n",
       "      <th>0.3</th>\n",
       "      <th>0.4</th>\n",
       "      <th>0.5</th>\n",
       "      <th>0.6</th>\n",
       "      <th>0.7</th>\n",
       "      <th>0.8</th>\n",
       "      <th>...</th>\n",
       "      <th>0.658</th>\n",
       "      <th>0.659</th>\n",
       "      <th>0.660</th>\n",
       "      <th>0.661</th>\n",
       "      <th>0.662</th>\n",
       "      <th>0.663</th>\n",
       "      <th>0.664</th>\n",
       "      <th>0.665</th>\n",
       "      <th>0.666</th>\n",
       "      <th>0.667</th>\n",
       "    </tr>\n",
       "  </thead>\n",
       "  <tbody>\n",
       "    <tr>\n",
       "      <th>0</th>\n",
       "      <td>2</td>\n",
       "      <td>0</td>\n",
       "      <td>0</td>\n",
       "      <td>0</td>\n",
       "      <td>0</td>\n",
       "      <td>0</td>\n",
       "      <td>0</td>\n",
       "      <td>0</td>\n",
       "      <td>0</td>\n",
       "      <td>0</td>\n",
       "      <td>...</td>\n",
       "      <td>0</td>\n",
       "      <td>0</td>\n",
       "      <td>0</td>\n",
       "      <td>0</td>\n",
       "      <td>0</td>\n",
       "      <td>0</td>\n",
       "      <td>0</td>\n",
       "      <td>0</td>\n",
       "      <td>0</td>\n",
       "      <td>0</td>\n",
       "    </tr>\n",
       "    <tr>\n",
       "      <th>1</th>\n",
       "      <td>1</td>\n",
       "      <td>0</td>\n",
       "      <td>0</td>\n",
       "      <td>0</td>\n",
       "      <td>0</td>\n",
       "      <td>0</td>\n",
       "      <td>0</td>\n",
       "      <td>0</td>\n",
       "      <td>0</td>\n",
       "      <td>0</td>\n",
       "      <td>...</td>\n",
       "      <td>0</td>\n",
       "      <td>0</td>\n",
       "      <td>0</td>\n",
       "      <td>0</td>\n",
       "      <td>0</td>\n",
       "      <td>0</td>\n",
       "      <td>0</td>\n",
       "      <td>0</td>\n",
       "      <td>0</td>\n",
       "      <td>0</td>\n",
       "    </tr>\n",
       "    <tr>\n",
       "      <th>2</th>\n",
       "      <td>0</td>\n",
       "      <td>0</td>\n",
       "      <td>0</td>\n",
       "      <td>0</td>\n",
       "      <td>0</td>\n",
       "      <td>0</td>\n",
       "      <td>0</td>\n",
       "      <td>0</td>\n",
       "      <td>0</td>\n",
       "      <td>0</td>\n",
       "      <td>...</td>\n",
       "      <td>0</td>\n",
       "      <td>0</td>\n",
       "      <td>0</td>\n",
       "      <td>0</td>\n",
       "      <td>0</td>\n",
       "      <td>0</td>\n",
       "      <td>0</td>\n",
       "      <td>0</td>\n",
       "      <td>0</td>\n",
       "      <td>0</td>\n",
       "    </tr>\n",
       "    <tr>\n",
       "      <th>3</th>\n",
       "      <td>4</td>\n",
       "      <td>0</td>\n",
       "      <td>0</td>\n",
       "      <td>0</td>\n",
       "      <td>0</td>\n",
       "      <td>0</td>\n",
       "      <td>0</td>\n",
       "      <td>0</td>\n",
       "      <td>0</td>\n",
       "      <td>0</td>\n",
       "      <td>...</td>\n",
       "      <td>0</td>\n",
       "      <td>0</td>\n",
       "      <td>0</td>\n",
       "      <td>0</td>\n",
       "      <td>0</td>\n",
       "      <td>0</td>\n",
       "      <td>0</td>\n",
       "      <td>0</td>\n",
       "      <td>0</td>\n",
       "      <td>0</td>\n",
       "    </tr>\n",
       "    <tr>\n",
       "      <th>4</th>\n",
       "      <td>1</td>\n",
       "      <td>0</td>\n",
       "      <td>0</td>\n",
       "      <td>0</td>\n",
       "      <td>0</td>\n",
       "      <td>0</td>\n",
       "      <td>0</td>\n",
       "      <td>0</td>\n",
       "      <td>0</td>\n",
       "      <td>0</td>\n",
       "      <td>...</td>\n",
       "      <td>0</td>\n",
       "      <td>0</td>\n",
       "      <td>0</td>\n",
       "      <td>0</td>\n",
       "      <td>0</td>\n",
       "      <td>0</td>\n",
       "      <td>0</td>\n",
       "      <td>0</td>\n",
       "      <td>0</td>\n",
       "      <td>0</td>\n",
       "    </tr>\n",
       "  </tbody>\n",
       "</table>\n",
       "<p>5 rows × 785 columns</p>\n",
       "</div>"
      ],
      "text/plain": [
       "   7  0  0.1  0.2  0.3  0.4  0.5  0.6  0.7  0.8  ...  0.658  0.659  0.660  \\\n",
       "0  2  0    0    0    0    0    0    0    0    0  ...      0      0      0   \n",
       "1  1  0    0    0    0    0    0    0    0    0  ...      0      0      0   \n",
       "2  0  0    0    0    0    0    0    0    0    0  ...      0      0      0   \n",
       "3  4  0    0    0    0    0    0    0    0    0  ...      0      0      0   \n",
       "4  1  0    0    0    0    0    0    0    0    0  ...      0      0      0   \n",
       "\n",
       "   0.661  0.662  0.663  0.664  0.665  0.666  0.667  \n",
       "0      0      0      0      0      0      0      0  \n",
       "1      0      0      0      0      0      0      0  \n",
       "2      0      0      0      0      0      0      0  \n",
       "3      0      0      0      0      0      0      0  \n",
       "4      0      0      0      0      0      0      0  \n",
       "\n",
       "[5 rows x 785 columns]"
      ]
     },
     "execution_count": 4,
     "metadata": {},
     "output_type": "execute_result"
    }
   ],
   "source": [
    "datatest = pd.read_csv(\"mnist_test.csv\")\n",
    "datatest.head()"
   ]
  },
  {
   "cell_type": "code",
   "execution_count": 5,
   "id": "01db5505",
   "metadata": {},
   "outputs": [
    {
     "name": "stdout",
     "output_type": "stream",
     "text": [
      "Le jeu de données possède 9999 individus et 785 variables.\n"
     ]
    }
   ],
   "source": [
    "print(f\"Le jeu de données possède {datatest.shape[0]} individus et {datatest.shape[1]} variables.\")"
   ]
  },
  {
   "cell_type": "code",
   "execution_count": 6,
   "id": "d033cf2f",
   "metadata": {},
   "outputs": [
    {
     "name": "stdout",
     "output_type": "stream",
     "text": [
      "Le jeu de données train possède 0 valeur manquante.\n",
      "Le jeu de données test possède 0 valeur manquante.\n"
     ]
    }
   ],
   "source": [
    "print(f\"Le jeu de données train possède {datatrain.isnull().sum().sum()} valeur manquante.\")\n",
    "print(f\"Le jeu de données test possède {datatest.isnull().sum().sum()} valeur manquante.\")"
   ]
  },
  {
   "cell_type": "code",
   "execution_count": 7,
   "id": "ba046b0d",
   "metadata": {},
   "outputs": [
    {
     "data": {
      "text/plain": [
       "5        int64\n",
       "0        int64\n",
       "0.1      int64\n",
       "0.2      int64\n",
       "0.3      int64\n",
       "         ...  \n",
       "0.613    int64\n",
       "0.614    int64\n",
       "0.615    int64\n",
       "0.616    int64\n",
       "0.617    int64\n",
       "Length: 785, dtype: object"
      ]
     },
     "execution_count": 7,
     "metadata": {},
     "output_type": "execute_result"
    }
   ],
   "source": [
    "datatrain.dtypes"
   ]
  },
  {
   "attachments": {},
   "cell_type": "markdown",
   "id": "7bd463ea",
   "metadata": {},
   "source": [
    "Les jeux de données train et test n'ont pas besoin d'être pré-traités. Ils n'ont pas de valeurs manquantes et les variables sont toutes quantitatives."
   ]
  },
  {
   "attachments": {},
   "cell_type": "markdown",
   "id": "a0273190",
   "metadata": {},
   "source": [
    "### Pré-traitement des données"
   ]
  },
  {
   "cell_type": "code",
   "execution_count": 8,
   "id": "98481952",
   "metadata": {},
   "outputs": [],
   "source": [
    "datatrain_copy = datatrain.copy()\n",
    "datatest_copy = datatest.copy()"
   ]
  },
  {
   "cell_type": "code",
   "execution_count": 9,
   "id": "b0a2dc0c",
   "metadata": {},
   "outputs": [],
   "source": [
    "# On ne va pas utiliser toutes les données (seulement les 12000 premières pour le jeu train et les 2000 premières pour le jeu test)\n",
    "# On a réduit de 1/5 les données pour faciliter les temps d'exécution des modèles qui sont parfois très long.\n",
    "\n",
    "#Train\n",
    "y_train = datatrain_copy.iloc[:,[0]]\n",
    "y_train = y_train.iloc[:12000]\n",
    "y_train = y_train.values\n",
    "\n",
    "X_train = datatrain_copy.drop(datatrain_copy.columns[0], axis=1) # on enlève la variable y dans le jeu de données train\n",
    "X_train = X_train.iloc[:12000]\n",
    "X_train = X_train.values\n",
    "\n",
    "#Test\n",
    "y_test = datatest_copy.iloc[:,[0]]\n",
    "y_test = y_test.iloc[:2000]\n",
    "y_test = y_test.values\n",
    "\n",
    "X_test = datatest_copy.drop(datatest_copy.columns[0], axis=1) # on enlève la variable y dans le jeu de données test\n",
    "X_test = X_test.iloc[:2000]\n",
    "X_test = X_test.values"
   ]
  },
  {
   "attachments": {},
   "cell_type": "markdown",
   "id": "f4eeeb4c",
   "metadata": {},
   "source": [
    "### Algorithme Gradient Boosting"
   ]
  },
  {
   "attachments": {},
   "cell_type": "markdown",
   "id": "eeac947d",
   "metadata": {},
   "source": [
    "#### Première version : paramètres par défaut"
   ]
  },
  {
   "cell_type": "code",
   "execution_count": 10,
   "id": "5d439d19",
   "metadata": {},
   "outputs": [],
   "source": [
    "# Fonction de perte la déviance\n",
    "gradient_booster = GradientBoostingClassifier(loss='deviance')"
   ]
  },
  {
   "cell_type": "code",
   "execution_count": 11,
   "id": "6c155791",
   "metadata": {},
   "outputs": [
    {
     "data": {
      "text/html": [
       "<style>#sk-container-id-1 {color: black;background-color: white;}#sk-container-id-1 pre{padding: 0;}#sk-container-id-1 div.sk-toggleable {background-color: white;}#sk-container-id-1 label.sk-toggleable__label {cursor: pointer;display: block;width: 100%;margin-bottom: 0;padding: 0.3em;box-sizing: border-box;text-align: center;}#sk-container-id-1 label.sk-toggleable__label-arrow:before {content: \"▸\";float: left;margin-right: 0.25em;color: #696969;}#sk-container-id-1 label.sk-toggleable__label-arrow:hover:before {color: black;}#sk-container-id-1 div.sk-estimator:hover label.sk-toggleable__label-arrow:before {color: black;}#sk-container-id-1 div.sk-toggleable__content {max-height: 0;max-width: 0;overflow: hidden;text-align: left;background-color: #f0f8ff;}#sk-container-id-1 div.sk-toggleable__content pre {margin: 0.2em;color: black;border-radius: 0.25em;background-color: #f0f8ff;}#sk-container-id-1 input.sk-toggleable__control:checked~div.sk-toggleable__content {max-height: 200px;max-width: 100%;overflow: auto;}#sk-container-id-1 input.sk-toggleable__control:checked~label.sk-toggleable__label-arrow:before {content: \"▾\";}#sk-container-id-1 div.sk-estimator input.sk-toggleable__control:checked~label.sk-toggleable__label {background-color: #d4ebff;}#sk-container-id-1 div.sk-label input.sk-toggleable__control:checked~label.sk-toggleable__label {background-color: #d4ebff;}#sk-container-id-1 input.sk-hidden--visually {border: 0;clip: rect(1px 1px 1px 1px);clip: rect(1px, 1px, 1px, 1px);height: 1px;margin: -1px;overflow: hidden;padding: 0;position: absolute;width: 1px;}#sk-container-id-1 div.sk-estimator {font-family: monospace;background-color: #f0f8ff;border: 1px dotted black;border-radius: 0.25em;box-sizing: border-box;margin-bottom: 0.5em;}#sk-container-id-1 div.sk-estimator:hover {background-color: #d4ebff;}#sk-container-id-1 div.sk-parallel-item::after {content: \"\";width: 100%;border-bottom: 1px solid gray;flex-grow: 1;}#sk-container-id-1 div.sk-label:hover label.sk-toggleable__label {background-color: #d4ebff;}#sk-container-id-1 div.sk-serial::before {content: \"\";position: absolute;border-left: 1px solid gray;box-sizing: border-box;top: 0;bottom: 0;left: 50%;z-index: 0;}#sk-container-id-1 div.sk-serial {display: flex;flex-direction: column;align-items: center;background-color: white;padding-right: 0.2em;padding-left: 0.2em;position: relative;}#sk-container-id-1 div.sk-item {position: relative;z-index: 1;}#sk-container-id-1 div.sk-parallel {display: flex;align-items: stretch;justify-content: center;background-color: white;position: relative;}#sk-container-id-1 div.sk-item::before, #sk-container-id-1 div.sk-parallel-item::before {content: \"\";position: absolute;border-left: 1px solid gray;box-sizing: border-box;top: 0;bottom: 0;left: 50%;z-index: -1;}#sk-container-id-1 div.sk-parallel-item {display: flex;flex-direction: column;z-index: 1;position: relative;background-color: white;}#sk-container-id-1 div.sk-parallel-item:first-child::after {align-self: flex-end;width: 50%;}#sk-container-id-1 div.sk-parallel-item:last-child::after {align-self: flex-start;width: 50%;}#sk-container-id-1 div.sk-parallel-item:only-child::after {width: 0;}#sk-container-id-1 div.sk-dashed-wrapped {border: 1px dashed gray;margin: 0 0.4em 0.5em 0.4em;box-sizing: border-box;padding-bottom: 0.4em;background-color: white;}#sk-container-id-1 div.sk-label label {font-family: monospace;font-weight: bold;display: inline-block;line-height: 1.2em;}#sk-container-id-1 div.sk-label-container {text-align: center;}#sk-container-id-1 div.sk-container {/* jupyter's `normalize.less` sets `[hidden] { display: none; }` but bootstrap.min.css set `[hidden] { display: none !important; }` so we also need the `!important` here to be able to override the default hidden behavior on the sphinx rendered scikit-learn.org. See: https://github.com/scikit-learn/scikit-learn/issues/21755 */display: inline-block !important;position: relative;}#sk-container-id-1 div.sk-text-repr-fallback {display: none;}</style><div id=\"sk-container-id-1\" class=\"sk-top-container\"><div class=\"sk-text-repr-fallback\"><pre>GradientBoostingClassifier(loss=&#x27;deviance&#x27;)</pre><b>In a Jupyter environment, please rerun this cell to show the HTML representation or trust the notebook. <br />On GitHub, the HTML representation is unable to render, please try loading this page with nbviewer.org.</b></div><div class=\"sk-container\" hidden><div class=\"sk-item\"><div class=\"sk-estimator sk-toggleable\"><input class=\"sk-toggleable__control sk-hidden--visually\" id=\"sk-estimator-id-1\" type=\"checkbox\" checked><label for=\"sk-estimator-id-1\" class=\"sk-toggleable__label sk-toggleable__label-arrow\">GradientBoostingClassifier</label><div class=\"sk-toggleable__content\"><pre>GradientBoostingClassifier(loss=&#x27;deviance&#x27;)</pre></div></div></div></div></div>"
      ],
      "text/plain": [
       "GradientBoostingClassifier(loss='deviance')"
      ]
     },
     "execution_count": 11,
     "metadata": {},
     "output_type": "execute_result"
    }
   ],
   "source": [
    "gradient_booster.fit(X_train, y_train)"
   ]
  },
  {
   "cell_type": "code",
   "execution_count": 12,
   "id": "8ff1cb02",
   "metadata": {},
   "outputs": [],
   "source": [
    "y_pred = gradient_booster.predict(X_test)"
   ]
  },
  {
   "cell_type": "code",
   "execution_count": 13,
   "id": "4a5d6d64",
   "metadata": {},
   "outputs": [
    {
     "name": "stdout",
     "output_type": "stream",
     "text": [
      "              precision    recall  f1-score   support\n",
      "\n",
      "           0       0.94      0.97      0.96       175\n",
      "           1       0.96      0.98      0.97       234\n",
      "           2       0.93      0.89      0.91       219\n",
      "           3       0.89      0.85      0.87       207\n",
      "           4       0.91      0.90      0.90       217\n",
      "           5       0.86      0.87      0.86       179\n",
      "           6       0.90      0.88      0.89       179\n",
      "           7       0.89      0.87      0.88       204\n",
      "           8       0.84      0.85      0.84       192\n",
      "           9       0.84      0.89      0.86       194\n",
      "\n",
      "    accuracy                           0.90      2000\n",
      "   macro avg       0.90      0.90      0.90      2000\n",
      "weighted avg       0.90      0.90      0.90      2000\n",
      "\n"
     ]
    }
   ],
   "source": [
    "print(classification_report(y_test, y_pred))"
   ]
  },
  {
   "cell_type": "code",
   "execution_count": 14,
   "id": "295554dd",
   "metadata": {},
   "outputs": [
    {
     "name": "stdout",
     "output_type": "stream",
     "text": [
      "Accuracy score (train): 0.99\n",
      "Accuracy score (validation): 0.90\n"
     ]
    }
   ],
   "source": [
    "print(\"Accuracy score (train): {0:.2f}\".format(gradient_booster.score(X_train, y_train)))\n",
    "print(\"Accuracy score (validation): {0:.2f}\".format(gradient_booster.score(X_test, y_test)))"
   ]
  },
  {
   "attachments": {},
   "cell_type": "markdown",
   "id": "2245694d",
   "metadata": {},
   "source": [
    "On obtient un très bon score accuracy de 0.90 pour la validation.\n",
    "Et, un score de 0.99 pour le score train, cela ressemble peut-être à du sur-apprentissage malgrè une très bonne erreur de valaidation."
   ]
  },
  {
   "cell_type": "code",
   "execution_count": 15,
   "id": "72f486c2",
   "metadata": {},
   "outputs": [
    {
     "name": "stdout",
     "output_type": "stream",
     "text": [
      "[[170   0   0   0   0   0   3   0   2   0]\n",
      " [  0 230   0   0   0   0   2   0   2   0]\n",
      " [  1   0 195   4   2   1   3   4   6   3]\n",
      " [  0   0   3 176   1  10   1   8   5   3]\n",
      " [  0   1   0   1 195   1   4   1   3  11]\n",
      " [  3   0   1   4   3 156   1   2   4   5]\n",
      " [  4   3   0   0   2   8 158   0   4   0]\n",
      " [  0   3   7   1   2   2   0 178   2   9]\n",
      " [  1   1   4   7   4   3   4   2 163   3]\n",
      " [  1   1   0   5   5   1   0   5   3 173]]\n"
     ]
    }
   ],
   "source": [
    "cm = confusion_matrix(y_test, y_pred)\n",
    "print(cm)"
   ]
  },
  {
   "cell_type": "code",
   "execution_count": 16,
   "id": "a15827d5",
   "metadata": {},
   "outputs": [
    {
     "data": {
      "text/plain": [
       "{'ccp_alpha': 0.0,\n",
       " 'criterion': 'friedman_mse',\n",
       " 'init': None,\n",
       " 'learning_rate': 0.1,\n",
       " 'loss': 'deviance',\n",
       " 'max_depth': 3,\n",
       " 'max_features': None,\n",
       " 'max_leaf_nodes': None,\n",
       " 'min_impurity_decrease': 0.0,\n",
       " 'min_samples_leaf': 1,\n",
       " 'min_samples_split': 2,\n",
       " 'min_weight_fraction_leaf': 0.0,\n",
       " 'n_estimators': 100,\n",
       " 'n_iter_no_change': None,\n",
       " 'random_state': None,\n",
       " 'subsample': 1.0,\n",
       " 'tol': 0.0001,\n",
       " 'validation_fraction': 0.1,\n",
       " 'verbose': 0,\n",
       " 'warm_start': False}"
      ]
     },
     "execution_count": 16,
     "metadata": {},
     "output_type": "execute_result"
    }
   ],
   "source": [
    "# Il y a beaucoup de paramètres à optimiser\n",
    "gradient_booster.get_params()"
   ]
  },
  {
   "attachments": {},
   "cell_type": "markdown",
   "id": "66e5ba64",
   "metadata": {},
   "source": [
    "On pourrait chercher à explorer séparamment les paramètres les plus importants :\n",
    "- le nombre d'arbres (n_estimators) par défaut est fixé à 100\n",
    "- le nombre d'échantillons pour fit les données (subsample), par défaut est fixé à 1\n",
    "- le nombre de features pour chaque arbres (max_features), par défaut toutes les features\n",
    "- le learning rate pour les prédictions (learning_rate) fixé à 0.1 par défaut\n",
    "- la profondeur de l'arbre pour le dataset d'entrainement (max_depth) fixé à 3 par défaut\n",
    "\n",
    "Mais on va chercher à optimiser tous ces hyperparamètres en même temps en utilisant GridSearchCV.\n",
    "\n"
   ]
  },
  {
   "attachments": {},
   "cell_type": "markdown",
   "id": "4cfe2152",
   "metadata": {},
   "source": [
    "#### Représentation graphique du score en fonction du nombre d'estimateurs"
   ]
  },
  {
   "cell_type": "code",
   "execution_count": 22,
   "id": "cb21a5eb",
   "metadata": {},
   "outputs": [],
   "source": [
    "model = GradientBoostingClassifier(loss='deviance',learning_rate=0.1, max_features=4, max_depth=3, random_state=0)\n",
    "param_range = [1, 2, 5, 10, 20, 50, 100]\n",
    "\n",
    "train_scores, validation_scores = validation_curve(\n",
    "    model,\n",
    "    X_train,\n",
    "    y_train,\n",
    "    param_name=\"n_estimators\",\n",
    "    param_range=param_range,\n",
    "    scoring=\"accuracy\",\n",
    "    n_jobs=-1,\n",
    ")"
   ]
  },
  {
   "cell_type": "code",
   "execution_count": 23,
   "id": "04b4165b",
   "metadata": {},
   "outputs": [
    {
     "data": {
      "image/png": "[encoded data removed]",
      "text/plain": [
       "<Figure size 640x480 with 1 Axes>"
      ]
     },
     "metadata": {},
     "output_type": "display_data"
    }
   ],
   "source": [
    "plt.errorbar(\n",
    "    param_range,\n",
    "    train_scores.mean(axis=1),\n",
    "    yerr=train_scores.std(axis=1),\n",
    "    label=\"Training\",\n",
    ")\n",
    "plt.errorbar(\n",
    "    param_range,\n",
    "    validation_scores.mean(axis=1),\n",
    "    yerr=validation_scores.std(axis=1),\n",
    "    label=\"Cross-validation\",\n",
    ")\n",
    "plt.title(\"Gradient Boosting - Score en fonction du nombre d'estimateurs\")\n",
    "plt.xlabel(\"Nombre d'estimateurs\")\n",
    "plt.ylabel(\"Score (accuracy)\")\n",
    "plt.legend(loc=\"best\")\n",
    "plt.show()"
   ]
  },
  {
   "attachments": {},
   "cell_type": "markdown",
   "id": "166d84db",
   "metadata": {},
   "source": [
    "Plus le nombre d'estimateurs (d'arbres) augmentent, plus les scores train et test sont meilleurs et tendent vers 1.\n",
    "La courbe de score test est au dessous de celle du score train, ce qui cohérent."
   ]
  },
  {
   "cell_type": "code",
   "execution_count": 24,
   "id": "d09ebf34",
   "metadata": {},
   "outputs": [],
   "source": [
    "model2 = GradientBoostingClassifier(loss='deviance', learning_rate=0.1, max_depth=3, max_features=4, random_state=0)\n",
    "param_range = [1, 2, 3, 5, 7, 9]\n",
    "train_scores2, validation_scores2 = validation_curve(\n",
    "    model2,\n",
    "    X_train,\n",
    "    y_train,\n",
    "    param_name=\"max_depth\",\n",
    "    param_range=param_range,\n",
    "    scoring=\"accuracy\",\n",
    "    n_jobs=-1,\n",
    ")"
   ]
  },
  {
   "cell_type": "code",
   "execution_count": 25,
   "id": "eda30fa5",
   "metadata": {},
   "outputs": [
    {
     "data": {
      "image/png": "[encoded data removed]",
      "text/plain": [
       "<Figure size 640x480 with 1 Axes>"
      ]
     },
     "metadata": {},
     "output_type": "display_data"
    }
   ],
   "source": [
    "plt.errorbar(\n",
    "    param_range,\n",
    "    train_scores2.mean(axis=1),\n",
    "    yerr=train_scores2.std(axis=1),\n",
    "    label=\"Training\",\n",
    ")\n",
    "plt.errorbar(\n",
    "    param_range,\n",
    "    validation_scores2.mean(axis=1),\n",
    "    yerr=validation_scores2.std(axis=1),\n",
    "    label=\"Cross-validation\",\n",
    ")\n",
    "plt.title(\"Gradient Boosting - Score en fonction de la profondeur maximale de l'arbre\")\n",
    "plt.xlabel(\"Profondeur maximale de l'arbre\")\n",
    "plt.ylabel(\"Score (accuracy)\")\n",
    "plt.legend(loc=\"best\")\n",
    "plt.show()"
   ]
  },
  {
   "attachments": {},
   "cell_type": "markdown",
   "id": "075af0a7",
   "metadata": {},
   "source": [
    "On observe ici que le score est très performant suivant la profondeur maximale de l'arbre.\n",
    "On remarque que l'erreur de validation stagne. Pour éviter le sur-apprentissage, on choisit de prendre une profondeur maximale de 2 ou 3."
   ]
  },
  {
   "attachments": {},
   "cell_type": "markdown",
   "id": "9b5ef201",
   "metadata": {},
   "source": [
    "#### Optimation des paramètres avec GridSearchCV"
   ]
  },
  {
   "cell_type": "code",
   "execution_count": 26,
   "id": "9c11dfc7",
   "metadata": {},
   "outputs": [
    {
     "name": "stdout",
     "output_type": "stream",
     "text": [
      "Fitting 15 folds for each of 144 candidates, totalling 2160 fits\n"
     ]
    }
   ],
   "source": [
    "model = GradientBoostingClassifier(loss='deviance')\n",
    "\n",
    "# Grille des valeurs qu'on souhaite tester pour nos modèles\n",
    "grid = dict()\n",
    "grid['n_estimators'] = [10, 20, 50, 100]\n",
    "#grid['subsample'] = [0.5, 0.7, 1.0]\n",
    "grid['max_features'] = [2, 3, 4]\n",
    "grid['learning_rate'] = [0.01, 0.1, 1.0]\n",
    "grid['max_depth'] = [2, 3, 7, 9]\n",
    "\n",
    "# Procédure d'évaluation en utilisant une 'repeated k-fold cross-validation'\n",
    "cv = RepeatedStratifiedKFold(n_splits=5, n_repeats=3, random_state=1)\n",
    "\n",
    "# On se base sur le score accuracy\n",
    "grid_search = GridSearchCV(estimator=model, param_grid=grid, n_jobs=-1, verbose=1, cv=cv, scoring='accuracy')\n",
    "\n",
    "grid_result = grid_search.fit(X_train, y_train)"
   ]
  },
  {
   "cell_type": "code",
   "execution_count": 27,
   "id": "c4383199",
   "metadata": {},
   "outputs": [
    {
     "name": "stdout",
     "output_type": "stream",
     "text": [
      "Best: 0.948389 using {'learning_rate': 0.1, 'max_depth': 9, 'max_features': 4, 'n_estimators': 100}\n"
     ]
    }
   ],
   "source": [
    "# Résumé du meilleur score avec ses paramètres correspondants\n",
    "print(\"Best: %f using %s\" % (grid_result.best_score_, grid_result.best_params_))"
   ]
  },
  {
   "cell_type": "code",
   "execution_count": null,
   "id": "75e45efe",
   "metadata": {},
   "outputs": [],
   "source": [
    "# On cherche le meilleur modèle\n",
    "print('\\n\\nEstimateur choisi par GridSearch :','\\n\\n', (grid_result.best_estimator_))"
   ]
  },
  {
   "attachments": {},
   "cell_type": "markdown",
   "id": "85463f36",
   "metadata": {},
   "source": [
    "Le meilleur modèle est donné avec les paramètres suivants :\n",
    "- loss = deviance\n",
    "- learning_rate = 0.1\n",
    "- max_depth = 9\n",
    "- max_features = 4\n",
    "- n_estimators = 100\n",
    "\n",
    "qui donne un score de 0.95.\n",
    "Celui-ci est moins bon que pour le modèle précédent sans ajustement des paramètres.\n",
    "\n",
    "Regardons les prédictions de ce nouveau modèle."
   ]
  },
  {
   "attachments": {},
   "cell_type": "markdown",
   "id": "03e03968",
   "metadata": {},
   "source": [
    "#### Meilleur modèle"
   ]
  },
  {
   "cell_type": "code",
   "execution_count": 32,
   "id": "e4b00217",
   "metadata": {},
   "outputs": [],
   "source": [
    "gradient_booster_best = GradientBoostingClassifier(loss='deviance', learning_rate=0.1, max_depth=9, max_features=4, n_estimators=100, random_state=0)"
   ]
  },
  {
   "cell_type": "code",
   "execution_count": 33,
   "id": "8db9a69e",
   "metadata": {},
   "outputs": [
    {
     "data": {
      "text/html": [
       "<style>#sk-container-id-2 {color: black;background-color: white;}#sk-container-id-2 pre{padding: 0;}#sk-container-id-2 div.sk-toggleable {background-color: white;}#sk-container-id-2 label.sk-toggleable__label {cursor: pointer;display: block;width: 100%;margin-bottom: 0;padding: 0.3em;box-sizing: border-box;text-align: center;}#sk-container-id-2 label.sk-toggleable__label-arrow:before {content: \"▸\";float: left;margin-right: 0.25em;color: #696969;}#sk-container-id-2 label.sk-toggleable__label-arrow:hover:before {color: black;}#sk-container-id-2 div.sk-estimator:hover label.sk-toggleable__label-arrow:before {color: black;}#sk-container-id-2 div.sk-toggleable__content {max-height: 0;max-width: 0;overflow: hidden;text-align: left;background-color: #f0f8ff;}#sk-container-id-2 div.sk-toggleable__content pre {margin: 0.2em;color: black;border-radius: 0.25em;background-color: #f0f8ff;}#sk-container-id-2 input.sk-toggleable__control:checked~div.sk-toggleable__content {max-height: 200px;max-width: 100%;overflow: auto;}#sk-container-id-2 input.sk-toggleable__control:checked~label.sk-toggleable__label-arrow:before {content: \"▾\";}#sk-container-id-2 div.sk-estimator input.sk-toggleable__control:checked~label.sk-toggleable__label {background-color: #d4ebff;}#sk-container-id-2 div.sk-label input.sk-toggleable__control:checked~label.sk-toggleable__label {background-color: #d4ebff;}#sk-container-id-2 input.sk-hidden--visually {border: 0;clip: rect(1px 1px 1px 1px);clip: rect(1px, 1px, 1px, 1px);height: 1px;margin: -1px;overflow: hidden;padding: 0;position: absolute;width: 1px;}#sk-container-id-2 div.sk-estimator {font-family: monospace;background-color: #f0f8ff;border: 1px dotted black;border-radius: 0.25em;box-sizing: border-box;margin-bottom: 0.5em;}#sk-container-id-2 div.sk-estimator:hover {background-color: #d4ebff;}#sk-container-id-2 div.sk-parallel-item::after {content: \"\";width: 100%;border-bottom: 1px solid gray;flex-grow: 1;}#sk-container-id-2 div.sk-label:hover label.sk-toggleable__label {background-color: #d4ebff;}#sk-container-id-2 div.sk-serial::before {content: \"\";position: absolute;border-left: 1px solid gray;box-sizing: border-box;top: 0;bottom: 0;left: 50%;z-index: 0;}#sk-container-id-2 div.sk-serial {display: flex;flex-direction: column;align-items: center;background-color: white;padding-right: 0.2em;padding-left: 0.2em;position: relative;}#sk-container-id-2 div.sk-item {position: relative;z-index: 1;}#sk-container-id-2 div.sk-parallel {display: flex;align-items: stretch;justify-content: center;background-color: white;position: relative;}#sk-container-id-2 div.sk-item::before, #sk-container-id-2 div.sk-parallel-item::before {content: \"\";position: absolute;border-left: 1px solid gray;box-sizing: border-box;top: 0;bottom: 0;left: 50%;z-index: -1;}#sk-container-id-2 div.sk-parallel-item {display: flex;flex-direction: column;z-index: 1;position: relative;background-color: white;}#sk-container-id-2 div.sk-parallel-item:first-child::after {align-self: flex-end;width: 50%;}#sk-container-id-2 div.sk-parallel-item:last-child::after {align-self: flex-start;width: 50%;}#sk-container-id-2 div.sk-parallel-item:only-child::after {width: 0;}#sk-container-id-2 div.sk-dashed-wrapped {border: 1px dashed gray;margin: 0 0.4em 0.5em 0.4em;box-sizing: border-box;padding-bottom: 0.4em;background-color: white;}#sk-container-id-2 div.sk-label label {font-family: monospace;font-weight: bold;display: inline-block;line-height: 1.2em;}#sk-container-id-2 div.sk-label-container {text-align: center;}#sk-container-id-2 div.sk-container {/* jupyter's `normalize.less` sets `[hidden] { display: none; }` but bootstrap.min.css set `[hidden] { display: none !important; }` so we also need the `!important` here to be able to override the default hidden behavior on the sphinx rendered scikit-learn.org. See: https://github.com/scikit-learn/scikit-learn/issues/21755 */display: inline-block !important;position: relative;}#sk-container-id-2 div.sk-text-repr-fallback {display: none;}</style><div id=\"sk-container-id-2\" class=\"sk-top-container\"><div class=\"sk-text-repr-fallback\"><pre>GradientBoostingClassifier(loss=&#x27;deviance&#x27;, max_depth=9, max_features=4,\n",
       "                           random_state=0)</pre><b>In a Jupyter environment, please rerun this cell to show the HTML representation or trust the notebook. <br />On GitHub, the HTML representation is unable to render, please try loading this page with nbviewer.org.</b></div><div class=\"sk-container\" hidden><div class=\"sk-item\"><div class=\"sk-estimator sk-toggleable\"><input class=\"sk-toggleable__control sk-hidden--visually\" id=\"sk-estimator-id-2\" type=\"checkbox\" checked><label for=\"sk-estimator-id-2\" class=\"sk-toggleable__label sk-toggleable__label-arrow\">GradientBoostingClassifier</label><div class=\"sk-toggleable__content\"><pre>GradientBoostingClassifier(loss=&#x27;deviance&#x27;, max_depth=9, max_features=4,\n",
       "                           random_state=0)</pre></div></div></div></div></div>"
      ],
      "text/plain": [
       "GradientBoostingClassifier(loss='deviance', max_depth=9, max_features=4,\n",
       "                           random_state=0)"
      ]
     },
     "execution_count": 33,
     "metadata": {},
     "output_type": "execute_result"
    }
   ],
   "source": [
    "gradient_booster_best.fit(X_train, y_train)"
   ]
  },
  {
   "cell_type": "code",
   "execution_count": 35,
   "id": "d63b33a1",
   "metadata": {},
   "outputs": [],
   "source": [
    "y_pred = gradient_booster_best.predict(X_test)"
   ]
  },
  {
   "cell_type": "code",
   "execution_count": 36,
   "id": "541ba235",
   "metadata": {},
   "outputs": [
    {
     "name": "stdout",
     "output_type": "stream",
     "text": [
      "Confusion Matrix:\n",
      "[[174   0   0   0   0   0   1   0   0   0]\n",
      " [  0 231   1   0   1   0   1   0   0   0]\n",
      " [  2   0 202   4   1   0   1   4   3   2]\n",
      " [  0   0   2 191   0   4   1   4   3   2]\n",
      " [  1   0   2   0 200   0   2   0   0  12]\n",
      " [  1   0   0   8   2 165   0   1   0   2]\n",
      " [  3   1   0   0   3   3 167   0   2   0]\n",
      " [  0   4   8   3   1   0   0 179   0   9]\n",
      " [  2   1   2   8   5   2   0   1 166   5]\n",
      " [  1   0   0   6   5   0   0   2   4 176]]\n"
     ]
    }
   ],
   "source": [
    "print(\"Confusion Matrix:\")\n",
    "print(confusion_matrix(y_test, y_pred))"
   ]
  },
  {
   "cell_type": "code",
   "execution_count": 37,
   "id": "182db6bf",
   "metadata": {},
   "outputs": [
    {
     "name": "stdout",
     "output_type": "stream",
     "text": [
      "Classification Report\n",
      "              precision    recall  f1-score   support\n",
      "\n",
      "           0       0.95      0.99      0.97       175\n",
      "           1       0.97      0.99      0.98       234\n",
      "           2       0.93      0.92      0.93       219\n",
      "           3       0.87      0.92      0.89       207\n",
      "           4       0.92      0.92      0.92       217\n",
      "           5       0.95      0.92      0.93       179\n",
      "           6       0.97      0.93      0.95       179\n",
      "           7       0.94      0.88      0.91       204\n",
      "           8       0.93      0.86      0.90       192\n",
      "           9       0.85      0.91      0.88       194\n",
      "\n",
      "    accuracy                           0.93      2000\n",
      "   macro avg       0.93      0.93      0.93      2000\n",
      "weighted avg       0.93      0.93      0.93      2000\n",
      "\n"
     ]
    }
   ],
   "source": [
    "print(\"Classification Report\")\n",
    "print(classification_report(y_test, y_pred))"
   ]
  },
  {
   "attachments": {},
   "cell_type": "markdown",
   "id": "ebef196a",
   "metadata": {},
   "source": [
    "Ce score est meilleur que celui du premier modèle sans ajustement des paramètres.\n",
    "Il est de 0.93 contre 0.90 pour le premier.\n",
    "\n",
    "On remarque tout de même que la méthode Gradient Boosting est très performante."
   ]
  },
  {
   "cell_type": "markdown",
   "id": "6fd4e9ac",
   "metadata": {},
   "source": [
    "### Algorithme XGBoost"
   ]
  },
  {
   "cell_type": "code",
   "execution_count": 38,
   "id": "17d12bc6",
   "metadata": {},
   "outputs": [
    {
     "name": "stdout",
     "output_type": "stream",
     "text": [
      "[0]\tvalidation_0-mlogloss:1.33845\tvalidation_1-mlogloss:1.48367\n",
      "[1]\tvalidation_0-mlogloss:0.99538\tvalidation_1-mlogloss:1.18329\n",
      "[2]\tvalidation_0-mlogloss:0.77389\tvalidation_1-mlogloss:0.97986\n",
      "[3]\tvalidation_0-mlogloss:0.61389\tvalidation_1-mlogloss:0.83560\n",
      "[4]\tvalidation_0-mlogloss:0.49192\tvalidation_1-mlogloss:0.72145\n",
      "[5]\tvalidation_0-mlogloss:0.39851\tvalidation_1-mlogloss:0.63522\n",
      "[6]\tvalidation_0-mlogloss:0.32595\tvalidation_1-mlogloss:0.56575\n",
      "[7]\tvalidation_0-mlogloss:0.26981\tvalidation_1-mlogloss:0.51189\n",
      "[8]\tvalidation_0-mlogloss:0.22457\tvalidation_1-mlogloss:0.46800\n",
      "[9]\tvalidation_0-mlogloss:0.18730\tvalidation_1-mlogloss:0.43009\n",
      "[10]\tvalidation_0-mlogloss:0.15837\tvalidation_1-mlogloss:0.40370\n",
      "[11]\tvalidation_0-mlogloss:0.13410\tvalidation_1-mlogloss:0.38016\n",
      "[12]\tvalidation_0-mlogloss:0.11512\tvalidation_1-mlogloss:0.36094\n",
      "[13]\tvalidation_0-mlogloss:0.09929\tvalidation_1-mlogloss:0.34162\n",
      "[14]\tvalidation_0-mlogloss:0.08532\tvalidation_1-mlogloss:0.32585\n",
      "[15]\tvalidation_0-mlogloss:0.07424\tvalidation_1-mlogloss:0.31255\n",
      "[16]\tvalidation_0-mlogloss:0.06489\tvalidation_1-mlogloss:0.30273\n",
      "[17]\tvalidation_0-mlogloss:0.05743\tvalidation_1-mlogloss:0.29341\n",
      "[18]\tvalidation_0-mlogloss:0.05001\tvalidation_1-mlogloss:0.28352\n",
      "[19]\tvalidation_0-mlogloss:0.04403\tvalidation_1-mlogloss:0.27615\n",
      "[20]\tvalidation_0-mlogloss:0.03924\tvalidation_1-mlogloss:0.26834\n",
      "[21]\tvalidation_0-mlogloss:0.03453\tvalidation_1-mlogloss:0.26143\n",
      "[22]\tvalidation_0-mlogloss:0.03103\tvalidation_1-mlogloss:0.25628\n",
      "[23]\tvalidation_0-mlogloss:0.02787\tvalidation_1-mlogloss:0.25242\n",
      "[24]\tvalidation_0-mlogloss:0.02510\tvalidation_1-mlogloss:0.24880\n",
      "[25]\tvalidation_0-mlogloss:0.02268\tvalidation_1-mlogloss:0.24361\n",
      "[26]\tvalidation_0-mlogloss:0.02070\tvalidation_1-mlogloss:0.23975\n",
      "[27]\tvalidation_0-mlogloss:0.01867\tvalidation_1-mlogloss:0.23545\n",
      "[28]\tvalidation_0-mlogloss:0.01701\tvalidation_1-mlogloss:0.23210\n",
      "[29]\tvalidation_0-mlogloss:0.01548\tvalidation_1-mlogloss:0.23034\n",
      "[30]\tvalidation_0-mlogloss:0.01430\tvalidation_1-mlogloss:0.22778\n",
      "[31]\tvalidation_0-mlogloss:0.01324\tvalidation_1-mlogloss:0.22539\n",
      "[32]\tvalidation_0-mlogloss:0.01209\tvalidation_1-mlogloss:0.22287\n",
      "[33]\tvalidation_0-mlogloss:0.01112\tvalidation_1-mlogloss:0.22138\n",
      "[34]\tvalidation_0-mlogloss:0.01030\tvalidation_1-mlogloss:0.21925\n",
      "[35]\tvalidation_0-mlogloss:0.00961\tvalidation_1-mlogloss:0.21797\n",
      "[36]\tvalidation_0-mlogloss:0.00898\tvalidation_1-mlogloss:0.21657\n",
      "[37]\tvalidation_0-mlogloss:0.00843\tvalidation_1-mlogloss:0.21386\n",
      "[38]\tvalidation_0-mlogloss:0.00789\tvalidation_1-mlogloss:0.21164\n",
      "[39]\tvalidation_0-mlogloss:0.00742\tvalidation_1-mlogloss:0.21045\n",
      "[40]\tvalidation_0-mlogloss:0.00698\tvalidation_1-mlogloss:0.20907\n",
      "[41]\tvalidation_0-mlogloss:0.00656\tvalidation_1-mlogloss:0.20743\n",
      "[42]\tvalidation_0-mlogloss:0.00625\tvalidation_1-mlogloss:0.20657\n",
      "[43]\tvalidation_0-mlogloss:0.00594\tvalidation_1-mlogloss:0.20567\n",
      "[44]\tvalidation_0-mlogloss:0.00563\tvalidation_1-mlogloss:0.20481\n",
      "[45]\tvalidation_0-mlogloss:0.00535\tvalidation_1-mlogloss:0.20443\n",
      "[46]\tvalidation_0-mlogloss:0.00509\tvalidation_1-mlogloss:0.20412\n",
      "[47]\tvalidation_0-mlogloss:0.00486\tvalidation_1-mlogloss:0.20294\n",
      "[48]\tvalidation_0-mlogloss:0.00465\tvalidation_1-mlogloss:0.20263\n",
      "[49]\tvalidation_0-mlogloss:0.00447\tvalidation_1-mlogloss:0.20150\n",
      "[50]\tvalidation_0-mlogloss:0.00428\tvalidation_1-mlogloss:0.20070\n",
      "[51]\tvalidation_0-mlogloss:0.00411\tvalidation_1-mlogloss:0.20030\n",
      "[52]\tvalidation_0-mlogloss:0.00396\tvalidation_1-mlogloss:0.20014\n",
      "[53]\tvalidation_0-mlogloss:0.00382\tvalidation_1-mlogloss:0.19975\n",
      "[54]\tvalidation_0-mlogloss:0.00369\tvalidation_1-mlogloss:0.19974\n",
      "[55]\tvalidation_0-mlogloss:0.00357\tvalidation_1-mlogloss:0.19892\n",
      "[56]\tvalidation_0-mlogloss:0.00345\tvalidation_1-mlogloss:0.19909\n",
      "[57]\tvalidation_0-mlogloss:0.00334\tvalidation_1-mlogloss:0.19888\n",
      "[58]\tvalidation_0-mlogloss:0.00324\tvalidation_1-mlogloss:0.19821\n",
      "[59]\tvalidation_0-mlogloss:0.00314\tvalidation_1-mlogloss:0.19789\n",
      "[60]\tvalidation_0-mlogloss:0.00306\tvalidation_1-mlogloss:0.19645\n",
      "[61]\tvalidation_0-mlogloss:0.00297\tvalidation_1-mlogloss:0.19594\n",
      "[62]\tvalidation_0-mlogloss:0.00289\tvalidation_1-mlogloss:0.19545\n",
      "[63]\tvalidation_0-mlogloss:0.00282\tvalidation_1-mlogloss:0.19488\n",
      "[64]\tvalidation_0-mlogloss:0.00275\tvalidation_1-mlogloss:0.19439\n",
      "[65]\tvalidation_0-mlogloss:0.00268\tvalidation_1-mlogloss:0.19427\n",
      "[66]\tvalidation_0-mlogloss:0.00262\tvalidation_1-mlogloss:0.19401\n",
      "[67]\tvalidation_0-mlogloss:0.00256\tvalidation_1-mlogloss:0.19380\n",
      "[68]\tvalidation_0-mlogloss:0.00251\tvalidation_1-mlogloss:0.19390\n",
      "[69]\tvalidation_0-mlogloss:0.00245\tvalidation_1-mlogloss:0.19383\n",
      "[70]\tvalidation_0-mlogloss:0.00240\tvalidation_1-mlogloss:0.19336\n",
      "[71]\tvalidation_0-mlogloss:0.00235\tvalidation_1-mlogloss:0.19310\n",
      "[72]\tvalidation_0-mlogloss:0.00231\tvalidation_1-mlogloss:0.19254\n",
      "[73]\tvalidation_0-mlogloss:0.00226\tvalidation_1-mlogloss:0.19244\n",
      "[74]\tvalidation_0-mlogloss:0.00222\tvalidation_1-mlogloss:0.19245\n",
      "[75]\tvalidation_0-mlogloss:0.00218\tvalidation_1-mlogloss:0.19201\n",
      "[76]\tvalidation_0-mlogloss:0.00214\tvalidation_1-mlogloss:0.19216\n",
      "[77]\tvalidation_0-mlogloss:0.00210\tvalidation_1-mlogloss:0.19220\n",
      "[78]\tvalidation_0-mlogloss:0.00207\tvalidation_1-mlogloss:0.19153\n",
      "[79]\tvalidation_0-mlogloss:0.00203\tvalidation_1-mlogloss:0.19146\n",
      "[80]\tvalidation_0-mlogloss:0.00200\tvalidation_1-mlogloss:0.19159\n",
      "[81]\tvalidation_0-mlogloss:0.00197\tvalidation_1-mlogloss:0.19158\n",
      "[82]\tvalidation_0-mlogloss:0.00194\tvalidation_1-mlogloss:0.19184\n",
      "[83]\tvalidation_0-mlogloss:0.00191\tvalidation_1-mlogloss:0.19189\n",
      "[84]\tvalidation_0-mlogloss:0.00188\tvalidation_1-mlogloss:0.19217\n",
      "[85]\tvalidation_0-mlogloss:0.00185\tvalidation_1-mlogloss:0.19181\n",
      "[86]\tvalidation_0-mlogloss:0.00183\tvalidation_1-mlogloss:0.19175\n",
      "[87]\tvalidation_0-mlogloss:0.00180\tvalidation_1-mlogloss:0.19153\n",
      "[88]\tvalidation_0-mlogloss:0.00178\tvalidation_1-mlogloss:0.19158\n",
      "[89]\tvalidation_0-mlogloss:0.00176\tvalidation_1-mlogloss:0.19166\n",
      "[90]\tvalidation_0-mlogloss:0.00173\tvalidation_1-mlogloss:0.19153\n",
      "[91]\tvalidation_0-mlogloss:0.00171\tvalidation_1-mlogloss:0.19156\n",
      "[92]\tvalidation_0-mlogloss:0.00169\tvalidation_1-mlogloss:0.19136\n",
      "[93]\tvalidation_0-mlogloss:0.00167\tvalidation_1-mlogloss:0.19148\n",
      "[94]\tvalidation_0-mlogloss:0.00165\tvalidation_1-mlogloss:0.19126\n",
      "[95]\tvalidation_0-mlogloss:0.00163\tvalidation_1-mlogloss:0.19138\n",
      "[96]\tvalidation_0-mlogloss:0.00161\tvalidation_1-mlogloss:0.19132\n",
      "[97]\tvalidation_0-mlogloss:0.00160\tvalidation_1-mlogloss:0.19153\n",
      "[98]\tvalidation_0-mlogloss:0.00158\tvalidation_1-mlogloss:0.19163\n",
      "[99]\tvalidation_0-mlogloss:0.00156\tvalidation_1-mlogloss:0.19159\n"
     ]
    },
    {
     "data": {
      "text/html": [
       "<style>#sk-container-id-3 {color: black;background-color: white;}#sk-container-id-3 pre{padding: 0;}#sk-container-id-3 div.sk-toggleable {background-color: white;}#sk-container-id-3 label.sk-toggleable__label {cursor: pointer;display: block;width: 100%;margin-bottom: 0;padding: 0.3em;box-sizing: border-box;text-align: center;}#sk-container-id-3 label.sk-toggleable__label-arrow:before {content: \"▸\";float: left;margin-right: 0.25em;color: #696969;}#sk-container-id-3 label.sk-toggleable__label-arrow:hover:before {color: black;}#sk-container-id-3 div.sk-estimator:hover label.sk-toggleable__label-arrow:before {color: black;}#sk-container-id-3 div.sk-toggleable__content {max-height: 0;max-width: 0;overflow: hidden;text-align: left;background-color: #f0f8ff;}#sk-container-id-3 div.sk-toggleable__content pre {margin: 0.2em;color: black;border-radius: 0.25em;background-color: #f0f8ff;}#sk-container-id-3 input.sk-toggleable__control:checked~div.sk-toggleable__content {max-height: 200px;max-width: 100%;overflow: auto;}#sk-container-id-3 input.sk-toggleable__control:checked~label.sk-toggleable__label-arrow:before {content: \"▾\";}#sk-container-id-3 div.sk-estimator input.sk-toggleable__control:checked~label.sk-toggleable__label {background-color: #d4ebff;}#sk-container-id-3 div.sk-label input.sk-toggleable__control:checked~label.sk-toggleable__label {background-color: #d4ebff;}#sk-container-id-3 input.sk-hidden--visually {border: 0;clip: rect(1px 1px 1px 1px);clip: rect(1px, 1px, 1px, 1px);height: 1px;margin: -1px;overflow: hidden;padding: 0;position: absolute;width: 1px;}#sk-container-id-3 div.sk-estimator {font-family: monospace;background-color: #f0f8ff;border: 1px dotted black;border-radius: 0.25em;box-sizing: border-box;margin-bottom: 0.5em;}#sk-container-id-3 div.sk-estimator:hover {background-color: #d4ebff;}#sk-container-id-3 div.sk-parallel-item::after {content: \"\";width: 100%;border-bottom: 1px solid gray;flex-grow: 1;}#sk-container-id-3 div.sk-label:hover label.sk-toggleable__label {background-color: #d4ebff;}#sk-container-id-3 div.sk-serial::before {content: \"\";position: absolute;border-left: 1px solid gray;box-sizing: border-box;top: 0;bottom: 0;left: 50%;z-index: 0;}#sk-container-id-3 div.sk-serial {display: flex;flex-direction: column;align-items: center;background-color: white;padding-right: 0.2em;padding-left: 0.2em;position: relative;}#sk-container-id-3 div.sk-item {position: relative;z-index: 1;}#sk-container-id-3 div.sk-parallel {display: flex;align-items: stretch;justify-content: center;background-color: white;position: relative;}#sk-container-id-3 div.sk-item::before, #sk-container-id-3 div.sk-parallel-item::before {content: \"\";position: absolute;border-left: 1px solid gray;box-sizing: border-box;top: 0;bottom: 0;left: 50%;z-index: -1;}#sk-container-id-3 div.sk-parallel-item {display: flex;flex-direction: column;z-index: 1;position: relative;background-color: white;}#sk-container-id-3 div.sk-parallel-item:first-child::after {align-self: flex-end;width: 50%;}#sk-container-id-3 div.sk-parallel-item:last-child::after {align-self: flex-start;width: 50%;}#sk-container-id-3 div.sk-parallel-item:only-child::after {width: 0;}#sk-container-id-3 div.sk-dashed-wrapped {border: 1px dashed gray;margin: 0 0.4em 0.5em 0.4em;box-sizing: border-box;padding-bottom: 0.4em;background-color: white;}#sk-container-id-3 div.sk-label label {font-family: monospace;font-weight: bold;display: inline-block;line-height: 1.2em;}#sk-container-id-3 div.sk-label-container {text-align: center;}#sk-container-id-3 div.sk-container {/* jupyter's `normalize.less` sets `[hidden] { display: none; }` but bootstrap.min.css set `[hidden] { display: none !important; }` so we also need the `!important` here to be able to override the default hidden behavior on the sphinx rendered scikit-learn.org. See: https://github.com/scikit-learn/scikit-learn/issues/21755 */display: inline-block !important;position: relative;}#sk-container-id-3 div.sk-text-repr-fallback {display: none;}</style><div id=\"sk-container-id-3\" class=\"sk-top-container\"><div class=\"sk-text-repr-fallback\"><pre>XGBClassifier(base_score=0.5, booster=&#x27;gbtree&#x27;, callbacks=None,\n",
       "              colsample_bylevel=1, colsample_bynode=1, colsample_bytree=1,\n",
       "              early_stopping_rounds=None, enable_categorical=False,\n",
       "              eval_metric=None, feature_types=None, gamma=0, gpu_id=-1,\n",
       "              grow_policy=&#x27;depthwise&#x27;, importance_type=None,\n",
       "              interaction_constraints=&#x27;&#x27;, learning_rate=0.300000012,\n",
       "              max_bin=256, max_cat_threshold=64, max_cat_to_onehot=4,\n",
       "              max_delta_step=0, max_depth=6, max_leaves=0, min_child_weight=1,\n",
       "              missing=nan, monotone_constraints=&#x27;()&#x27;, n_estimators=100,\n",
       "              n_jobs=0, num_class=10, num_parallel_tree=1,\n",
       "              objective=&#x27;multi:softprob&#x27;, ...)</pre><b>In a Jupyter environment, please rerun this cell to show the HTML representation or trust the notebook. <br />On GitHub, the HTML representation is unable to render, please try loading this page with nbviewer.org.</b></div><div class=\"sk-container\" hidden><div class=\"sk-item\"><div class=\"sk-estimator sk-toggleable\"><input class=\"sk-toggleable__control sk-hidden--visually\" id=\"sk-estimator-id-3\" type=\"checkbox\" checked><label for=\"sk-estimator-id-3\" class=\"sk-toggleable__label sk-toggleable__label-arrow\">XGBClassifier</label><div class=\"sk-toggleable__content\"><pre>XGBClassifier(base_score=0.5, booster=&#x27;gbtree&#x27;, callbacks=None,\n",
       "              colsample_bylevel=1, colsample_bynode=1, colsample_bytree=1,\n",
       "              early_stopping_rounds=None, enable_categorical=False,\n",
       "              eval_metric=None, feature_types=None, gamma=0, gpu_id=-1,\n",
       "              grow_policy=&#x27;depthwise&#x27;, importance_type=None,\n",
       "              interaction_constraints=&#x27;&#x27;, learning_rate=0.300000012,\n",
       "              max_bin=256, max_cat_threshold=64, max_cat_to_onehot=4,\n",
       "              max_delta_step=0, max_depth=6, max_leaves=0, min_child_weight=1,\n",
       "              missing=nan, monotone_constraints=&#x27;()&#x27;, n_estimators=100,\n",
       "              n_jobs=0, num_class=10, num_parallel_tree=1,\n",
       "              objective=&#x27;multi:softprob&#x27;, ...)</pre></div></div></div></div></div>"
      ],
      "text/plain": [
       "XGBClassifier(base_score=0.5, booster='gbtree', callbacks=None,\n",
       "              colsample_bylevel=1, colsample_bynode=1, colsample_bytree=1,\n",
       "              early_stopping_rounds=None, enable_categorical=False,\n",
       "              eval_metric=None, feature_types=None, gamma=0, gpu_id=-1,\n",
       "              grow_policy='depthwise', importance_type=None,\n",
       "              interaction_constraints='', learning_rate=0.300000012,\n",
       "              max_bin=256, max_cat_threshold=64, max_cat_to_onehot=4,\n",
       "              max_delta_step=0, max_depth=6, max_leaves=0, min_child_weight=1,\n",
       "              missing=nan, monotone_constraints='()', n_estimators=100,\n",
       "              n_jobs=0, num_class=10, num_parallel_tree=1,\n",
       "              objective='multi:softprob', ...)"
      ]
     },
     "execution_count": 38,
     "metadata": {},
     "output_type": "execute_result"
    }
   ],
   "source": [
    "model = XGBClassifier(use_label_encoder=False, num_class=10)\n",
    "\n",
    "eval_set = [(X_train, y_train), (X_test, y_test)]\n",
    "\n",
    "model.fit(X_train, y_train, eval_metric=['mlogloss'], eval_set=eval_set)"
   ]
  },
  {
   "cell_type": "code",
   "execution_count": 51,
   "id": "d82d6d3d",
   "metadata": {},
   "outputs": [
    {
     "data": {
      "image/png": "[encoded data removed]",
      "text/plain": [
       "<Figure size 640x480 with 1 Axes>"
      ]
     },
     "metadata": {},
     "output_type": "display_data"
    }
   ],
   "source": [
    "results = model.evals_result()\n",
    "\n",
    "fig, ax = plt.subplots()\n",
    "\n",
    "epochs = len(results['validation_0']['mlogloss'])\n",
    "x_axis = range(0, epochs)\n",
    "\n",
    "ax.plot(x_axis, results['validation_0']['mlogloss'], label='Train',color='blue')\n",
    "ax.plot(x_axis, results['validation_1']['mlogloss'], ':', label='Test',color='red')\n",
    "ax.legend()\n",
    "plt.xlabel(\"Nombre d'estimateurs\")\n",
    "plt.ylabel('Erreur log Loss')\n",
    "plt.title('XGBoost')\n",
    "plt.show()"
   ]
  },
  {
   "cell_type": "code",
   "execution_count": 52,
   "id": "142733b3",
   "metadata": {},
   "outputs": [],
   "source": [
    "scores_val_cross = cross_val_score(model, X_train, y_train, cv=5)"
   ]
  },
  {
   "cell_type": "code",
   "execution_count": 53,
   "id": "39a97e9b",
   "metadata": {},
   "outputs": [
    {
     "name": "stdout",
     "output_type": "stream",
     "text": [
      "Mean cross-validation score 0.95\n"
     ]
    }
   ],
   "source": [
    "print(\"Mean cross-validation score %.2f\" % scores_val_cross.mean())"
   ]
  },
  {
   "cell_type": "code",
   "execution_count": 54,
   "id": "45e37f91",
   "metadata": {},
   "outputs": [],
   "source": [
    "y_pred = cross_val_predict(model, X_test, y_test, cv=5)"
   ]
  },
  {
   "cell_type": "code",
   "execution_count": 55,
   "id": "b5533e9f",
   "metadata": {},
   "outputs": [
    {
     "name": "stdout",
     "output_type": "stream",
     "text": [
      "[[167   0   0   0   0   0   4   0   4   0]\n",
      " [  0 226   1   1   2   0   2   0   2   0]\n",
      " [  2   3 191   2   5   0   6   5   3   2]\n",
      " [  0   1   3 172   0   6   2  11  11   1]\n",
      " [  1   0   1   1 193   0   2   1   3  15]\n",
      " [  7   1   0   6   3 149   5   2   6   0]\n",
      " [  5   1   3   0   3   3 157   1   6   0]\n",
      " [  1   2   9   3   4   1   0 176   1   7]\n",
      " [  0   3   4   6   6   9   3   3 153   5]\n",
      " [  1   0   1   4   7   2   0   7   2 170]]\n"
     ]
    }
   ],
   "source": [
    "cm = confusion_matrix(y_test, y_pred)\n",
    "print(cm)"
   ]
  },
  {
   "cell_type": "code",
   "execution_count": 56,
   "id": "0d98bb3b",
   "metadata": {},
   "outputs": [
    {
     "data": {
      "text/plain": [
       "<AxesSubplot: >"
      ]
     },
     "execution_count": 56,
     "metadata": {},
     "output_type": "execute_result"
    },
    {
     "data": {
      "image/png": "[encoded data removed]",
      "text/plain": [
       "<Figure size 640x480 with 2 Axes>"
      ]
     },
     "metadata": {},
     "output_type": "display_data"
    }
   ],
   "source": [
    "sns.heatmap(cm, annot=True)"
   ]
  },
  {
   "cell_type": "code",
   "execution_count": 57,
   "id": "5a6c334b",
   "metadata": {},
   "outputs": [
    {
     "name": "stdout",
     "output_type": "stream",
     "text": [
      "              precision    recall  f1-score   support\n",
      "\n",
      "           0       0.91      0.95      0.93       175\n",
      "           1       0.95      0.97      0.96       234\n",
      "           2       0.90      0.87      0.88       219\n",
      "           3       0.88      0.83      0.86       207\n",
      "           4       0.87      0.89      0.88       217\n",
      "           5       0.88      0.83      0.85       179\n",
      "           6       0.87      0.88      0.87       179\n",
      "           7       0.85      0.86      0.86       204\n",
      "           8       0.80      0.80      0.80       192\n",
      "           9       0.85      0.88      0.86       194\n",
      "\n",
      "    accuracy                           0.88      2000\n",
      "   macro avg       0.88      0.88      0.88      2000\n",
      "weighted avg       0.88      0.88      0.88      2000\n",
      "\n"
     ]
    }
   ],
   "source": [
    "print(classification_report(y_test, y_pred))"
   ]
  },
  {
   "cell_type": "code",
   "execution_count": 58,
   "id": "e6824258",
   "metadata": {},
   "outputs": [
    {
     "name": "stdout",
     "output_type": "stream",
     "text": [
      "Accuracy score (validation) : 0.88\n"
     ]
    }
   ],
   "source": [
    "print(\"Accuracy score (validation) : %.2f\" % round(accuracy_score(y_test, y_pred),2))"
   ]
  },
  {
   "attachments": {},
   "cell_type": "markdown",
   "id": "53ff7839",
   "metadata": {},
   "source": [
    "On obtient un score plutôt bon, mais moins bon que le meilleur modèle avec l'algorithme Gradient Boosting. \n",
    "\n",
    "On va alors chercher à l'optimiser.\n",
    "\n",
    "Pour cela, on va commencer par utiliser le early_stopping en le fixant à 10 pour limiter la complexité du modèle et pour éviter le sur-apprentissage."
   ]
  },
  {
   "cell_type": "code",
   "execution_count": 59,
   "id": "c451621c",
   "metadata": {},
   "outputs": [
    {
     "name": "stdout",
     "output_type": "stream",
     "text": [
      "[0]\tvalidation_0-mlogloss:1.33845\tvalidation_1-mlogloss:1.48367\n",
      "[1]\tvalidation_0-mlogloss:0.99538\tvalidation_1-mlogloss:1.18329\n",
      "[2]\tvalidation_0-mlogloss:0.77389\tvalidation_1-mlogloss:0.97986\n",
      "[3]\tvalidation_0-mlogloss:0.61389\tvalidation_1-mlogloss:0.83560\n",
      "[4]\tvalidation_0-mlogloss:0.49192\tvalidation_1-mlogloss:0.72145\n",
      "[5]\tvalidation_0-mlogloss:0.39851\tvalidation_1-mlogloss:0.63522\n",
      "[6]\tvalidation_0-mlogloss:0.32595\tvalidation_1-mlogloss:0.56575\n",
      "[7]\tvalidation_0-mlogloss:0.26981\tvalidation_1-mlogloss:0.51189\n",
      "[8]\tvalidation_0-mlogloss:0.22457\tvalidation_1-mlogloss:0.46800\n",
      "[9]\tvalidation_0-mlogloss:0.18730\tvalidation_1-mlogloss:0.43009\n",
      "[10]\tvalidation_0-mlogloss:0.15837\tvalidation_1-mlogloss:0.40370\n",
      "[11]\tvalidation_0-mlogloss:0.13410\tvalidation_1-mlogloss:0.38016\n",
      "[12]\tvalidation_0-mlogloss:0.11512\tvalidation_1-mlogloss:0.36094\n",
      "[13]\tvalidation_0-mlogloss:0.09929\tvalidation_1-mlogloss:0.34162\n",
      "[14]\tvalidation_0-mlogloss:0.08532\tvalidation_1-mlogloss:0.32585\n",
      "[15]\tvalidation_0-mlogloss:0.07424\tvalidation_1-mlogloss:0.31255\n",
      "[16]\tvalidation_0-mlogloss:0.06489\tvalidation_1-mlogloss:0.30273\n",
      "[17]\tvalidation_0-mlogloss:0.05743\tvalidation_1-mlogloss:0.29341\n",
      "[18]\tvalidation_0-mlogloss:0.05001\tvalidation_1-mlogloss:0.28352\n",
      "[19]\tvalidation_0-mlogloss:0.04403\tvalidation_1-mlogloss:0.27615\n",
      "[20]\tvalidation_0-mlogloss:0.03924\tvalidation_1-mlogloss:0.26834\n",
      "[21]\tvalidation_0-mlogloss:0.03453\tvalidation_1-mlogloss:0.26143\n",
      "[22]\tvalidation_0-mlogloss:0.03103\tvalidation_1-mlogloss:0.25628\n",
      "[23]\tvalidation_0-mlogloss:0.02787\tvalidation_1-mlogloss:0.25242\n",
      "[24]\tvalidation_0-mlogloss:0.02510\tvalidation_1-mlogloss:0.24880\n",
      "[25]\tvalidation_0-mlogloss:0.02268\tvalidation_1-mlogloss:0.24361\n",
      "[26]\tvalidation_0-mlogloss:0.02070\tvalidation_1-mlogloss:0.23975\n",
      "[27]\tvalidation_0-mlogloss:0.01867\tvalidation_1-mlogloss:0.23545\n",
      "[28]\tvalidation_0-mlogloss:0.01701\tvalidation_1-mlogloss:0.23210\n",
      "[29]\tvalidation_0-mlogloss:0.01548\tvalidation_1-mlogloss:0.23034\n",
      "[30]\tvalidation_0-mlogloss:0.01430\tvalidation_1-mlogloss:0.22778\n",
      "[31]\tvalidation_0-mlogloss:0.01324\tvalidation_1-mlogloss:0.22539\n",
      "[32]\tvalidation_0-mlogloss:0.01209\tvalidation_1-mlogloss:0.22287\n",
      "[33]\tvalidation_0-mlogloss:0.01112\tvalidation_1-mlogloss:0.22138\n",
      "[34]\tvalidation_0-mlogloss:0.01030\tvalidation_1-mlogloss:0.21925\n",
      "[35]\tvalidation_0-mlogloss:0.00961\tvalidation_1-mlogloss:0.21797\n",
      "[36]\tvalidation_0-mlogloss:0.00898\tvalidation_1-mlogloss:0.21657\n",
      "[37]\tvalidation_0-mlogloss:0.00843\tvalidation_1-mlogloss:0.21386\n",
      "[38]\tvalidation_0-mlogloss:0.00789\tvalidation_1-mlogloss:0.21164\n",
      "[39]\tvalidation_0-mlogloss:0.00742\tvalidation_1-mlogloss:0.21045\n",
      "[40]\tvalidation_0-mlogloss:0.00698\tvalidation_1-mlogloss:0.20907\n",
      "[41]\tvalidation_0-mlogloss:0.00656\tvalidation_1-mlogloss:0.20743\n",
      "[42]\tvalidation_0-mlogloss:0.00625\tvalidation_1-mlogloss:0.20657\n",
      "[43]\tvalidation_0-mlogloss:0.00594\tvalidation_1-mlogloss:0.20567\n",
      "[44]\tvalidation_0-mlogloss:0.00563\tvalidation_1-mlogloss:0.20481\n",
      "[45]\tvalidation_0-mlogloss:0.00535\tvalidation_1-mlogloss:0.20443\n",
      "[46]\tvalidation_0-mlogloss:0.00509\tvalidation_1-mlogloss:0.20412\n",
      "[47]\tvalidation_0-mlogloss:0.00486\tvalidation_1-mlogloss:0.20294\n",
      "[48]\tvalidation_0-mlogloss:0.00465\tvalidation_1-mlogloss:0.20263\n",
      "[49]\tvalidation_0-mlogloss:0.00447\tvalidation_1-mlogloss:0.20150\n",
      "[50]\tvalidation_0-mlogloss:0.00428\tvalidation_1-mlogloss:0.20070\n",
      "[51]\tvalidation_0-mlogloss:0.00411\tvalidation_1-mlogloss:0.20030\n",
      "[52]\tvalidation_0-mlogloss:0.00396\tvalidation_1-mlogloss:0.20014\n",
      "[53]\tvalidation_0-mlogloss:0.00382\tvalidation_1-mlogloss:0.19975\n",
      "[54]\tvalidation_0-mlogloss:0.00369\tvalidation_1-mlogloss:0.19974\n",
      "[55]\tvalidation_0-mlogloss:0.00357\tvalidation_1-mlogloss:0.19892\n",
      "[56]\tvalidation_0-mlogloss:0.00345\tvalidation_1-mlogloss:0.19909\n",
      "[57]\tvalidation_0-mlogloss:0.00334\tvalidation_1-mlogloss:0.19888\n",
      "[58]\tvalidation_0-mlogloss:0.00324\tvalidation_1-mlogloss:0.19821\n",
      "[59]\tvalidation_0-mlogloss:0.00314\tvalidation_1-mlogloss:0.19789\n",
      "[60]\tvalidation_0-mlogloss:0.00306\tvalidation_1-mlogloss:0.19645\n",
      "[61]\tvalidation_0-mlogloss:0.00297\tvalidation_1-mlogloss:0.19594\n",
      "[62]\tvalidation_0-mlogloss:0.00289\tvalidation_1-mlogloss:0.19545\n",
      "[63]\tvalidation_0-mlogloss:0.00282\tvalidation_1-mlogloss:0.19488\n",
      "[64]\tvalidation_0-mlogloss:0.00275\tvalidation_1-mlogloss:0.19439\n",
      "[65]\tvalidation_0-mlogloss:0.00268\tvalidation_1-mlogloss:0.19427\n",
      "[66]\tvalidation_0-mlogloss:0.00262\tvalidation_1-mlogloss:0.19401\n",
      "[67]\tvalidation_0-mlogloss:0.00256\tvalidation_1-mlogloss:0.19380\n",
      "[68]\tvalidation_0-mlogloss:0.00251\tvalidation_1-mlogloss:0.19390\n",
      "[69]\tvalidation_0-mlogloss:0.00245\tvalidation_1-mlogloss:0.19383\n",
      "[70]\tvalidation_0-mlogloss:0.00240\tvalidation_1-mlogloss:0.19336\n",
      "[71]\tvalidation_0-mlogloss:0.00235\tvalidation_1-mlogloss:0.19310\n",
      "[72]\tvalidation_0-mlogloss:0.00231\tvalidation_1-mlogloss:0.19254\n",
      "[73]\tvalidation_0-mlogloss:0.00226\tvalidation_1-mlogloss:0.19244\n",
      "[74]\tvalidation_0-mlogloss:0.00222\tvalidation_1-mlogloss:0.19245\n",
      "[75]\tvalidation_0-mlogloss:0.00218\tvalidation_1-mlogloss:0.19201\n",
      "[76]\tvalidation_0-mlogloss:0.00214\tvalidation_1-mlogloss:0.19216\n",
      "[77]\tvalidation_0-mlogloss:0.00210\tvalidation_1-mlogloss:0.19220\n",
      "[78]\tvalidation_0-mlogloss:0.00207\tvalidation_1-mlogloss:0.19153\n",
      "[79]\tvalidation_0-mlogloss:0.00203\tvalidation_1-mlogloss:0.19146\n",
      "[80]\tvalidation_0-mlogloss:0.00200\tvalidation_1-mlogloss:0.19159\n",
      "[81]\tvalidation_0-mlogloss:0.00197\tvalidation_1-mlogloss:0.19158\n",
      "[82]\tvalidation_0-mlogloss:0.00194\tvalidation_1-mlogloss:0.19184\n",
      "[83]\tvalidation_0-mlogloss:0.00191\tvalidation_1-mlogloss:0.19189\n",
      "[84]\tvalidation_0-mlogloss:0.00188\tvalidation_1-mlogloss:0.19217\n",
      "[85]\tvalidation_0-mlogloss:0.00185\tvalidation_1-mlogloss:0.19181\n",
      "[86]\tvalidation_0-mlogloss:0.00183\tvalidation_1-mlogloss:0.19175\n",
      "[87]\tvalidation_0-mlogloss:0.00180\tvalidation_1-mlogloss:0.19153\n",
      "[88]\tvalidation_0-mlogloss:0.00178\tvalidation_1-mlogloss:0.19158\n",
      "[89]\tvalidation_0-mlogloss:0.00176\tvalidation_1-mlogloss:0.19166\n"
     ]
    },
    {
     "data": {
      "text/html": [
       "<style>#sk-container-id-4 {color: black;background-color: white;}#sk-container-id-4 pre{padding: 0;}#sk-container-id-4 div.sk-toggleable {background-color: white;}#sk-container-id-4 label.sk-toggleable__label {cursor: pointer;display: block;width: 100%;margin-bottom: 0;padding: 0.3em;box-sizing: border-box;text-align: center;}#sk-container-id-4 label.sk-toggleable__label-arrow:before {content: \"▸\";float: left;margin-right: 0.25em;color: #696969;}#sk-container-id-4 label.sk-toggleable__label-arrow:hover:before {color: black;}#sk-container-id-4 div.sk-estimator:hover label.sk-toggleable__label-arrow:before {color: black;}#sk-container-id-4 div.sk-toggleable__content {max-height: 0;max-width: 0;overflow: hidden;text-align: left;background-color: #f0f8ff;}#sk-container-id-4 div.sk-toggleable__content pre {margin: 0.2em;color: black;border-radius: 0.25em;background-color: #f0f8ff;}#sk-container-id-4 input.sk-toggleable__control:checked~div.sk-toggleable__content {max-height: 200px;max-width: 100%;overflow: auto;}#sk-container-id-4 input.sk-toggleable__control:checked~label.sk-toggleable__label-arrow:before {content: \"▾\";}#sk-container-id-4 div.sk-estimator input.sk-toggleable__control:checked~label.sk-toggleable__label {background-color: #d4ebff;}#sk-container-id-4 div.sk-label input.sk-toggleable__control:checked~label.sk-toggleable__label {background-color: #d4ebff;}#sk-container-id-4 input.sk-hidden--visually {border: 0;clip: rect(1px 1px 1px 1px);clip: rect(1px, 1px, 1px, 1px);height: 1px;margin: -1px;overflow: hidden;padding: 0;position: absolute;width: 1px;}#sk-container-id-4 div.sk-estimator {font-family: monospace;background-color: #f0f8ff;border: 1px dotted black;border-radius: 0.25em;box-sizing: border-box;margin-bottom: 0.5em;}#sk-container-id-4 div.sk-estimator:hover {background-color: #d4ebff;}#sk-container-id-4 div.sk-parallel-item::after {content: \"\";width: 100%;border-bottom: 1px solid gray;flex-grow: 1;}#sk-container-id-4 div.sk-label:hover label.sk-toggleable__label {background-color: #d4ebff;}#sk-container-id-4 div.sk-serial::before {content: \"\";position: absolute;border-left: 1px solid gray;box-sizing: border-box;top: 0;bottom: 0;left: 50%;z-index: 0;}#sk-container-id-4 div.sk-serial {display: flex;flex-direction: column;align-items: center;background-color: white;padding-right: 0.2em;padding-left: 0.2em;position: relative;}#sk-container-id-4 div.sk-item {position: relative;z-index: 1;}#sk-container-id-4 div.sk-parallel {display: flex;align-items: stretch;justify-content: center;background-color: white;position: relative;}#sk-container-id-4 div.sk-item::before, #sk-container-id-4 div.sk-parallel-item::before {content: \"\";position: absolute;border-left: 1px solid gray;box-sizing: border-box;top: 0;bottom: 0;left: 50%;z-index: -1;}#sk-container-id-4 div.sk-parallel-item {display: flex;flex-direction: column;z-index: 1;position: relative;background-color: white;}#sk-container-id-4 div.sk-parallel-item:first-child::after {align-self: flex-end;width: 50%;}#sk-container-id-4 div.sk-parallel-item:last-child::after {align-self: flex-start;width: 50%;}#sk-container-id-4 div.sk-parallel-item:only-child::after {width: 0;}#sk-container-id-4 div.sk-dashed-wrapped {border: 1px dashed gray;margin: 0 0.4em 0.5em 0.4em;box-sizing: border-box;padding-bottom: 0.4em;background-color: white;}#sk-container-id-4 div.sk-label label {font-family: monospace;font-weight: bold;display: inline-block;line-height: 1.2em;}#sk-container-id-4 div.sk-label-container {text-align: center;}#sk-container-id-4 div.sk-container {/* jupyter's `normalize.less` sets `[hidden] { display: none; }` but bootstrap.min.css set `[hidden] { display: none !important; }` so we also need the `!important` here to be able to override the default hidden behavior on the sphinx rendered scikit-learn.org. See: https://github.com/scikit-learn/scikit-learn/issues/21755 */display: inline-block !important;position: relative;}#sk-container-id-4 div.sk-text-repr-fallback {display: none;}</style><div id=\"sk-container-id-4\" class=\"sk-top-container\"><div class=\"sk-text-repr-fallback\"><pre>XGBClassifier(base_score=0.5, booster=&#x27;gbtree&#x27;, callbacks=None,\n",
       "              colsample_bylevel=1, colsample_bynode=1, colsample_bytree=1,\n",
       "              early_stopping_rounds=None, enable_categorical=False,\n",
       "              eval_metric=None, feature_types=None, gamma=0, gpu_id=-1,\n",
       "              grow_policy=&#x27;depthwise&#x27;, importance_type=None,\n",
       "              interaction_constraints=&#x27;&#x27;, learning_rate=0.300000012,\n",
       "              max_bin=256, max_cat_threshold=64, max_cat_to_onehot=4,\n",
       "              max_delta_step=0, max_depth=6, max_leaves=0, min_child_weight=1,\n",
       "              missing=nan, monotone_constraints=&#x27;()&#x27;, n_estimators=100,\n",
       "              n_jobs=0, num_class=10, num_parallel_tree=1,\n",
       "              objective=&#x27;multi:softprob&#x27;, ...)</pre><b>In a Jupyter environment, please rerun this cell to show the HTML representation or trust the notebook. <br />On GitHub, the HTML representation is unable to render, please try loading this page with nbviewer.org.</b></div><div class=\"sk-container\" hidden><div class=\"sk-item\"><div class=\"sk-estimator sk-toggleable\"><input class=\"sk-toggleable__control sk-hidden--visually\" id=\"sk-estimator-id-4\" type=\"checkbox\" checked><label for=\"sk-estimator-id-4\" class=\"sk-toggleable__label sk-toggleable__label-arrow\">XGBClassifier</label><div class=\"sk-toggleable__content\"><pre>XGBClassifier(base_score=0.5, booster=&#x27;gbtree&#x27;, callbacks=None,\n",
       "              colsample_bylevel=1, colsample_bynode=1, colsample_bytree=1,\n",
       "              early_stopping_rounds=None, enable_categorical=False,\n",
       "              eval_metric=None, feature_types=None, gamma=0, gpu_id=-1,\n",
       "              grow_policy=&#x27;depthwise&#x27;, importance_type=None,\n",
       "              interaction_constraints=&#x27;&#x27;, learning_rate=0.300000012,\n",
       "              max_bin=256, max_cat_threshold=64, max_cat_to_onehot=4,\n",
       "              max_delta_step=0, max_depth=6, max_leaves=0, min_child_weight=1,\n",
       "              missing=nan, monotone_constraints=&#x27;()&#x27;, n_estimators=100,\n",
       "              n_jobs=0, num_class=10, num_parallel_tree=1,\n",
       "              objective=&#x27;multi:softprob&#x27;, ...)</pre></div></div></div></div></div>"
      ],
      "text/plain": [
       "XGBClassifier(base_score=0.5, booster='gbtree', callbacks=None,\n",
       "              colsample_bylevel=1, colsample_bynode=1, colsample_bytree=1,\n",
       "              early_stopping_rounds=None, enable_categorical=False,\n",
       "              eval_metric=None, feature_types=None, gamma=0, gpu_id=-1,\n",
       "              grow_policy='depthwise', importance_type=None,\n",
       "              interaction_constraints='', learning_rate=0.300000012,\n",
       "              max_bin=256, max_cat_threshold=64, max_cat_to_onehot=4,\n",
       "              max_delta_step=0, max_depth=6, max_leaves=0, min_child_weight=1,\n",
       "              missing=nan, monotone_constraints='()', n_estimators=100,\n",
       "              n_jobs=0, num_class=10, num_parallel_tree=1,\n",
       "              objective='multi:softprob', ...)"
      ]
     },
     "execution_count": 59,
     "metadata": {},
     "output_type": "execute_result"
    }
   ],
   "source": [
    "eval_set = [(X_train, y_train), (X_test, y_test)]\n",
    "model1 = XGBClassifier(use_label_encoder=False, num_class=10)\n",
    "\n",
    "model1.fit(X_train, y_train, eval_metric=[\"mlogloss\"], eval_set=eval_set, early_stopping_rounds=10)"
   ]
  },
  {
   "cell_type": "code",
   "execution_count": 60,
   "id": "8b5d7b49",
   "metadata": {},
   "outputs": [
    {
     "name": "stdout",
     "output_type": "stream",
     "text": [
      "Le meilleur score a été obtenu pour un modèle avec 79 arbres.\n"
     ]
    }
   ],
   "source": [
    "print(\"Le meilleur score a été obtenu pour un modèle avec\", model1.best_iteration, \"arbres.\")"
   ]
  },
  {
   "attachments": {},
   "cell_type": "markdown",
   "id": "53b5f2f9",
   "metadata": {},
   "source": [
    "On a réduit le nombre d'estimateurs. On est passé de 100 arbres à 79."
   ]
  },
  {
   "cell_type": "code",
   "execution_count": 61,
   "id": "daec759e",
   "metadata": {},
   "outputs": [],
   "source": [
    "results1 = model1.evals_result()"
   ]
  },
  {
   "cell_type": "code",
   "execution_count": 62,
   "id": "dace70bd",
   "metadata": {},
   "outputs": [
    {
     "data": {
      "image/png": "[encoded data removed]",
      "text/plain": [
       "<Figure size 640x480 with 1 Axes>"
      ]
     },
     "metadata": {},
     "output_type": "display_data"
    }
   ],
   "source": [
    "fig, ax = plt.subplots()\n",
    "\n",
    "epochs = len(results1['validation_0']['mlogloss'])\n",
    "x_axis = range(0, epochs)\n",
    "\n",
    "ax.plot(x_axis, results1['validation_0']['mlogloss'], label='Train',color='blue')\n",
    "ax.plot(x_axis, results1['validation_1']['mlogloss'], ':', label='Test',color='red')\n",
    "ax.legend()\n",
    "plt.xlabel(\"Nombre d'estimateurs\")\n",
    "plt.ylabel('Erreur log Loss')\n",
    "plt.title('XGBoost - Early stopping')\n",
    "plt.show()"
   ]
  },
  {
   "attachments": {},
   "cell_type": "markdown",
   "id": "641de67e",
   "metadata": {},
   "source": [
    "On observe bien que l'erreur (train et test) diminue quand le nombre d'arbres augmente.\n",
    "L'erreur test est toujours supérieure à celle de train. Mais compte tenu de l'échelle, la différence est légère."
   ]
  },
  {
   "cell_type": "code",
   "execution_count": 64,
   "id": "f0e19fae",
   "metadata": {},
   "outputs": [
    {
     "data": {
      "image/png": "[encoded data removed]",
      "text/plain": [
       "<Figure size 640x480 with 1 Axes>"
      ]
     },
     "metadata": {},
     "output_type": "display_data"
    }
   ],
   "source": [
    "fig, ax = plt.subplots()\n",
    "\n",
    "ax.plot(scores_val_cross, ':', label='Validation croisée',color='green')\n",
    "ax.legend()\n",
    "plt.xlabel('k fold')\n",
    "plt.ylabel('Multiclasses log Loss')\n",
    "plt.title('Erreur de validation croisée')\n",
    "plt.show()"
   ]
  },
  {
   "attachments": {},
   "cell_type": "markdown",
   "id": "a2ee1778",
   "metadata": {},
   "source": [
    "On va maintenant rechercher le meilleur modèle."
   ]
  },
  {
   "cell_type": "code",
   "execution_count": 69,
   "id": "c9de5a2c",
   "metadata": {},
   "outputs": [],
   "source": [
    "estimator = XGBClassifier(objective= 'multiclass',use_label_encoder=False, num_class=10)\n",
    "\n",
    "parameters = {\n",
    "    'max_depth': range(3, 10, 1),\n",
    "    'n_estimators': range(60, 100, 20),\n",
    "    'learning_rate': [0.1, 0.01, 0.05]\n",
    "}"
   ]
  },
  {
   "cell_type": "code",
   "execution_count": 70,
   "id": "ebcf7e02",
   "metadata": {},
   "outputs": [],
   "source": [
    "grid_search = GridSearchCV(\n",
    "    estimator=estimator,\n",
    "    param_grid=parameters,\n",
    "    scoring = 'accuracy',\n",
    "    n_jobs = -1,\n",
    "    cv = 5,\n",
    "    verbose=True\n",
    ")"
   ]
  },
  {
   "cell_type": "code",
   "execution_count": 73,
   "id": "34564fbd",
   "metadata": {},
   "outputs": [
    {
     "name": "stdout",
     "output_type": "stream",
     "text": [
      "Fitting 5 folds for each of 42 candidates, totalling 210 fits\n"
     ]
    },
    {
     "data": {
      "text/html": [
       "<style>#sk-container-id-5 {color: black;background-color: white;}#sk-container-id-5 pre{padding: 0;}#sk-container-id-5 div.sk-toggleable {background-color: white;}#sk-container-id-5 label.sk-toggleable__label {cursor: pointer;display: block;width: 100%;margin-bottom: 0;padding: 0.3em;box-sizing: border-box;text-align: center;}#sk-container-id-5 label.sk-toggleable__label-arrow:before {content: \"▸\";float: left;margin-right: 0.25em;color: #696969;}#sk-container-id-5 label.sk-toggleable__label-arrow:hover:before {color: black;}#sk-container-id-5 div.sk-estimator:hover label.sk-toggleable__label-arrow:before {color: black;}#sk-container-id-5 div.sk-toggleable__content {max-height: 0;max-width: 0;overflow: hidden;text-align: left;background-color: #f0f8ff;}#sk-container-id-5 div.sk-toggleable__content pre {margin: 0.2em;color: black;border-radius: 0.25em;background-color: #f0f8ff;}#sk-container-id-5 input.sk-toggleable__control:checked~div.sk-toggleable__content {max-height: 200px;max-width: 100%;overflow: auto;}#sk-container-id-5 input.sk-toggleable__control:checked~label.sk-toggleable__label-arrow:before {content: \"▾\";}#sk-container-id-5 div.sk-estimator input.sk-toggleable__control:checked~label.sk-toggleable__label {background-color: #d4ebff;}#sk-container-id-5 div.sk-label input.sk-toggleable__control:checked~label.sk-toggleable__label {background-color: #d4ebff;}#sk-container-id-5 input.sk-hidden--visually {border: 0;clip: rect(1px 1px 1px 1px);clip: rect(1px, 1px, 1px, 1px);height: 1px;margin: -1px;overflow: hidden;padding: 0;position: absolute;width: 1px;}#sk-container-id-5 div.sk-estimator {font-family: monospace;background-color: #f0f8ff;border: 1px dotted black;border-radius: 0.25em;box-sizing: border-box;margin-bottom: 0.5em;}#sk-container-id-5 div.sk-estimator:hover {background-color: #d4ebff;}#sk-container-id-5 div.sk-parallel-item::after {content: \"\";width: 100%;border-bottom: 1px solid gray;flex-grow: 1;}#sk-container-id-5 div.sk-label:hover label.sk-toggleable__label {background-color: #d4ebff;}#sk-container-id-5 div.sk-serial::before {content: \"\";position: absolute;border-left: 1px solid gray;box-sizing: border-box;top: 0;bottom: 0;left: 50%;z-index: 0;}#sk-container-id-5 div.sk-serial {display: flex;flex-direction: column;align-items: center;background-color: white;padding-right: 0.2em;padding-left: 0.2em;position: relative;}#sk-container-id-5 div.sk-item {position: relative;z-index: 1;}#sk-container-id-5 div.sk-parallel {display: flex;align-items: stretch;justify-content: center;background-color: white;position: relative;}#sk-container-id-5 div.sk-item::before, #sk-container-id-5 div.sk-parallel-item::before {content: \"\";position: absolute;border-left: 1px solid gray;box-sizing: border-box;top: 0;bottom: 0;left: 50%;z-index: -1;}#sk-container-id-5 div.sk-parallel-item {display: flex;flex-direction: column;z-index: 1;position: relative;background-color: white;}#sk-container-id-5 div.sk-parallel-item:first-child::after {align-self: flex-end;width: 50%;}#sk-container-id-5 div.sk-parallel-item:last-child::after {align-self: flex-start;width: 50%;}#sk-container-id-5 div.sk-parallel-item:only-child::after {width: 0;}#sk-container-id-5 div.sk-dashed-wrapped {border: 1px dashed gray;margin: 0 0.4em 0.5em 0.4em;box-sizing: border-box;padding-bottom: 0.4em;background-color: white;}#sk-container-id-5 div.sk-label label {font-family: monospace;font-weight: bold;display: inline-block;line-height: 1.2em;}#sk-container-id-5 div.sk-label-container {text-align: center;}#sk-container-id-5 div.sk-container {/* jupyter's `normalize.less` sets `[hidden] { display: none; }` but bootstrap.min.css set `[hidden] { display: none !important; }` so we also need the `!important` here to be able to override the default hidden behavior on the sphinx rendered scikit-learn.org. See: https://github.com/scikit-learn/scikit-learn/issues/21755 */display: inline-block !important;position: relative;}#sk-container-id-5 div.sk-text-repr-fallback {display: none;}</style><div id=\"sk-container-id-5\" class=\"sk-top-container\"><div class=\"sk-text-repr-fallback\"><pre>GridSearchCV(cv=5,\n",
       "             estimator=XGBClassifier(base_score=None, booster=None,\n",
       "                                     callbacks=None, colsample_bylevel=None,\n",
       "                                     colsample_bynode=None,\n",
       "                                     colsample_bytree=None,\n",
       "                                     early_stopping_rounds=None,\n",
       "                                     enable_categorical=False, eval_metric=None,\n",
       "                                     feature_types=None, gamma=None,\n",
       "                                     gpu_id=None, grow_policy=None,\n",
       "                                     importance_type=None,\n",
       "                                     interaction_constraints=None,\n",
       "                                     learning_rate=None,...\n",
       "                                     max_cat_to_onehot=None,\n",
       "                                     max_delta_step=None, max_depth=None,\n",
       "                                     max_leaves=None, min_child_weight=None,\n",
       "                                     missing=nan, monotone_constraints=None,\n",
       "                                     n_estimators=100, n_jobs=None,\n",
       "                                     num_class=10, num_parallel_tree=None,\n",
       "                                     objective=&#x27;multiclass&#x27;, ...),\n",
       "             n_jobs=-1,\n",
       "             param_grid={&#x27;learning_rate&#x27;: [0.1, 0.01, 0.05],\n",
       "                         &#x27;max_depth&#x27;: range(3, 10),\n",
       "                         &#x27;n_estimators&#x27;: range(60, 100, 20)},\n",
       "             scoring=&#x27;accuracy&#x27;, verbose=True)</pre><b>In a Jupyter environment, please rerun this cell to show the HTML representation or trust the notebook. <br />On GitHub, the HTML representation is unable to render, please try loading this page with nbviewer.org.</b></div><div class=\"sk-container\" hidden><div class=\"sk-item sk-dashed-wrapped\"><div class=\"sk-label-container\"><div class=\"sk-label sk-toggleable\"><input class=\"sk-toggleable__control sk-hidden--visually\" id=\"sk-estimator-id-5\" type=\"checkbox\" ><label for=\"sk-estimator-id-5\" class=\"sk-toggleable__label sk-toggleable__label-arrow\">GridSearchCV</label><div class=\"sk-toggleable__content\"><pre>GridSearchCV(cv=5,\n",
       "             estimator=XGBClassifier(base_score=None, booster=None,\n",
       "                                     callbacks=None, colsample_bylevel=None,\n",
       "                                     colsample_bynode=None,\n",
       "                                     colsample_bytree=None,\n",
       "                                     early_stopping_rounds=None,\n",
       "                                     enable_categorical=False, eval_metric=None,\n",
       "                                     feature_types=None, gamma=None,\n",
       "                                     gpu_id=None, grow_policy=None,\n",
       "                                     importance_type=None,\n",
       "                                     interaction_constraints=None,\n",
       "                                     learning_rate=None,...\n",
       "                                     max_cat_to_onehot=None,\n",
       "                                     max_delta_step=None, max_depth=None,\n",
       "                                     max_leaves=None, min_child_weight=None,\n",
       "                                     missing=nan, monotone_constraints=None,\n",
       "                                     n_estimators=100, n_jobs=None,\n",
       "                                     num_class=10, num_parallel_tree=None,\n",
       "                                     objective=&#x27;multiclass&#x27;, ...),\n",
       "             n_jobs=-1,\n",
       "             param_grid={&#x27;learning_rate&#x27;: [0.1, 0.01, 0.05],\n",
       "                         &#x27;max_depth&#x27;: range(3, 10),\n",
       "                         &#x27;n_estimators&#x27;: range(60, 100, 20)},\n",
       "             scoring=&#x27;accuracy&#x27;, verbose=True)</pre></div></div></div><div class=\"sk-parallel\"><div class=\"sk-parallel-item\"><div class=\"sk-item\"><div class=\"sk-label-container\"><div class=\"sk-label sk-toggleable\"><input class=\"sk-toggleable__control sk-hidden--visually\" id=\"sk-estimator-id-6\" type=\"checkbox\" ><label for=\"sk-estimator-id-6\" class=\"sk-toggleable__label sk-toggleable__label-arrow\">estimator: XGBClassifier</label><div class=\"sk-toggleable__content\"><pre>XGBClassifier(base_score=None, booster=None, callbacks=None,\n",
       "              colsample_bylevel=None, colsample_bynode=None,\n",
       "              colsample_bytree=None, early_stopping_rounds=None,\n",
       "              enable_categorical=False, eval_metric=None, feature_types=None,\n",
       "              gamma=None, gpu_id=None, grow_policy=None, importance_type=None,\n",
       "              interaction_constraints=None, learning_rate=None, max_bin=None,\n",
       "              max_cat_threshold=None, max_cat_to_onehot=None,\n",
       "              max_delta_step=None, max_depth=None, max_leaves=None,\n",
       "              min_child_weight=None, missing=nan, monotone_constraints=None,\n",
       "              n_estimators=100, n_jobs=None, num_class=10,\n",
       "              num_parallel_tree=None, objective=&#x27;multiclass&#x27;, ...)</pre></div></div></div><div class=\"sk-serial\"><div class=\"sk-item\"><div class=\"sk-estimator sk-toggleable\"><input class=\"sk-toggleable__control sk-hidden--visually\" id=\"sk-estimator-id-7\" type=\"checkbox\" ><label for=\"sk-estimator-id-7\" class=\"sk-toggleable__label sk-toggleable__label-arrow\">XGBClassifier</label><div class=\"sk-toggleable__content\"><pre>XGBClassifier(base_score=None, booster=None, callbacks=None,\n",
       "              colsample_bylevel=None, colsample_bynode=None,\n",
       "              colsample_bytree=None, early_stopping_rounds=None,\n",
       "              enable_categorical=False, eval_metric=None, feature_types=None,\n",
       "              gamma=None, gpu_id=None, grow_policy=None, importance_type=None,\n",
       "              interaction_constraints=None, learning_rate=None, max_bin=None,\n",
       "              max_cat_threshold=None, max_cat_to_onehot=None,\n",
       "              max_delta_step=None, max_depth=None, max_leaves=None,\n",
       "              min_child_weight=None, missing=nan, monotone_constraints=None,\n",
       "              n_estimators=100, n_jobs=None, num_class=10,\n",
       "              num_parallel_tree=None, objective=&#x27;multiclass&#x27;, ...)</pre></div></div></div></div></div></div></div></div></div></div>"
      ],
      "text/plain": [
       "GridSearchCV(cv=5,\n",
       "             estimator=XGBClassifier(base_score=None, booster=None,\n",
       "                                     callbacks=None, colsample_bylevel=None,\n",
       "                                     colsample_bynode=None,\n",
       "                                     colsample_bytree=None,\n",
       "                                     early_stopping_rounds=None,\n",
       "                                     enable_categorical=False, eval_metric=None,\n",
       "                                     feature_types=None, gamma=None,\n",
       "                                     gpu_id=None, grow_policy=None,\n",
       "                                     importance_type=None,\n",
       "                                     interaction_constraints=None,\n",
       "                                     learning_rate=None,...\n",
       "                                     max_cat_to_onehot=None,\n",
       "                                     max_delta_step=None, max_depth=None,\n",
       "                                     max_leaves=None, min_child_weight=None,\n",
       "                                     missing=nan, monotone_constraints=None,\n",
       "                                     n_estimators=100, n_jobs=None,\n",
       "                                     num_class=10, num_parallel_tree=None,\n",
       "                                     objective='multiclass', ...),\n",
       "             n_jobs=-1,\n",
       "             param_grid={'learning_rate': [0.1, 0.01, 0.05],\n",
       "                         'max_depth': range(3, 10),\n",
       "                         'n_estimators': range(60, 100, 20)},\n",
       "             scoring='accuracy', verbose=True)"
      ]
     },
     "execution_count": 73,
     "metadata": {},
     "output_type": "execute_result"
    }
   ],
   "source": [
    "grid_search.fit(X_train, y_train, eval_metric=[\"mlogloss\"])"
   ]
  },
  {
   "cell_type": "code",
   "execution_count": 75,
   "id": "03c75b26",
   "metadata": {},
   "outputs": [
    {
     "name": "stdout",
     "output_type": "stream",
     "text": [
      "Best: 0.948389 using {'learning_rate': 0.1, 'max_depth': 9, 'max_features': 4, 'n_estimators': 100}\n"
     ]
    }
   ],
   "source": [
    "# Résumé du meilleur score avec ses paramètres correspondants\n",
    "print(\"Best: %f using %s\" % (grid_result.best_score_, grid_result.best_params_))"
   ]
  },
  {
   "cell_type": "code",
   "execution_count": 76,
   "id": "fccadf23",
   "metadata": {},
   "outputs": [
    {
     "name": "stdout",
     "output_type": "stream",
     "text": [
      "\n",
      "\n",
      "Estimateur choisi par GridSearch : \n",
      "\n",
      " GradientBoostingClassifier(loss='deviance', max_depth=9, max_features=4)\n"
     ]
    }
   ],
   "source": [
    "# On cherche le meilleur modèle\n",
    "print('\\n\\nEstimateur choisi par GridSearch :','\\n\\n', (grid_result.best_estimator_))"
   ]
  },
  {
   "cell_type": "code",
   "execution_count": 87,
   "id": "31ec876a",
   "metadata": {},
   "outputs": [
    {
     "name": "stdout",
     "output_type": "stream",
     "text": [
      "[21:31:33] WARNING: C:/buildkite-agent/builds/buildkite-windows-cpu-autoscaling-group-i-03de431ba26204c4d-1/xgboost/xgboost-ci-windows/src/learner.cc:767: \n",
      "Parameters: { \"max_features\" } are not used.\n",
      "\n"
     ]
    },
    {
     "data": {
      "text/html": [
       "<style>#sk-container-id-8 {color: black;background-color: white;}#sk-container-id-8 pre{padding: 0;}#sk-container-id-8 div.sk-toggleable {background-color: white;}#sk-container-id-8 label.sk-toggleable__label {cursor: pointer;display: block;width: 100%;margin-bottom: 0;padding: 0.3em;box-sizing: border-box;text-align: center;}#sk-container-id-8 label.sk-toggleable__label-arrow:before {content: \"▸\";float: left;margin-right: 0.25em;color: #696969;}#sk-container-id-8 label.sk-toggleable__label-arrow:hover:before {color: black;}#sk-container-id-8 div.sk-estimator:hover label.sk-toggleable__label-arrow:before {color: black;}#sk-container-id-8 div.sk-toggleable__content {max-height: 0;max-width: 0;overflow: hidden;text-align: left;background-color: #f0f8ff;}#sk-container-id-8 div.sk-toggleable__content pre {margin: 0.2em;color: black;border-radius: 0.25em;background-color: #f0f8ff;}#sk-container-id-8 input.sk-toggleable__control:checked~div.sk-toggleable__content {max-height: 200px;max-width: 100%;overflow: auto;}#sk-container-id-8 input.sk-toggleable__control:checked~label.sk-toggleable__label-arrow:before {content: \"▾\";}#sk-container-id-8 div.sk-estimator input.sk-toggleable__control:checked~label.sk-toggleable__label {background-color: #d4ebff;}#sk-container-id-8 div.sk-label input.sk-toggleable__control:checked~label.sk-toggleable__label {background-color: #d4ebff;}#sk-container-id-8 input.sk-hidden--visually {border: 0;clip: rect(1px 1px 1px 1px);clip: rect(1px, 1px, 1px, 1px);height: 1px;margin: -1px;overflow: hidden;padding: 0;position: absolute;width: 1px;}#sk-container-id-8 div.sk-estimator {font-family: monospace;background-color: #f0f8ff;border: 1px dotted black;border-radius: 0.25em;box-sizing: border-box;margin-bottom: 0.5em;}#sk-container-id-8 div.sk-estimator:hover {background-color: #d4ebff;}#sk-container-id-8 div.sk-parallel-item::after {content: \"\";width: 100%;border-bottom: 1px solid gray;flex-grow: 1;}#sk-container-id-8 div.sk-label:hover label.sk-toggleable__label {background-color: #d4ebff;}#sk-container-id-8 div.sk-serial::before {content: \"\";position: absolute;border-left: 1px solid gray;box-sizing: border-box;top: 0;bottom: 0;left: 50%;z-index: 0;}#sk-container-id-8 div.sk-serial {display: flex;flex-direction: column;align-items: center;background-color: white;padding-right: 0.2em;padding-left: 0.2em;position: relative;}#sk-container-id-8 div.sk-item {position: relative;z-index: 1;}#sk-container-id-8 div.sk-parallel {display: flex;align-items: stretch;justify-content: center;background-color: white;position: relative;}#sk-container-id-8 div.sk-item::before, #sk-container-id-8 div.sk-parallel-item::before {content: \"\";position: absolute;border-left: 1px solid gray;box-sizing: border-box;top: 0;bottom: 0;left: 50%;z-index: -1;}#sk-container-id-8 div.sk-parallel-item {display: flex;flex-direction: column;z-index: 1;position: relative;background-color: white;}#sk-container-id-8 div.sk-parallel-item:first-child::after {align-self: flex-end;width: 50%;}#sk-container-id-8 div.sk-parallel-item:last-child::after {align-self: flex-start;width: 50%;}#sk-container-id-8 div.sk-parallel-item:only-child::after {width: 0;}#sk-container-id-8 div.sk-dashed-wrapped {border: 1px dashed gray;margin: 0 0.4em 0.5em 0.4em;box-sizing: border-box;padding-bottom: 0.4em;background-color: white;}#sk-container-id-8 div.sk-label label {font-family: monospace;font-weight: bold;display: inline-block;line-height: 1.2em;}#sk-container-id-8 div.sk-label-container {text-align: center;}#sk-container-id-8 div.sk-container {/* jupyter's `normalize.less` sets `[hidden] { display: none; }` but bootstrap.min.css set `[hidden] { display: none !important; }` so we also need the `!important` here to be able to override the default hidden behavior on the sphinx rendered scikit-learn.org. See: https://github.com/scikit-learn/scikit-learn/issues/21755 */display: inline-block !important;position: relative;}#sk-container-id-8 div.sk-text-repr-fallback {display: none;}</style><div id=\"sk-container-id-8\" class=\"sk-top-container\"><div class=\"sk-text-repr-fallback\"><pre>XGBClassifier(base_score=0.5, booster=&#x27;gbtree&#x27;, callbacks=None,\n",
       "              colsample_bylevel=1, colsample_bynode=1, colsample_bytree=1,\n",
       "              early_stopping_rounds=None, enable_categorical=False,\n",
       "              eval_metric=None, feature_types=None, gamma=0, gpu_id=-1,\n",
       "              grow_policy=&#x27;depthwise&#x27;, importance_type=None,\n",
       "              interaction_constraints=&#x27;&#x27;, learning_rate=0.300000012,\n",
       "              max_bin=256, max_cat_threshold=64, max_cat_to_onehot=4,\n",
       "              max_delta_step=0, max_depth=9, max_features=4, max_leaves=0,\n",
       "              min_child_weight=1, missing=nan, monotone_constraints=&#x27;()&#x27;,\n",
       "              n_estimators=100, n_jobs=0, num_class=10, num_parallel_tree=1, ...)</pre><b>In a Jupyter environment, please rerun this cell to show the HTML representation or trust the notebook. <br />On GitHub, the HTML representation is unable to render, please try loading this page with nbviewer.org.</b></div><div class=\"sk-container\" hidden><div class=\"sk-item\"><div class=\"sk-estimator sk-toggleable\"><input class=\"sk-toggleable__control sk-hidden--visually\" id=\"sk-estimator-id-10\" type=\"checkbox\" checked><label for=\"sk-estimator-id-10\" class=\"sk-toggleable__label sk-toggleable__label-arrow\">XGBClassifier</label><div class=\"sk-toggleable__content\"><pre>XGBClassifier(base_score=0.5, booster=&#x27;gbtree&#x27;, callbacks=None,\n",
       "              colsample_bylevel=1, colsample_bynode=1, colsample_bytree=1,\n",
       "              early_stopping_rounds=None, enable_categorical=False,\n",
       "              eval_metric=None, feature_types=None, gamma=0, gpu_id=-1,\n",
       "              grow_policy=&#x27;depthwise&#x27;, importance_type=None,\n",
       "              interaction_constraints=&#x27;&#x27;, learning_rate=0.300000012,\n",
       "              max_bin=256, max_cat_threshold=64, max_cat_to_onehot=4,\n",
       "              max_delta_step=0, max_depth=9, max_features=4, max_leaves=0,\n",
       "              min_child_weight=1, missing=nan, monotone_constraints=&#x27;()&#x27;,\n",
       "              n_estimators=100, n_jobs=0, num_class=10, num_parallel_tree=1, ...)</pre></div></div></div></div></div>"
      ],
      "text/plain": [
       "XGBClassifier(base_score=0.5, booster='gbtree', callbacks=None,\n",
       "              colsample_bylevel=1, colsample_bynode=1, colsample_bytree=1,\n",
       "              early_stopping_rounds=None, enable_categorical=False,\n",
       "              eval_metric=None, feature_types=None, gamma=0, gpu_id=-1,\n",
       "              grow_policy='depthwise', importance_type=None,\n",
       "              interaction_constraints='', learning_rate=0.300000012,\n",
       "              max_bin=256, max_cat_threshold=64, max_cat_to_onehot=4,\n",
       "              max_delta_step=0, max_depth=9, max_features=4, max_leaves=0,\n",
       "              min_child_weight=1, missing=nan, monotone_constraints='()',\n",
       "              n_estimators=100, n_jobs=0, num_class=10, num_parallel_tree=1, ...)"
      ]
     },
     "execution_count": 87,
     "metadata": {},
     "output_type": "execute_result"
    }
   ],
   "source": [
    "xgboost_best = XGBClassifier(objective= 'multiclass',use_label_encoder=False, num_class=10, max_depth=9, max_features=4, random_state=0)\n",
    "xgboost_best.fit(X_train, y_train, eval_metric=['mlogloss'])"
   ]
  },
  {
   "cell_type": "code",
   "execution_count": 88,
   "id": "b5d7e0fa",
   "metadata": {},
   "outputs": [],
   "source": [
    "y_pred = xgboost_best.predict(X_test)"
   ]
  },
  {
   "cell_type": "code",
   "execution_count": 89,
   "id": "91942213",
   "metadata": {},
   "outputs": [
    {
     "name": "stdout",
     "output_type": "stream",
     "text": [
      "Confusion Matrix:\n",
      "[[171   0   0   1   0   0   2   0   1   0]\n",
      " [  0 228   1   1   1   0   1   0   2   0]\n",
      " [  1   0 201   3   2   0   3   4   1   4]\n",
      " [  0   0   2 193   1   4   2   3   2   0]\n",
      " [  0   0   0   0 203   0   4   0   1   9]\n",
      " [  1   0   1   2   0 171   1   1   2   0]\n",
      " [  3   1   0   0   1   2 170   0   2   0]\n",
      " [  0   2  10   3   2   1   0 182   0   4]\n",
      " [  3   0   3   4   2   2   1   1 174   2]\n",
      " [  1   0   0   4   3   0   0   2   3 181]]\n"
     ]
    }
   ],
   "source": [
    "print(\"Confusion Matrix:\")\n",
    "print(confusion_matrix(y_test, y_pred))"
   ]
  },
  {
   "cell_type": "code",
   "execution_count": 90,
   "id": "bf388d11",
   "metadata": {},
   "outputs": [
    {
     "name": "stdout",
     "output_type": "stream",
     "text": [
      "Classification Report\n",
      "              precision    recall  f1-score   support\n",
      "\n",
      "           0       0.95      0.98      0.96       175\n",
      "           1       0.99      0.97      0.98       234\n",
      "           2       0.92      0.92      0.92       219\n",
      "           3       0.91      0.93      0.92       207\n",
      "           4       0.94      0.94      0.94       217\n",
      "           5       0.95      0.96      0.95       179\n",
      "           6       0.92      0.95      0.94       179\n",
      "           7       0.94      0.89      0.92       204\n",
      "           8       0.93      0.91      0.92       192\n",
      "           9       0.91      0.93      0.92       194\n",
      "\n",
      "    accuracy                           0.94      2000\n",
      "   macro avg       0.94      0.94      0.94      2000\n",
      "weighted avg       0.94      0.94      0.94      2000\n",
      "\n"
     ]
    }
   ],
   "source": [
    "print(\"Classification Report\")\n",
    "print(classification_report(y_test, y_pred))"
   ]
  },
  {
   "attachments": {},
   "cell_type": "markdown",
   "id": "5385ed36",
   "metadata": {},
   "source": [
    "On obtient un score d'accuracy de 0.94 qui est très bien comparé au 0.84 obtenu avec le premier modèle."
   ]
  },
  {
   "attachments": {},
   "cell_type": "markdown",
   "id": "1676c99b",
   "metadata": {},
   "source": [
    "### Variante LightGBM"
   ]
  },
  {
   "cell_type": "code",
   "execution_count": 92,
   "id": "c1959a70",
   "metadata": {},
   "outputs": [
    {
     "data": {
      "text/html": [
       "<style>#sk-container-id-10 {color: black;background-color: white;}#sk-container-id-10 pre{padding: 0;}#sk-container-id-10 div.sk-toggleable {background-color: white;}#sk-container-id-10 label.sk-toggleable__label {cursor: pointer;display: block;width: 100%;margin-bottom: 0;padding: 0.3em;box-sizing: border-box;text-align: center;}#sk-container-id-10 label.sk-toggleable__label-arrow:before {content: \"▸\";float: left;margin-right: 0.25em;color: #696969;}#sk-container-id-10 label.sk-toggleable__label-arrow:hover:before {color: black;}#sk-container-id-10 div.sk-estimator:hover label.sk-toggleable__label-arrow:before {color: black;}#sk-container-id-10 div.sk-toggleable__content {max-height: 0;max-width: 0;overflow: hidden;text-align: left;background-color: #f0f8ff;}#sk-container-id-10 div.sk-toggleable__content pre {margin: 0.2em;color: black;border-radius: 0.25em;background-color: #f0f8ff;}#sk-container-id-10 input.sk-toggleable__control:checked~div.sk-toggleable__content {max-height: 200px;max-width: 100%;overflow: auto;}#sk-container-id-10 input.sk-toggleable__control:checked~label.sk-toggleable__label-arrow:before {content: \"▾\";}#sk-container-id-10 div.sk-estimator input.sk-toggleable__control:checked~label.sk-toggleable__label {background-color: #d4ebff;}#sk-container-id-10 div.sk-label input.sk-toggleable__control:checked~label.sk-toggleable__label {background-color: #d4ebff;}#sk-container-id-10 input.sk-hidden--visually {border: 0;clip: rect(1px 1px 1px 1px);clip: rect(1px, 1px, 1px, 1px);height: 1px;margin: -1px;overflow: hidden;padding: 0;position: absolute;width: 1px;}#sk-container-id-10 div.sk-estimator {font-family: monospace;background-color: #f0f8ff;border: 1px dotted black;border-radius: 0.25em;box-sizing: border-box;margin-bottom: 0.5em;}#sk-container-id-10 div.sk-estimator:hover {background-color: #d4ebff;}#sk-container-id-10 div.sk-parallel-item::after {content: \"\";width: 100%;border-bottom: 1px solid gray;flex-grow: 1;}#sk-container-id-10 div.sk-label:hover label.sk-toggleable__label {background-color: #d4ebff;}#sk-container-id-10 div.sk-serial::before {content: \"\";position: absolute;border-left: 1px solid gray;box-sizing: border-box;top: 0;bottom: 0;left: 50%;z-index: 0;}#sk-container-id-10 div.sk-serial {display: flex;flex-direction: column;align-items: center;background-color: white;padding-right: 0.2em;padding-left: 0.2em;position: relative;}#sk-container-id-10 div.sk-item {position: relative;z-index: 1;}#sk-container-id-10 div.sk-parallel {display: flex;align-items: stretch;justify-content: center;background-color: white;position: relative;}#sk-container-id-10 div.sk-item::before, #sk-container-id-10 div.sk-parallel-item::before {content: \"\";position: absolute;border-left: 1px solid gray;box-sizing: border-box;top: 0;bottom: 0;left: 50%;z-index: -1;}#sk-container-id-10 div.sk-parallel-item {display: flex;flex-direction: column;z-index: 1;position: relative;background-color: white;}#sk-container-id-10 div.sk-parallel-item:first-child::after {align-self: flex-end;width: 50%;}#sk-container-id-10 div.sk-parallel-item:last-child::after {align-self: flex-start;width: 50%;}#sk-container-id-10 div.sk-parallel-item:only-child::after {width: 0;}#sk-container-id-10 div.sk-dashed-wrapped {border: 1px dashed gray;margin: 0 0.4em 0.5em 0.4em;box-sizing: border-box;padding-bottom: 0.4em;background-color: white;}#sk-container-id-10 div.sk-label label {font-family: monospace;font-weight: bold;display: inline-block;line-height: 1.2em;}#sk-container-id-10 div.sk-label-container {text-align: center;}#sk-container-id-10 div.sk-container {/* jupyter's `normalize.less` sets `[hidden] { display: none; }` but bootstrap.min.css set `[hidden] { display: none !important; }` so we also need the `!important` here to be able to override the default hidden behavior on the sphinx rendered scikit-learn.org. See: https://github.com/scikit-learn/scikit-learn/issues/21755 */display: inline-block !important;position: relative;}#sk-container-id-10 div.sk-text-repr-fallback {display: none;}</style><div id=\"sk-container-id-10\" class=\"sk-top-container\"><div class=\"sk-text-repr-fallback\"><pre>LGBMClassifier(num_class=10, objective=&#x27;multiclass&#x27;, random_state=0)</pre><b>In a Jupyter environment, please rerun this cell to show the HTML representation or trust the notebook. <br />On GitHub, the HTML representation is unable to render, please try loading this page with nbviewer.org.</b></div><div class=\"sk-container\" hidden><div class=\"sk-item\"><div class=\"sk-estimator sk-toggleable\"><input class=\"sk-toggleable__control sk-hidden--visually\" id=\"sk-estimator-id-12\" type=\"checkbox\" checked><label for=\"sk-estimator-id-12\" class=\"sk-toggleable__label sk-toggleable__label-arrow\">LGBMClassifier</label><div class=\"sk-toggleable__content\"><pre>LGBMClassifier(num_class=10, objective=&#x27;multiclass&#x27;, random_state=0)</pre></div></div></div></div></div>"
      ],
      "text/plain": [
       "LGBMClassifier(num_class=10, objective='multiclass', random_state=0)"
      ]
     },
     "execution_count": 92,
     "metadata": {},
     "output_type": "execute_result"
    }
   ],
   "source": [
    "# Version simple du modèle sans optimisation\n",
    "model = LGBMClassifier(objective='multiclass', num_class=10, random_state=0)\n",
    "model.fit(X_train, y_train)"
   ]
  },
  {
   "cell_type": "code",
   "execution_count": 96,
   "id": "f5334f66",
   "metadata": {},
   "outputs": [
    {
     "name": "stdout",
     "output_type": "stream",
     "text": [
      "Accuracy (test): 94.50%\n"
     ]
    }
   ],
   "source": [
    "y_pred=model.predict(X_test)\n",
    "accuracy = accuracy_score(y_test, y_pred)\n",
    "\n",
    "print(\"Accuracy (test): %.2f%%\" % (accuracy * 100.0)) # 94.5 %"
   ]
  },
  {
   "cell_type": "code",
   "execution_count": 94,
   "id": "29e8390d",
   "metadata": {},
   "outputs": [
    {
     "name": "stdout",
     "output_type": "stream",
     "text": [
      "Confusion Matrix\n",
      "\n",
      "[[172   0   0   1   0   0   2   0   0   0]\n",
      " [  0 230   1   1   0   0   1   0   1   0]\n",
      " [  1   0 202   2   2   0   4   4   1   3]\n",
      " [  0   0   3 196   0   2   1   2   3   0]\n",
      " [  1   0   0   0 206   0   3   0   1   6]\n",
      " [  0   0   1   2   0 172   0   1   3   0]\n",
      " [  3   1   0   0   0   2 170   0   3   0]\n",
      " [  1   3   9   2   2   1   0 182   2   2]\n",
      " [  2   0   4   2   2   1   1   2 176   2]\n",
      " [  1   0   0   2   2   0   0   2   3 184]]\n"
     ]
    }
   ],
   "source": [
    "confusion = confusion_matrix(y_test, y_pred)\n",
    "print('Confusion Matrix\\n')\n",
    "print(confusion)"
   ]
  },
  {
   "cell_type": "code",
   "execution_count": 95,
   "id": "5852d80d",
   "metadata": {},
   "outputs": [
    {
     "name": "stdout",
     "output_type": "stream",
     "text": [
      "[1]\ttraining's multi_logloss: 1.6483\tvalid_1's multi_logloss: 1.73278\n",
      "[2]\ttraining's multi_logloss: 1.33155\tvalid_1's multi_logloss: 1.45715\n",
      "[3]\ttraining's multi_logloss: 1.11097\tvalid_1's multi_logloss: 1.26275\n",
      "[4]\ttraining's multi_logloss: 0.944578\tvalid_1's multi_logloss: 1.11508\n",
      "[5]\ttraining's multi_logloss: 0.809988\tvalid_1's multi_logloss: 0.996117\n",
      "[6]\ttraining's multi_logloss: 0.701553\tvalid_1's multi_logloss: 0.898546\n",
      "[7]\ttraining's multi_logloss: 0.61145\tvalid_1's multi_logloss: 0.816075\n",
      "[8]\ttraining's multi_logloss: 0.535154\tvalid_1's multi_logloss: 0.747976\n",
      "[9]\ttraining's multi_logloss: 0.470274\tvalid_1's multi_logloss: 0.687762\n",
      "[10]\ttraining's multi_logloss: 0.414813\tvalid_1's multi_logloss: 0.636417\n",
      "[11]\ttraining's multi_logloss: 0.366824\tvalid_1's multi_logloss: 0.592275\n",
      "[12]\ttraining's multi_logloss: 0.325217\tvalid_1's multi_logloss: 0.552353\n",
      "[13]\ttraining's multi_logloss: 0.289148\tvalid_1's multi_logloss: 0.519825\n",
      "[14]\ttraining's multi_logloss: 0.257206\tvalid_1's multi_logloss: 0.489426\n",
      "[15]\ttraining's multi_logloss: 0.229851\tvalid_1's multi_logloss: 0.463966\n",
      "[16]\ttraining's multi_logloss: 0.205575\tvalid_1's multi_logloss: 0.441184\n",
      "[17]\ttraining's multi_logloss: 0.183767\tvalid_1's multi_logloss: 0.419421\n",
      "[18]\ttraining's multi_logloss: 0.164472\tvalid_1's multi_logloss: 0.399441\n",
      "[19]\ttraining's multi_logloss: 0.147348\tvalid_1's multi_logloss: 0.384527\n",
      "[20]\ttraining's multi_logloss: 0.132096\tvalid_1's multi_logloss: 0.368837\n",
      "[21]\ttraining's multi_logloss: 0.118736\tvalid_1's multi_logloss: 0.355975\n",
      "[22]\ttraining's multi_logloss: 0.106664\tvalid_1's multi_logloss: 0.343787\n",
      "[23]\ttraining's multi_logloss: 0.0960318\tvalid_1's multi_logloss: 0.331981\n",
      "[24]\ttraining's multi_logloss: 0.0863261\tvalid_1's multi_logloss: 0.322596\n",
      "[25]\ttraining's multi_logloss: 0.077769\tvalid_1's multi_logloss: 0.312812\n",
      "[26]\ttraining's multi_logloss: 0.0702281\tvalid_1's multi_logloss: 0.304357\n",
      "[27]\ttraining's multi_logloss: 0.0633831\tvalid_1's multi_logloss: 0.297302\n",
      "[28]\ttraining's multi_logloss: 0.0571054\tvalid_1's multi_logloss: 0.290667\n",
      "[29]\ttraining's multi_logloss: 0.0517374\tvalid_1's multi_logloss: 0.285004\n",
      "[30]\ttraining's multi_logloss: 0.0466922\tvalid_1's multi_logloss: 0.279204\n",
      "[31]\ttraining's multi_logloss: 0.042289\tvalid_1's multi_logloss: 0.272862\n",
      "[32]\ttraining's multi_logloss: 0.0383555\tvalid_1's multi_logloss: 0.267477\n",
      "[33]\ttraining's multi_logloss: 0.0347152\tvalid_1's multi_logloss: 0.262884\n",
      "[34]\ttraining's multi_logloss: 0.0314149\tvalid_1's multi_logloss: 0.257716\n",
      "[35]\ttraining's multi_logloss: 0.0285195\tvalid_1's multi_logloss: 0.253953\n",
      "[36]\ttraining's multi_logloss: 0.0258625\tvalid_1's multi_logloss: 0.250177\n",
      "[37]\ttraining's multi_logloss: 0.0235003\tvalid_1's multi_logloss: 0.246209\n",
      "[38]\ttraining's multi_logloss: 0.0213281\tvalid_1's multi_logloss: 0.241907\n",
      "[39]\ttraining's multi_logloss: 0.0194246\tvalid_1's multi_logloss: 0.238383\n",
      "[40]\ttraining's multi_logloss: 0.0176887\tvalid_1's multi_logloss: 0.235203\n",
      "[41]\ttraining's multi_logloss: 0.0161144\tvalid_1's multi_logloss: 0.232727\n",
      "[42]\ttraining's multi_logloss: 0.0147371\tvalid_1's multi_logloss: 0.230524\n",
      "[43]\ttraining's multi_logloss: 0.013408\tvalid_1's multi_logloss: 0.228461\n",
      "[44]\ttraining's multi_logloss: 0.0122212\tvalid_1's multi_logloss: 0.226352\n",
      "[45]\ttraining's multi_logloss: 0.0111306\tvalid_1's multi_logloss: 0.224013\n",
      "[46]\ttraining's multi_logloss: 0.0101567\tvalid_1's multi_logloss: 0.221595\n",
      "[47]\ttraining's multi_logloss: 0.00924789\tvalid_1's multi_logloss: 0.21987\n",
      "[48]\ttraining's multi_logloss: 0.00845654\tvalid_1's multi_logloss: 0.218673\n",
      "[49]\ttraining's multi_logloss: 0.00770998\tvalid_1's multi_logloss: 0.216833\n",
      "[50]\ttraining's multi_logloss: 0.00704418\tvalid_1's multi_logloss: 0.215629\n",
      "[51]\ttraining's multi_logloss: 0.00641318\tvalid_1's multi_logloss: 0.21375\n",
      "[52]\ttraining's multi_logloss: 0.00584625\tvalid_1's multi_logloss: 0.211264\n",
      "[53]\ttraining's multi_logloss: 0.00533897\tvalid_1's multi_logloss: 0.210188\n",
      "[54]\ttraining's multi_logloss: 0.00489326\tvalid_1's multi_logloss: 0.209004\n",
      "[55]\ttraining's multi_logloss: 0.00448359\tvalid_1's multi_logloss: 0.207323\n",
      "[56]\ttraining's multi_logloss: 0.00410835\tvalid_1's multi_logloss: 0.206673\n",
      "[57]\ttraining's multi_logloss: 0.00376486\tvalid_1's multi_logloss: 0.205334\n",
      "[58]\ttraining's multi_logloss: 0.00344849\tvalid_1's multi_logloss: 0.205262\n",
      "[59]\ttraining's multi_logloss: 0.00317375\tvalid_1's multi_logloss: 0.204492\n",
      "[60]\ttraining's multi_logloss: 0.00290048\tvalid_1's multi_logloss: 0.204153\n",
      "[61]\ttraining's multi_logloss: 0.00265453\tvalid_1's multi_logloss: 0.20361\n",
      "[62]\ttraining's multi_logloss: 0.00243809\tvalid_1's multi_logloss: 0.203842\n",
      "[63]\ttraining's multi_logloss: 0.0022338\tvalid_1's multi_logloss: 0.202282\n",
      "[64]\ttraining's multi_logloss: 0.00204906\tvalid_1's multi_logloss: 0.201621\n",
      "[65]\ttraining's multi_logloss: 0.00188787\tvalid_1's multi_logloss: 0.201432\n",
      "[66]\ttraining's multi_logloss: 0.00173193\tvalid_1's multi_logloss: 0.200846\n",
      "[67]\ttraining's multi_logloss: 0.00159375\tvalid_1's multi_logloss: 0.200755\n",
      "[68]\ttraining's multi_logloss: 0.00146539\tvalid_1's multi_logloss: 0.200642\n",
      "[69]\ttraining's multi_logloss: 0.00134982\tvalid_1's multi_logloss: 0.20026\n",
      "[70]\ttraining's multi_logloss: 0.00123866\tvalid_1's multi_logloss: 0.199663\n",
      "[71]\ttraining's multi_logloss: 0.00113399\tvalid_1's multi_logloss: 0.198665\n",
      "[72]\ttraining's multi_logloss: 0.00104054\tvalid_1's multi_logloss: 0.198254\n",
      "[73]\ttraining's multi_logloss: 0.00095713\tvalid_1's multi_logloss: 0.198104\n",
      "[74]\ttraining's multi_logloss: 0.000879074\tvalid_1's multi_logloss: 0.198008\n",
      "[75]\ttraining's multi_logloss: 0.000807409\tvalid_1's multi_logloss: 0.198387\n",
      "[76]\ttraining's multi_logloss: 0.000741985\tvalid_1's multi_logloss: 0.198372\n",
      "[77]\ttraining's multi_logloss: 0.000684922\tvalid_1's multi_logloss: 0.198159\n",
      "[78]\ttraining's multi_logloss: 0.0006307\tvalid_1's multi_logloss: 0.19912\n",
      "[79]\ttraining's multi_logloss: 0.000581484\tvalid_1's multi_logloss: 0.198797\n",
      "[80]\ttraining's multi_logloss: 0.000535324\tvalid_1's multi_logloss: 0.197748\n",
      "[81]\ttraining's multi_logloss: 0.000492384\tvalid_1's multi_logloss: 0.196753\n",
      "[82]\ttraining's multi_logloss: 0.000452949\tvalid_1's multi_logloss: 0.19707\n",
      "[83]\ttraining's multi_logloss: 0.000415684\tvalid_1's multi_logloss: 0.197208\n",
      "[84]\ttraining's multi_logloss: 0.000382464\tvalid_1's multi_logloss: 0.196875\n",
      "[85]\ttraining's multi_logloss: 0.000352245\tvalid_1's multi_logloss: 0.196972\n",
      "[86]\ttraining's multi_logloss: 0.000323575\tvalid_1's multi_logloss: 0.196442\n",
      "[87]\ttraining's multi_logloss: 0.000298973\tvalid_1's multi_logloss: 0.197181\n",
      "[88]\ttraining's multi_logloss: 0.000275069\tvalid_1's multi_logloss: 0.197512\n",
      "[89]\ttraining's multi_logloss: 0.000252685\tvalid_1's multi_logloss: 0.197536\n",
      "[90]\ttraining's multi_logloss: 0.000232533\tvalid_1's multi_logloss: 0.197835\n",
      "[91]\ttraining's multi_logloss: 0.000214904\tvalid_1's multi_logloss: 0.197794\n",
      "[92]\ttraining's multi_logloss: 0.000197372\tvalid_1's multi_logloss: 0.197903\n",
      "[93]\ttraining's multi_logloss: 0.000181648\tvalid_1's multi_logloss: 0.198146\n",
      "[94]\ttraining's multi_logloss: 0.000167379\tvalid_1's multi_logloss: 0.197797\n",
      "[95]\ttraining's multi_logloss: 0.00015421\tvalid_1's multi_logloss: 0.197452\n",
      "[96]\ttraining's multi_logloss: 0.000141802\tvalid_1's multi_logloss: 0.197985\n"
     ]
    },
    {
     "data": {
      "text/html": [
       "<style>#sk-container-id-11 {color: black;background-color: white;}#sk-container-id-11 pre{padding: 0;}#sk-container-id-11 div.sk-toggleable {background-color: white;}#sk-container-id-11 label.sk-toggleable__label {cursor: pointer;display: block;width: 100%;margin-bottom: 0;padding: 0.3em;box-sizing: border-box;text-align: center;}#sk-container-id-11 label.sk-toggleable__label-arrow:before {content: \"▸\";float: left;margin-right: 0.25em;color: #696969;}#sk-container-id-11 label.sk-toggleable__label-arrow:hover:before {color: black;}#sk-container-id-11 div.sk-estimator:hover label.sk-toggleable__label-arrow:before {color: black;}#sk-container-id-11 div.sk-toggleable__content {max-height: 0;max-width: 0;overflow: hidden;text-align: left;background-color: #f0f8ff;}#sk-container-id-11 div.sk-toggleable__content pre {margin: 0.2em;color: black;border-radius: 0.25em;background-color: #f0f8ff;}#sk-container-id-11 input.sk-toggleable__control:checked~div.sk-toggleable__content {max-height: 200px;max-width: 100%;overflow: auto;}#sk-container-id-11 input.sk-toggleable__control:checked~label.sk-toggleable__label-arrow:before {content: \"▾\";}#sk-container-id-11 div.sk-estimator input.sk-toggleable__control:checked~label.sk-toggleable__label {background-color: #d4ebff;}#sk-container-id-11 div.sk-label input.sk-toggleable__control:checked~label.sk-toggleable__label {background-color: #d4ebff;}#sk-container-id-11 input.sk-hidden--visually {border: 0;clip: rect(1px 1px 1px 1px);clip: rect(1px, 1px, 1px, 1px);height: 1px;margin: -1px;overflow: hidden;padding: 0;position: absolute;width: 1px;}#sk-container-id-11 div.sk-estimator {font-family: monospace;background-color: #f0f8ff;border: 1px dotted black;border-radius: 0.25em;box-sizing: border-box;margin-bottom: 0.5em;}#sk-container-id-11 div.sk-estimator:hover {background-color: #d4ebff;}#sk-container-id-11 div.sk-parallel-item::after {content: \"\";width: 100%;border-bottom: 1px solid gray;flex-grow: 1;}#sk-container-id-11 div.sk-label:hover label.sk-toggleable__label {background-color: #d4ebff;}#sk-container-id-11 div.sk-serial::before {content: \"\";position: absolute;border-left: 1px solid gray;box-sizing: border-box;top: 0;bottom: 0;left: 50%;z-index: 0;}#sk-container-id-11 div.sk-serial {display: flex;flex-direction: column;align-items: center;background-color: white;padding-right: 0.2em;padding-left: 0.2em;position: relative;}#sk-container-id-11 div.sk-item {position: relative;z-index: 1;}#sk-container-id-11 div.sk-parallel {display: flex;align-items: stretch;justify-content: center;background-color: white;position: relative;}#sk-container-id-11 div.sk-item::before, #sk-container-id-11 div.sk-parallel-item::before {content: \"\";position: absolute;border-left: 1px solid gray;box-sizing: border-box;top: 0;bottom: 0;left: 50%;z-index: -1;}#sk-container-id-11 div.sk-parallel-item {display: flex;flex-direction: column;z-index: 1;position: relative;background-color: white;}#sk-container-id-11 div.sk-parallel-item:first-child::after {align-self: flex-end;width: 50%;}#sk-container-id-11 div.sk-parallel-item:last-child::after {align-self: flex-start;width: 50%;}#sk-container-id-11 div.sk-parallel-item:only-child::after {width: 0;}#sk-container-id-11 div.sk-dashed-wrapped {border: 1px dashed gray;margin: 0 0.4em 0.5em 0.4em;box-sizing: border-box;padding-bottom: 0.4em;background-color: white;}#sk-container-id-11 div.sk-label label {font-family: monospace;font-weight: bold;display: inline-block;line-height: 1.2em;}#sk-container-id-11 div.sk-label-container {text-align: center;}#sk-container-id-11 div.sk-container {/* jupyter's `normalize.less` sets `[hidden] { display: none; }` but bootstrap.min.css set `[hidden] { display: none !important; }` so we also need the `!important` here to be able to override the default hidden behavior on the sphinx rendered scikit-learn.org. See: https://github.com/scikit-learn/scikit-learn/issues/21755 */display: inline-block !important;position: relative;}#sk-container-id-11 div.sk-text-repr-fallback {display: none;}</style><div id=\"sk-container-id-11\" class=\"sk-top-container\"><div class=\"sk-text-repr-fallback\"><pre>LGBMClassifier(max_depth=10, n_estimators=500, objective=&#x27;multiclass&#x27;)</pre><b>In a Jupyter environment, please rerun this cell to show the HTML representation or trust the notebook. <br />On GitHub, the HTML representation is unable to render, please try loading this page with nbviewer.org.</b></div><div class=\"sk-container\" hidden><div class=\"sk-item\"><div class=\"sk-estimator sk-toggleable\"><input class=\"sk-toggleable__control sk-hidden--visually\" id=\"sk-estimator-id-13\" type=\"checkbox\" checked><label for=\"sk-estimator-id-13\" class=\"sk-toggleable__label sk-toggleable__label-arrow\">LGBMClassifier</label><div class=\"sk-toggleable__content\"><pre>LGBMClassifier(max_depth=10, n_estimators=500, objective=&#x27;multiclass&#x27;)</pre></div></div></div></div></div>"
      ],
      "text/plain": [
       "LGBMClassifier(max_depth=10, n_estimators=500, objective='multiclass')"
      ]
     },
     "execution_count": 95,
     "metadata": {},
     "output_type": "execute_result"
    }
   ],
   "source": [
    "# Simplification du modèle\n",
    "eval_set = [(X_train, y_train), (X_test, y_test)]\n",
    "\n",
    "model1 = LGBMClassifier(objective='multiclass', n_estimators=500, max_depth=10)\n",
    "\n",
    "model1.fit(X_train, y_train, early_stopping_rounds=10, eval_metric=['multi_logloss'], eval_set=eval_set)"
   ]
  },
  {
   "cell_type": "code",
   "execution_count": 97,
   "id": "5daddfc1",
   "metadata": {},
   "outputs": [
    {
     "name": "stdout",
     "output_type": "stream",
     "text": [
      "86\n"
     ]
    }
   ],
   "source": [
    "print(model1.best_iteration_)"
   ]
  },
  {
   "cell_type": "code",
   "execution_count": 99,
   "id": "d8de6bf2",
   "metadata": {},
   "outputs": [],
   "source": [
    "y_pred=model1.predict(X_test, num_iteration=model.best_iteration_)"
   ]
  },
  {
   "cell_type": "code",
   "execution_count": 100,
   "id": "0544cc28",
   "metadata": {},
   "outputs": [
    {
     "name": "stdout",
     "output_type": "stream",
     "text": [
      "Accuracy: 94.20%\n"
     ]
    }
   ],
   "source": [
    "accuracy = accuracy_score(y_test, y_pred)\n",
    "print(\"Accuracy: %.2f%%\" % (accuracy * 100.0))"
   ]
  },
  {
   "cell_type": "code",
   "execution_count": 101,
   "id": "ce92087f",
   "metadata": {},
   "outputs": [
    {
     "name": "stdout",
     "output_type": "stream",
     "text": [
      "Confusion Matrix\n",
      "\n",
      "[[172   0   0   1   0   0   2   0   0   0]\n",
      " [  0 229   1   1   1   0   1   0   1   0]\n",
      " [  1   0 203   2   1   0   4   4   1   3]\n",
      " [  0   0   5 194   0   2   1   2   1   2]\n",
      " [  1   0   0   0 207   0   3   0   1   5]\n",
      " [  0   0   1   3   0 171   0   1   3   0]\n",
      " [  3   1   1   0   1   2 169   0   2   0]\n",
      " [  1   3  10   3   1   1   0 182   1   2]\n",
      " [  2   0   4   2   3   2   1   2 175   1]\n",
      " [  1   0   0   1   3   0   0   2   5 182]]\n"
     ]
    }
   ],
   "source": [
    "confusion = confusion_matrix(y_test, y_pred)\n",
    "print('Confusion Matrix\\n')\n",
    "print(confusion)"
   ]
  },
  {
   "cell_type": "code",
   "execution_count": 102,
   "id": "0790347c",
   "metadata": {},
   "outputs": [
    {
     "data": {
      "image/png": "[encoded data removed]",
      "text/plain": [
       "<Figure size 640x480 with 1 Axes>"
      ]
     },
     "metadata": {},
     "output_type": "display_data"
    }
   ],
   "source": [
    "lgb.plot_metric(model1)\n",
    "plt.ylabel('Multiclasses log Loss')\n",
    "plt.title('LightGBM - Log Loss')\n",
    "plt.show()"
   ]
  },
  {
   "cell_type": "code",
   "execution_count": 103,
   "id": "974445d0",
   "metadata": {},
   "outputs": [
    {
     "data": {
      "image/png": "[encoded data removed]",
      "text/plain": [
       "<Figure size 640x480 with 1 Axes>"
      ]
     },
     "metadata": {},
     "output_type": "display_data"
    }
   ],
   "source": [
    "lgb.plot_importance(model1, max_num_features=20)\n",
    "plt.show()"
   ]
  },
  {
   "attachments": {},
   "cell_type": "markdown",
   "id": "c6eac34a",
   "metadata": {},
   "source": [
    "Le résultat n'est pas meilleur mais la complexité du modèle a été réduite.\n",
    "Seulement 86 arbres sont utilisés.\n",
    "\n",
    "On va maintenant chercher le meilleur modèle."
   ]
  },
  {
   "cell_type": "code",
   "execution_count": 105,
   "id": "b684a252",
   "metadata": {},
   "outputs": [
    {
     "name": "stdout",
     "output_type": "stream",
     "text": [
      "Fitting 5 folds for each of 324 candidates, totalling 1620 fits\n",
      "{'boosting_type': 'gbdt', 'colsample_bytree': 0.64, 'learning_rate': 0.1, 'max_bin': 124, 'n_estimators': 48, 'num_leaves': 24}\n",
      "0.9525\n"
     ]
    }
   ],
   "source": [
    "model = LGBMClassifier(objective='multiclass')\n",
    "\n",
    "gridParams = {\n",
    "    'learning_rate': [0.005, 0.01, 0.1],\n",
    "    'n_estimators': [16,24,48],\n",
    "    'num_leaves': [12,16,24],                   # améliore l'accuracy mais peut entrainer du sur-apprentissage\n",
    "    'boosting_type' : ['gbdt','dart'],          # améliore l'accuracy\n",
    "    'max_bin':[124, 255],                       # améliore l'accuracy mais ralenti la recherche\n",
    "    'colsample_bytree' : [0.63, 0.64, 0.65],\n",
    "    }\n",
    "\n",
    "grid = GridSearchCV(estimator=model, param_grid=gridParams, verbose=1, cv=5, n_jobs=-1, scoring='accuracy')\n",
    "\n",
    "grid.fit(X_train, y_train)\n",
    "\n",
    "# Print the best paramètres trouvés\n",
    "print(grid.best_params_)\n",
    "print(grid.best_score_)"
   ]
  },
  {
   "cell_type": "code",
   "execution_count": 107,
   "id": "3058160b",
   "metadata": {},
   "outputs": [],
   "source": [
    "lightgbm_best = LGBMClassifier(\n",
    "    objective='multiclass', \n",
    "    boosting_type = 'gbdt', \n",
    "    colsample_bytree = 0.64, \n",
    "    n_estimators=48, \n",
    "    learning_rate=0.1, \n",
    "    max_bin=124, \n",
    "    num_leaves = 24, \n",
    "    random_state=0)"
   ]
  },
  {
   "cell_type": "code",
   "execution_count": 109,
   "id": "1ae1f887",
   "metadata": {},
   "outputs": [],
   "source": [
    "lightgbm_best.fit(X_train, y_train)\n",
    "y_pred = lightgbm_best.predict(X_test)"
   ]
  },
  {
   "cell_type": "code",
   "execution_count": 112,
   "id": "fde98d49",
   "metadata": {},
   "outputs": [
    {
     "data": {
      "text/plain": [
       "array([2, 1, 0, ..., 9, 5, 6], dtype=int64)"
      ]
     },
     "execution_count": 112,
     "metadata": {},
     "output_type": "execute_result"
    }
   ],
   "source": [
    "y_pred"
   ]
  },
  {
   "cell_type": "code",
   "execution_count": 110,
   "id": "7f09f62c",
   "metadata": {},
   "outputs": [
    {
     "name": "stdout",
     "output_type": "stream",
     "text": [
      "Matrice de Confusion:\n",
      "[[172   0   0   1   0   0   2   0   0   0]\n",
      " [  0 227   1   1   1   0   2   0   2   0]\n",
      " [  1   0 201   1   2   0   5   4   2   3]\n",
      " [  0   0   3 192   1   2   3   2   2   2]\n",
      " [  1   0   0   0 198   1   4   0   3  10]\n",
      " [  1   0   1   3   0 169   2   1   2   0]\n",
      " [  2   1   0   0   1   3 170   0   2   0]\n",
      " [  1   3   8   3   1   2   0 181   1   4]\n",
      " [  2   0   4   3   4   2   1   1 173   2]\n",
      " [  1   0   0   4   2   0   0   1   3 183]]\n"
     ]
    }
   ],
   "source": [
    "print(\"Matrice de Confusion:\")\n",
    "print(confusion_matrix(y_test, y_pred))"
   ]
  },
  {
   "cell_type": "code",
   "execution_count": 111,
   "id": "77e38703",
   "metadata": {},
   "outputs": [
    {
     "name": "stdout",
     "output_type": "stream",
     "text": [
      "Classification Report\n",
      "              precision    recall  f1-score   support\n",
      "\n",
      "           0       0.95      0.98      0.97       175\n",
      "           1       0.98      0.97      0.98       234\n",
      "           2       0.92      0.92      0.92       219\n",
      "           3       0.92      0.93      0.93       207\n",
      "           4       0.94      0.91      0.93       217\n",
      "           5       0.94      0.94      0.94       179\n",
      "           6       0.90      0.95      0.92       179\n",
      "           7       0.95      0.89      0.92       204\n",
      "           8       0.91      0.90      0.91       192\n",
      "           9       0.90      0.94      0.92       194\n",
      "\n",
      "    accuracy                           0.93      2000\n",
      "   macro avg       0.93      0.93      0.93      2000\n",
      "weighted avg       0.93      0.93      0.93      2000\n",
      "\n"
     ]
    }
   ],
   "source": [
    "print(\"Classification Report\")\n",
    "print(classification_report(y_test, y_pred))"
   ]
  },
  {
   "attachments": {},
   "cell_type": "markdown",
   "id": "cb871fd7",
   "metadata": {},
   "source": [
    "On obtient un très bon score de 0.93."
   ]
  }
 ],
 "metadata": {
  "kernelspec": {
   "display_name": "Python 3",
   "language": "python",
   "name": "python3"
  },
  "language_info": {
   "codemirror_mode": {
    "name": "ipython",
    "version": 3
   },
   "file_extension": ".py",
   "mimetype": "text/x-python",
   "name": "python",
   "nbconvert_exporter": "python",
   "pygments_lexer": "ipython3",
   "version": "3.11.0 (main, Oct 24 2022, 18:26:48) [MSC v.1933 64 bit (AMD64)]"
  },
  "vscode": {
   "interpreter": {
    "hash": "3c229d494069f20c3fcb5c0373f6331941eaec1d792fc1562f17e0a0636a531a"
   }
  }
 },
 "nbformat": 4,
 "nbformat_minor": 5
}
